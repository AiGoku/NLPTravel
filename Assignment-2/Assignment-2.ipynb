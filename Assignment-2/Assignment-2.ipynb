{
 "cells": [
  {
   "cell_type": "markdown",
   "metadata": {},
   "source": [
    "## 1. Re-code the house price machine learning"
   ]
  },
  {
   "cell_type": "code",
   "execution_count": 3,
   "metadata": {
    "scrolled": true
   },
   "outputs": [],
   "source": [
    "from sklearn.datasets import load_boston\n",
    "import random"
   ]
  },
  {
   "cell_type": "code",
   "execution_count": 4,
   "metadata": {},
   "outputs": [],
   "source": [
    "import matplotlib.pyplot as plt"
   ]
  },
  {
   "cell_type": "code",
   "execution_count": 5,
   "metadata": {},
   "outputs": [],
   "source": [
    "datasets = load_boston()"
   ]
  },
  {
   "cell_type": "code",
   "execution_count": 6,
   "metadata": {},
   "outputs": [],
   "source": [
    "#datasets"
   ]
  },
  {
   "cell_type": "code",
   "execution_count": 7,
   "metadata": {},
   "outputs": [
    {
     "data": {
      "text/plain": [
       "array(['CRIM', 'ZN', 'INDUS', 'CHAS', 'NOX', 'RM', 'AGE', 'DIS', 'RAD',\n",
       "       'TAX', 'PTRATIO', 'B', 'LSTAT'], dtype='<U7')"
      ]
     },
     "execution_count": 7,
     "metadata": {},
     "output_type": "execute_result"
    }
   ],
   "source": [
    "datasets.feature_names\n"
   ]
  },
  {
   "cell_type": "code",
   "execution_count": 8,
   "metadata": {},
   "outputs": [
    {
     "data": {
      "text/plain": [
       "\".. _boston_dataset:\\n\\nBoston house prices dataset\\n---------------------------\\n\\n**Data Set Characteristics:**  \\n\\n    :Number of Instances: 506 \\n\\n    :Number of Attributes: 13 numeric/categorical predictive. Median Value (attribute 14) is usually the target.\\n\\n    :Attribute Information (in order):\\n        - CRIM     per capita crime rate by town\\n        - ZN       proportion of residential land zoned for lots over 25,000 sq.ft.\\n        - INDUS    proportion of non-retail business acres per town\\n        - CHAS     Charles River dummy variable (= 1 if tract bounds river; 0 otherwise)\\n        - NOX      nitric oxides concentration (parts per 10 million)\\n        - RM       average number of rooms per dwelling\\n        - AGE      proportion of owner-occupied units built prior to 1940\\n        - DIS      weighted distances to five Boston employment centres\\n        - RAD      index of accessibility to radial highways\\n        - TAX      full-value property-tax rate per $10,000\\n        - PTRATIO  pupil-teacher ratio by town\\n        - B        1000(Bk - 0.63)^2 where Bk is the proportion of blacks by town\\n        - LSTAT    % lower status of the population\\n        - MEDV     Median value of owner-occupied homes in $1000's\\n\\n    :Missing Attribute Values: None\\n\\n    :Creator: Harrison, D. and Rubinfeld, D.L.\\n\\nThis is a copy of UCI ML housing dataset.\\nhttps://archive.ics.uci.edu/ml/machine-learning-databases/housing/\\n\\n\\nThis dataset was taken from the StatLib library which is maintained at Carnegie Mellon University.\\n\\nThe Boston house-price data of Harrison, D. and Rubinfeld, D.L. 'Hedonic\\nprices and the demand for clean air', J. Environ. Economics & Management,\\nvol.5, 81-102, 1978.   Used in Belsley, Kuh & Welsch, 'Regression diagnostics\\n...', Wiley, 1980.   N.B. Various transformations are used in the table on\\npages 244-261 of the latter.\\n\\nThe Boston house-price data has been used in many machine learning papers that address regression\\nproblems.   \\n     \\n.. topic:: References\\n\\n   - Belsley, Kuh & Welsch, 'Regression diagnostics: Identifying Influential Data and Sources of Collinearity', Wiley, 1980. 244-261.\\n   - Quinlan,R. (1993). Combining Instance-Based and Model-Based Learning. In Proceedings on the Tenth International Conference of Machine Learning, 236-243, University of Massachusetts, Amherst. Morgan Kaufmann.\\n\""
      ]
     },
     "execution_count": 8,
     "metadata": {},
     "output_type": "execute_result"
    }
   ],
   "source": [
    "datasets.DESCR"
   ]
  },
  {
   "cell_type": "code",
   "execution_count": 9,
   "metadata": {},
   "outputs": [],
   "source": [
    "x,y = datasets['data'],datasets['target']"
   ]
  },
  {
   "cell_type": "code",
   "execution_count": 10,
   "metadata": {},
   "outputs": [
    {
     "data": {
      "text/plain": [
       "(506, 13)"
      ]
     },
     "execution_count": 10,
     "metadata": {},
     "output_type": "execute_result"
    }
   ],
   "source": [
    "x.shape"
   ]
  },
  {
   "cell_type": "code",
   "execution_count": 11,
   "metadata": {},
   "outputs": [
    {
     "data": {
      "text/plain": [
       "(506,)"
      ]
     },
     "execution_count": 11,
     "metadata": {},
     "output_type": "execute_result"
    }
   ],
   "source": [
    "y.shape"
   ]
  },
  {
   "cell_type": "code",
   "execution_count": 28,
   "metadata": {},
   "outputs": [],
   "source": [
    "x_dis = x[:,7]"
   ]
  },
  {
   "cell_type": "code",
   "execution_count": 29,
   "metadata": {},
   "outputs": [
    {
     "data": {
      "text/plain": [
       "<matplotlib.collections.PathCollection at 0x1baacf868d0>"
      ]
     },
     "execution_count": 29,
     "metadata": {},
     "output_type": "execute_result"
    },
    {
     "data": {
      "image/png": "[encoded data removed]",
      "text/plain": [
       "<Figure size 432x288 with 1 Axes>"
      ]
     },
     "metadata": {
      "needs_background": "light"
     },
     "output_type": "display_data"
    }
   ],
   "source": [
    "plt.scatter(x_dis,y)"
   ]
  },
  {
   "cell_type": "code",
   "execution_count": 30,
   "metadata": {},
   "outputs": [],
   "source": [
    "def price(dis,k,b):\n",
    "    return k * dis + b"
   ]
  },
  {
   "cell_type": "markdown",
   "metadata": {},
   "source": [
    "### $$ loss = \\frac{1}{n} \\sum{|y_i - \\hat{y_i}|}$$"
   ]
  },
  {
   "cell_type": "markdown",
   "metadata": {},
   "source": [
    "### $$ loss = \\frac{1}{n} \\sum{|y_i - kx_i-b_i|}$$"
   ]
  },
  {
   "cell_type": "markdown",
   "metadata": {},
   "source": [
    "### $$ \\frac{\\partial{loss}}{\\partial{b}} = \n",
    "\\begin{cases}\n",
    "-\\frac{1}{n}\\sum(x_i)     &y_i > {\\hat{y_i } }\\\\\n",
    "\\frac{1}{n}\\sum(x_i)      &y_i < {\\hat{y_i } }\\\\\n",
    "\\end{cases}$$\n"
   ]
  },
  {
   "cell_type": "markdown",
   "metadata": {},
   "source": [
    "### $$ \\frac{\\partial{loss}}{\\partial{b}} = 1$$\n"
   ]
  },
  {
   "cell_type": "code",
   "execution_count": 31,
   "metadata": {},
   "outputs": [],
   "source": [
    "def loss(y,y_hat):\n",
    "    return sum((abs(y_i-y_hat_i)) for y_i,y_hat_i in zip(list(y),list(y_hat)))/len(list(y))"
   ]
  },
  {
   "cell_type": "code",
   "execution_count": 611,
   "metadata": {},
   "outputs": [],
   "source": [
    "def partial_derivative_k(x, y, y_hat):\n",
    "    n = len(y)\n",
    "    gradient = 0\n",
    "    for x_i, y_i, y_hat_i in zip(list(x),list(y),list(y_hat)):\n",
    "        if(y_i>y_hat_i):\n",
    "            gradient += -x_i\n",
    "        else:\n",
    "            gradient += x_i\n",
    "    return 1/n * gradient\n",
    "\n",
    "def partial_derivative_b(x, y, y_hat):\n",
    "    n = len(y)\n",
    "    gradient = 0\n",
    "    for x_i, y_i, y_hat_i in zip(list(x),list(y),list(y_hat)):\n",
    "        if(y_i>y_hat_i):\n",
    "            gradient += -1\n",
    "        else:\n",
    "            gradient += 1\n",
    "    return 1/n * gradient"
   ]
  },
  {
   "cell_type": "code",
   "execution_count": 613,
   "metadata": {},
   "outputs": [
    {
     "name": "stdout",
     "output_type": "stream",
     "text": [
      "Iteration 0, the loss is 175.84467545377618, parameters k is 44.58435876562482 and b is 27.637702156329674\n",
      "Iteration 1, the loss is 174.30444055359362, parameters k is 44.20485449685012 and b is 27.537702156329672\n",
      "Iteration 2, the loss is 172.7642056534115, parameters k is 43.825350228075415 and b is 27.43770215632967\n",
      "Iteration 3, the loss is 171.2239707532294, parameters k is 43.44584595930071 and b is 27.33770215632967\n",
      "Iteration 4, the loss is 169.6837358530473, parameters k is 43.06634169052601 and b is 27.237702156329668\n",
      "Iteration 5, the loss is 168.14350095286503, parameters k is 42.68683742175131 and b is 27.137702156329667\n",
      "Iteration 6, the loss is 166.6032660526828, parameters k is 42.307333152976604 and b is 27.037702156329665\n",
      "Iteration 7, the loss is 165.0630311525005, parameters k is 41.9278288842019 and b is 26.937702156329664\n",
      "Iteration 8, the loss is 163.5227962523182, parameters k is 41.5483246154272 and b is 26.837702156329662\n",
      "Iteration 9, the loss is 161.98256135213617, parameters k is 41.168820346652495 and b is 26.73770215632966\n",
      "Iteration 10, the loss is 160.44232645195393, parameters k is 40.78931607787779 and b is 26.63770215632966\n",
      "Iteration 11, the loss is 158.90209155177186, parameters k is 40.40981180910309 and b is 26.537702156329658\n",
      "Iteration 12, the loss is 157.36185665158925, parameters k is 40.03030754032839 and b is 26.437702156329657\n",
      "Iteration 13, the loss is 155.82162175140726, parameters k is 39.650803271553684 and b is 26.337702156329655\n",
      "Iteration 14, the loss is 154.28138685122502, parameters k is 39.27129900277898 and b is 26.237702156329654\n",
      "Iteration 15, the loss is 152.74115195104292, parameters k is 38.89179473400428 and b is 26.137702156329652\n",
      "Iteration 16, the loss is 151.20091705086065, parameters k is 38.512290465229576 and b is 26.03770215632965\n",
      "Iteration 17, the loss is 149.66068215067835, parameters k is 38.13278619645487 and b is 25.93770215632965\n",
      "Iteration 18, the loss is 148.12044725049608, parameters k is 37.75328192768017 and b is 25.837702156329648\n",
      "Iteration 19, the loss is 146.5802123503141, parameters k is 37.37377765890547 and b is 25.737702156329647\n",
      "Iteration 20, the loss is 145.03997745013166, parameters k is 36.994273390130765 and b is 25.637702156329645\n",
      "Iteration 21, the loss is 143.49974254994953, parameters k is 36.61476912135606 and b is 25.537702156329644\n",
      "Iteration 22, the loss is 141.95950764976746, parameters k is 36.23526485258136 and b is 25.437702156329642\n",
      "Iteration 23, the loss is 140.41927274958508, parameters k is 35.855760583806656 and b is 25.33770215632964\n",
      "Iteration 24, the loss is 138.87903784940278, parameters k is 35.476256315031954 and b is 25.23770215632964\n",
      "Iteration 25, the loss is 137.33880294922054, parameters k is 35.09675204625725 and b is 25.137702156329638\n",
      "Iteration 26, the loss is 135.79856804903844, parameters k is 34.71724777748255 and b is 25.037702156329637\n",
      "Iteration 27, the loss is 134.25833314885628, parameters k is 34.337743508707845 and b is 24.937702156329635\n",
      "Iteration 28, the loss is 132.71809824867393, parameters k is 33.95823923993314 and b is 24.837702156329634\n",
      "Iteration 29, the loss is 131.1778633484916, parameters k is 33.57873497115844 and b is 24.737702156329632\n",
      "Iteration 30, the loss is 129.6376284483094, parameters k is 33.19923070238374 and b is 24.63770215632963\n",
      "Iteration 31, the loss is 128.0973935481272, parameters k is 32.819726433609034 and b is 24.53770215632963\n",
      "Iteration 32, the loss is 126.55715864794509, parameters k is 32.44022216483433 and b is 24.437702156329628\n",
      "Iteration 33, the loss is 125.01692374776272, parameters k is 32.06071789605963 and b is 24.337702156329627\n",
      "Iteration 34, the loss is 123.47668884758039, parameters k is 31.681213627284926 and b is 24.237702156329625\n",
      "Iteration 35, the loss is 121.93645394739828, parameters k is 31.301709358510223 and b is 24.137702156329624\n",
      "Iteration 36, the loss is 120.3962190472161, parameters k is 30.92220508973552 and b is 24.037702156329622\n",
      "Iteration 37, the loss is 118.85598414703391, parameters k is 30.542700820960818 and b is 23.93770215632962\n",
      "Iteration 38, the loss is 117.31574924685185, parameters k is 30.163196552186115 and b is 23.83770215632962\n",
      "Iteration 39, the loss is 115.77551434666944, parameters k is 29.783692283411412 and b is 23.737702156329618\n",
      "Iteration 40, the loss is 114.23527944648737, parameters k is 29.40418801463671 and b is 23.637702156329617\n",
      "Iteration 41, the loss is 112.69504454630496, parameters k is 29.024683745862006 and b is 23.537702156329615\n",
      "Iteration 42, the loss is 111.15480964612291, parameters k is 28.645179477087304 and b is 23.437702156329614\n",
      "Iteration 43, the loss is 109.61457474594049, parameters k is 28.2656752083126 and b is 23.337702156329613\n",
      "Iteration 44, the loss is 108.07433984575825, parameters k is 27.886170939537898 and b is 23.23770215632961\n",
      "Iteration 45, the loss is 106.53410494557596, parameters k is 27.506666670763195 and b is 23.13770215632961\n",
      "Iteration 46, the loss is 104.99387004539382, parameters k is 27.127162401988492 and b is 23.03770215632961\n",
      "Iteration 47, the loss is 103.45363514521172, parameters k is 26.74765813321379 and b is 22.937702156329607\n",
      "Iteration 48, the loss is 101.9134002450294, parameters k is 26.368153864439087 and b is 22.837702156329605\n",
      "Iteration 49, the loss is 100.37316534484718, parameters k is 25.988649595664384 and b is 22.737702156329604\n",
      "Iteration 50, the loss is 98.8329304446651, parameters k is 25.60914532688968 and b is 22.637702156329603\n",
      "Iteration 51, the loss is 97.29269554448275, parameters k is 25.22964105811498 and b is 22.5377021563296\n",
      "Iteration 52, the loss is 95.75246064430051, parameters k is 24.850136789340276 and b is 22.4377021563296\n",
      "Iteration 53, the loss is 94.21222574411819, parameters k is 24.470632520565573 and b is 22.3377021563296\n",
      "Iteration 54, the loss is 92.67207096784303, parameters k is 24.091574734004308 and b is 22.238097413246596\n",
      "Iteration 55, the loss is 91.13601186386934, parameters k is 23.712516947443042 and b is 22.138492670163593\n",
      "Iteration 56, the loss is 89.600502972412, parameters k is 23.333921255743437 and b is 22.039283183997586\n",
      "Iteration 57, the loss is 88.06873077322366, parameters k is 22.955325564043832 and b is 21.94007369783158\n",
      "Iteration 58, the loss is 86.53877060108664, parameters k is 22.577205129261223 and b is 21.841259468582567\n",
      "Iteration 59, the loss is 85.01137745006405, parameters k is 22.199084694478614 and b is 21.742445239333556\n",
      "Iteration 60, the loss is 83.48398429904131, parameters k is 21.820964259696005 and b is 21.643631010084544\n",
      "Iteration 61, the loss is 81.95659114801877, parameters k is 21.442843824913396 and b is 21.544816780835532\n",
      "Iteration 62, the loss is 80.42919799699598, parameters k is 21.064723390130787 and b is 21.44600255158652\n",
      "Iteration 63, the loss is 78.90372284412001, parameters k is 20.687129635190075 and b is 21.347583579254504\n",
      "Iteration 64, the loss is 77.38340641248098, parameters k is 20.310072125308654 and b is 21.249559863839483\n",
      "Iteration 65, the loss is 75.86559626706352, parameters k is 19.933014615427233 and b is 21.151536148424462\n",
      "Iteration 66, the loss is 74.3477861216461, parameters k is 19.55595710554581 and b is 21.05351243300944\n",
      "Iteration 67, the loss is 72.82997597622871, parameters k is 19.17889959566439 and b is 20.95548871759442\n",
      "Iteration 68, the loss is 71.31216583081118, parameters k is 18.80184208578297 and b is 20.8574650021794\n",
      "Iteration 69, the loss is 69.79435568539378, parameters k is 18.424784575901548 and b is 20.75944128676438\n",
      "Iteration 70, the loss is 68.2765455399763, parameters k is 18.047727066020126 and b is 20.661417571349357\n",
      "Iteration 71, the loss is 66.75873539455888, parameters k is 17.670669556138705 and b is 20.563393855934336\n",
      "Iteration 72, the loss is 65.24092524914148, parameters k is 17.293612046257284 and b is 20.465370140519315\n",
      "Iteration 73, the loss is 63.723115103724, parameters k is 16.916554536375862 and b is 20.367346425104294\n",
      "Iteration 74, the loss is 62.20530495830656, parameters k is 16.53949702649444 and b is 20.269322709689273\n",
      "Iteration 75, the loss is 60.68749481288915, parameters k is 16.16243951661302 and b is 20.171298994274252\n",
      "Iteration 76, the loss is 59.17253110002627, parameters k is 15.786093864439106 and b is 20.07367053577623\n",
      "Iteration 77, the loss is 57.66085744183724, parameters k is 15.409748212265193 and b is 19.97604207727821\n",
      "Iteration 78, the loss is 56.14918378364808, parameters k is 15.033402560091279 and b is 19.878413618780186\n",
      "Iteration 79, the loss is 54.63945579057978, parameters k is 14.657835919775074 and b is 19.78118041719916\n",
      "Iteration 80, the loss is 53.13653206319379, parameters k is 14.283884536375865 and b is 19.684737729452124\n",
      "Iteration 81, the loss is 51.64512377153327, parameters k is 13.909933152976656 and b is 19.588295041705088\n",
      "Iteration 82, the loss is 50.155053145807706, parameters k is 13.536836315031993 and b is 19.492247610875047\n",
      "Iteration 83, the loss is 48.67078955127413, parameters k is 13.16373947708733 and b is 19.396200180045007\n",
      "Iteration 84, the loss is 47.186525956740645, parameters k is 12.790642639142666 and b is 19.300152749214966\n",
      "Iteration 85, the loss is 45.70316537236947, parameters k is 12.418450346652548 and b is 19.20450057530192\n",
      "Iteration 86, the loss is 44.2292585914524, parameters k is 12.047215208312627 and b is 19.109243658305875\n",
      "Iteration 87, the loss is 42.76036450971393, parameters k is 11.675980069972706 and b is 19.01398674130983\n",
      "Iteration 88, the loss is 41.29291981877907, parameters k is 11.305486947443061 and b is 18.919125081230778\n",
      "Iteration 89, the loss is 39.830280934831855, parameters k is 10.934993824913416 and b is 18.824263421151727\n",
      "Iteration 90, the loss is 38.37110859947088, parameters k is 10.56534647313476 and b is 18.72979701798967\n",
      "Iteration 91, the loss is 36.91820467520876, parameters k is 10.196843152976657 and b is 18.63572587174461\n",
      "Iteration 92, the loss is 35.4717638999747, parameters k is 9.828339832818553 and b is 18.54165472549955\n",
      "Iteration 93, the loss is 34.02538447051674, parameters k is 9.461101018589304 and b is 18.447978836171487\n",
      "Iteration 94, the loss is 32.58898928133766, parameters k is 9.093862204360054 and b is 18.354302946843422\n",
      "Iteration 95, the loss is 31.15707836734493, parameters k is 8.729279160881793 and b is 18.261812828266347\n",
      "Iteration 96, the loss is 29.74298902674103, parameters k is 8.365831295269146 and b is 18.169717966606267\n",
      "Iteration 97, the loss is 28.338395959489727, parameters k is 8.003717461277052 and b is 18.078018361863183\n",
      "Iteration 98, the loss is 26.946969211492537, parameters k is 7.643047066020135 and b is 17.986714014037098\n",
      "Iteration 99, the loss is 25.566544320067578, parameters k is 7.283968054162428 and b is 17.896200180045003\n",
      "Iteration 100, the loss is 24.200365582059796, parameters k is 6.928172797245432 and b is 17.806872116803895\n",
      "Iteration 101, the loss is 22.856226907845677, parameters k is 6.573404378273101 and b is 17.717939310479785\n",
      "Iteration 102, the loss is 21.522619627886378, parameters k is 6.220333390130809 and b is 17.629797017989667\n",
      "Iteration 103, the loss is 20.202954309089925, parameters k is 5.871624141118951 and b is 17.542840496250538\n",
      "Iteration 104, the loss is 18.930639100210147, parameters k is 5.531721374320532 and b is 17.45865077293038\n",
      "Iteration 105, the loss is 17.70954352404334, parameters k is 5.194051176692074 and b is 17.374856306527217\n",
      "Iteration 106, the loss is 16.515852991515597, parameters k is 4.862603232028043 and b is 17.29264286779204\n",
      "Iteration 107, the loss is 15.35453903534448, parameters k is 4.533381413846225 and b is 17.211219942890853\n",
      "Iteration 108, the loss is 14.207531046158898, parameters k is 4.20713082096085 and b is 17.13058753182366\n",
      "Iteration 109, the loss is 13.088178691842485, parameters k is 3.888762797245435 and b is 17.05193140534145\n",
      "Iteration 110, the loss is 12.029082895788996, parameters k is 3.585198054162431 and b is 16.977227848029194\n",
      "Iteration 111, the loss is 11.060583186778084, parameters k is 3.285639279458874 and b is 16.90371006146793\n",
      "Iteration 112, the loss is 10.149177681116324, parameters k is 3.011369318984566 and b is 16.836911642495597\n",
      "Iteration 113, the loss is 9.373773926510196, parameters k is 2.750715643095238 and b is 16.77367053577623\n",
      "Iteration 114, the loss is 8.680396874308983, parameters k is 2.504686986968756 and b is 16.714381998226823\n",
      "Iteration 115, the loss is 8.052544858459196, parameters k is 2.2659080146367403 and b is 16.657069745262397\n",
      "Iteration 116, the loss is 7.477625953153066, parameters k is 2.056767698431207 and b is 16.607267373720894\n",
      "Iteration 117, the loss is 7.053014676876625, parameters k is 1.8820735482335784 and b is 16.565370140519313\n",
      "Iteration 118, the loss is 6.7580032968294175, parameters k is 1.73194544546678 and b is 16.530192274906664\n",
      "Iteration 119, the loss is 6.55151959879449, parameters k is 1.6209615719489934 and b is 16.503710061467928\n",
      "Iteration 120, the loss is 6.426639403707364, parameters k is 1.5162773426999816 and b is 16.47959938953117\n",
      "Iteration 121, the loss is 6.320855258811718, parameters k is 1.4295200304470173 and b is 16.45944128676437\n",
      "Iteration 122, the loss is 6.248553194185348, parameters k is 1.3590446154272544 and b is 16.442840496250536\n",
      "Iteration 123, the loss is 6.1988064399273926, parameters k is 1.2982897142414838 and b is 16.429006504155673\n",
      "Iteration 124, the loss is 6.164054923409287, parameters k is 1.252598488945041 and b is 16.41912508123077\n",
      "Iteration 125, the loss is 6.142378660991245, parameters k is 1.2096008209608513 and b is 16.409638915222864\n",
      "Iteration 126, the loss is 6.1253877998656, parameters k is 1.1755418486288356 and b is 16.401733776882942\n",
      "Iteration 127, the loss is 6.115466421778796, parameters k is 1.154697975111049 and b is 16.39699069387899\n",
      "Iteration 128, the loss is 6.11177591946895, parameters k is 1.1437099118699423 and b is 16.39422389546002\n",
      "Iteration 129, the loss is 6.110752013525117, parameters k is 1.1371958011980055 and b is 16.39224761087504\n",
      "Iteration 130, the loss is 6.110369811699323, parameters k is 1.131893745862037 and b is 16.390666583207054\n",
      "Iteration 131, the loss is 6.110288665413068, parameters k is 1.1315402280754758 and b is 16.39027132629006\n",
      "Iteration 132, the loss is 6.110285853384508, parameters k is 1.1311867102889146 and b is 16.389876069373063\n",
      "Iteration 133, the loss is 6.110283041355951, parameters k is 1.1308331925023534 and b is 16.389480812456068\n",
      "Iteration 134, the loss is 6.11028022932739, parameters k is 1.1304796747157921 and b is 16.389085555539072\n",
      "Iteration 135, the loss is 6.110289910598593, parameters k is 1.1363911766920767 and b is 16.389480812456068\n",
      "Iteration 136, the loss is 6.110315602755381, parameters k is 1.135093508707887 and b is 16.388690298622077\n",
      "Iteration 137, the loss is 6.110292514212189, parameters k is 1.1337958407236974 and b is 16.387899784788086\n",
      "Iteration 138, the loss is 6.110284453694593, parameters k is 1.1334423229371362 and b is 16.38750452787109\n",
      "Iteration 139, the loss is 6.110281641666035, parameters k is 1.133088805150575 and b is 16.387109270954095\n",
      "Iteration 140, the loss is 6.110278829637479, parameters k is 1.1327352873640137 and b is 16.3867140140371\n",
      "Iteration 141, the loss is 6.110276017608912, parameters k is 1.1323817695774525 and b is 16.386318757120105\n",
      "Iteration 142, the loss is 6.110273205580354, parameters k is 1.1320282517908913 and b is 16.38592350020311\n",
      "Iteration 143, the loss is 6.110270393551799, parameters k is 1.13167473400433 and b is 16.385528243286114\n",
      "Iteration 144, the loss is 6.110268036255576, parameters k is 1.1327931529766622 and b is 16.385528243286114\n",
      "Iteration 145, the loss is 6.110271535333231, parameters k is 1.132439635190101 and b is 16.38513298636912\n",
      "Iteration 146, the loss is 6.110268723304677, parameters k is 1.1320861174035397 and b is 16.384737729452123\n",
      "Iteration 147, the loss is 6.110265911276125, parameters k is 1.1317325996169785 and b is 16.384342472535128\n",
      "Iteration 148, the loss is 6.110267389075595, parameters k is 1.1328510185893106 and b is 16.384342472535128\n",
      "Iteration 149, the loss is 6.11026705305755, parameters k is 1.1324975008027494 and b is 16.383947215618132\n",
      "Iteration 150, the loss is 6.1102642410289985, parameters k is 1.1321439830161881 and b is 16.383551958701137\n",
      "Iteration 151, the loss is 6.110262788085599, parameters k is 1.1332624019885202 and b is 16.383551958701137\n",
      "Iteration 152, the loss is 6.110265382810431, parameters k is 1.132908884201959 and b is 16.38315670178414\n",
      "Iteration 153, the loss is 6.110262570781868, parameters k is 1.1325553664153978 and b is 16.382761444867146\n",
      "Iteration 154, the loss is 6.11025975875332, parameters k is 1.1322018486288365 and b is 16.38236618795015\n",
      "Iteration 155, the loss is 6.110262140905608, parameters k is 1.1333202676011687 and b is 16.38236618795015\n",
      "Iteration 156, the loss is 6.110260900534756, parameters k is 1.1329667498146074 and b is 16.381970931033155\n",
      "Iteration 157, the loss is 6.110258088506193, parameters k is 1.1326132320280462 and b is 16.38157567411616\n",
      "Iteration 158, the loss is 6.110257539915628, parameters k is 1.1337316510003783 and b is 16.38157567411616\n",
      "Iteration 159, the loss is 6.110259230287633, parameters k is 1.133378133213817 and b is 16.381180417199165\n",
      "Iteration 160, the loss is 6.110256418259081, parameters k is 1.1330246154272559 and b is 16.38078516028217\n",
      "Iteration 161, the loss is 6.110253606230503, parameters k is 1.1326710976406946 and b is 16.380389903365174\n",
      "Iteration 162, the loss is 6.110256892735638, parameters k is 1.1337895166130267 and b is 16.380389903365174\n",
      "Iteration 163, the loss is 6.110254748011951, parameters k is 1.1334359988264655 and b is 16.37999464644818\n",
      "Iteration 164, the loss is 6.110251935983392, parameters k is 1.1330824810399043 and b is 16.379599389531183\n",
      "Iteration 165, the loss is 6.110252291745647, parameters k is 1.1342009000122364 and b is 16.379599389531183\n",
      "Iteration 166, the loss is 6.110253077764824, parameters k is 1.1338473822256752 and b is 16.379204132614188\n",
      "Iteration 167, the loss is 6.11025026573628, parameters k is 1.133493864439114 and b is 16.378808875697192\n",
      "Iteration 168, the loss is 6.11024769075566, parameters k is 1.134612283411446 and b is 16.378808875697192\n",
      "Iteration 169, the loss is 6.110251407517715, parameters k is 1.1342587656248848 and b is 16.378413618780197\n",
      "Iteration 170, the loss is 6.1102485954891534, parameters k is 1.1339052478383236 and b is 16.3780183618632\n",
      "Iteration 171, the loss is 6.110245783460593, parameters k is 1.1335517300517624 and b is 16.377623104946206\n",
      "Iteration 172, the loss is 6.11024704357567, parameters k is 1.1346701490240945 and b is 16.377623104946206\n",
      "Iteration 173, the loss is 6.110246925242033, parameters k is 1.1343166312375332 and b is 16.37722784802921\n",
      "Iteration 174, the loss is 6.1102441132134695, parameters k is 1.133963113450972 and b is 16.376832591112215\n",
      "Iteration 175, the loss is 6.110242442585689, parameters k is 1.1350815324233041 and b is 16.376832591112215\n",
      "Iteration 176, the loss is 6.110245254994909, parameters k is 1.1347280146367429 and b is 16.37643733419522\n",
      "Iteration 177, the loss is 6.110242442966349, parameters k is 1.1343744968501817 and b is 16.376042077278225\n",
      "Iteration 178, the loss is 6.110239630937794, parameters k is 1.1340209790636204 and b is 16.37564682036123\n",
      "Iteration 179, the loss is 6.1102417954057, parameters k is 1.1351393980359525 and b is 16.37564682036123\n",
      "Iteration 180, the loss is 6.110240772719225, parameters k is 1.1347858802493913 and b is 16.375251563444234\n",
      "Iteration 181, the loss is 6.1102379606906645, parameters k is 1.13443236246283 and b is 16.37485630652724\n",
      "Iteration 182, the loss is 6.1102371944157134, parameters k is 1.1355507814351622 and b is 16.37485630652724\n",
      "Iteration 183, the loss is 6.110239102472105, parameters k is 1.135197263648601 and b is 16.374461049610243\n",
      "Iteration 184, the loss is 6.110236290443545, parameters k is 1.1348437458620397 and b is 16.374065792693248\n",
      "Iteration 185, the loss is 6.11023347841499, parameters k is 1.1344902280754785 and b is 16.373670535776252\n",
      "Iteration 186, the loss is 6.110236547235724, parameters k is 1.1356086470478106 and b is 16.373670535776252\n",
      "Iteration 187, the loss is 6.11023462019643, parameters k is 1.1352551292612494 and b is 16.373275278859257\n",
      "Iteration 188, the loss is 6.1102318081678675, parameters k is 1.1349016114746882 and b is 16.37288002194226\n",
      "Iteration 189, the loss is 6.110231946245732, parameters k is 1.1360200304470203 and b is 16.37288002194226\n",
      "Iteration 190, the loss is 6.110232949949307, parameters k is 1.135666512660459 and b is 16.372484765025266\n",
      "Iteration 191, the loss is 6.1102301379207535, parameters k is 1.1353129948738978 and b is 16.37208950810827\n",
      "Iteration 192, the loss is 6.110227345255751, parameters k is 1.13643141384623 and b is 16.37208950810827\n",
      "Iteration 193, the loss is 6.11023127970219, parameters k is 1.1360778960596687 and b is 16.371694251191276\n",
      "Iteration 194, the loss is 6.11022846767362, parameters k is 1.1357243782731075 and b is 16.37129899427428\n",
      "Iteration 195, the loss is 6.110225655645071, parameters k is 1.1353708604865462 and b is 16.370903737357285\n",
      "Iteration 196, the loss is 6.110226698075754, parameters k is 1.1364892794588783 and b is 16.370903737357285\n",
      "Iteration 197, the loss is 6.110226797426507, parameters k is 1.1361357616723171 and b is 16.37050848044029\n",
      "Iteration 198, the loss is 6.11022398539795, parameters k is 1.1357822438857559 and b is 16.370113223523294\n",
      "Iteration 199, the loss is 6.110222097085774, parameters k is 1.136900662858088 and b is 16.370113223523294\n",
      "Iteration 200, the loss is 6.110225127179383, parameters k is 1.1365471450715268 and b is 16.3697179666063\n",
      "Iteration 201, the loss is 6.11022231515082, parameters k is 1.1361936272849655 and b is 16.369322709689303\n",
      "Iteration 202, the loss is 6.110219503122262, parameters k is 1.1358401094984043 and b is 16.368927452772308\n",
      "Iteration 203, the loss is 6.110221449905786, parameters k is 1.1369585284707364 and b is 16.368927452772308\n",
      "Iteration 204, the loss is 6.1102206449037, parameters k is 1.1366050106841752 and b is 16.368532195855312\n",
      "Iteration 205, the loss is 6.110217832875148, parameters k is 1.136251492897614 and b is 16.368136938938317\n",
      "Iteration 206, the loss is 6.110216848915791, parameters k is 1.137369911869946 and b is 16.368136938938317\n",
      "Iteration 207, the loss is 6.110218974656584, parameters k is 1.1370163940833848 and b is 16.36774168202132\n",
      "Iteration 208, the loss is 6.110216162628021, parameters k is 1.1366628762968236 and b is 16.367346425104326\n",
      "Iteration 209, the loss is 6.110213350599461, parameters k is 1.1363093585102624 and b is 16.36695116818733\n",
      "Iteration 210, the loss is 6.110216201735804, parameters k is 1.1374277774825945 and b is 16.36695116818733\n",
      "Iteration 211, the loss is 6.110214492380898, parameters k is 1.1370742596960333 and b is 16.366555911270336\n",
      "Iteration 212, the loss is 6.11021168035234, parameters k is 1.136720741909472 and b is 16.36616065435334\n",
      "Iteration 213, the loss is 6.110211600745822, parameters k is 1.1378391608818041 and b is 16.36616065435334\n",
      "Iteration 214, the loss is 6.110212822133787, parameters k is 1.137485643095243 and b is 16.365765397436345\n",
      "Iteration 215, the loss is 6.1102100101052175, parameters k is 1.1371321253086817 and b is 16.36537014051935\n",
      "Iteration 216, the loss is 6.110207198076665, parameters k is 1.1367786075221205 and b is 16.364974883602354\n",
      "Iteration 217, the loss is 6.11021095356583, parameters k is 1.1378970264944526 and b is 16.364974883602354\n",
      "Iteration 218, the loss is 6.110208339858099, parameters k is 1.1375435087078913 and b is 16.36457962668536\n",
      "Iteration 219, the loss is 6.1102055278295415, parameters k is 1.13718999092133 and b is 16.364184369768363\n",
      "Iteration 220, the loss is 6.110206352575849, parameters k is 1.1383084098936622 and b is 16.364184369768363\n",
      "Iteration 221, the loss is 6.11020666961097, parameters k is 1.137954892107101 and b is 16.363789112851368\n",
      "Iteration 222, the loss is 6.11020385758242, parameters k is 1.1376013743205398 and b is 16.363393855934373\n",
      "Iteration 223, the loss is 6.110201751585863, parameters k is 1.1387197932928719 and b is 16.363393855934373\n",
      "Iteration 224, the loss is 6.110204999363857, parameters k is 1.1383662755063106 and b is 16.362998599017377\n",
      "Iteration 225, the loss is 6.110202187335297, parameters k is 1.1380127577197494 and b is 16.362603342100382\n",
      "Iteration 226, the loss is 6.110199375306739, parameters k is 1.1376592399331882 and b is 16.362208085183386\n",
      "Iteration 227, the loss is 6.1102011044058715, parameters k is 1.1387776589055203 and b is 16.362208085183386\n",
      "Iteration 228, the loss is 6.110200517088172, parameters k is 1.138424141118959 and b is 16.36181282826639\n",
      "Iteration 229, the loss is 6.110197705059615, parameters k is 1.1380706233323978 and b is 16.361417571349396\n",
      "Iteration 230, the loss is 6.110196503415882, parameters k is 1.13918904230473 and b is 16.361417571349396\n",
      "Iteration 231, the loss is 6.110198846841047, parameters k is 1.1388355245181687 and b is 16.3610223144324\n",
      "Iteration 232, the loss is 6.1101960348124935, parameters k is 1.1384820067316075 and b is 16.360627057515405\n",
      "Iteration 233, the loss is 6.110193222783942, parameters k is 1.1381284889450463 and b is 16.36023180059841\n",
      "Iteration 234, the loss is 6.110195856235893, parameters k is 1.1392469079173784 and b is 16.36023180059841\n",
      "Iteration 235, the loss is 6.110194364565371, parameters k is 1.1388933901308171 and b is 16.359836543681414\n",
      "Iteration 236, the loss is 6.11019155253682, parameters k is 1.138539872344256 and b is 16.35944128676442\n",
      "Iteration 237, the loss is 6.110191255245907, parameters k is 1.139658291316588 and b is 16.35944128676442\n",
      "Iteration 238, the loss is 6.110192694318259, parameters k is 1.1393047735300268 and b is 16.359046029847423\n",
      "Iteration 239, the loss is 6.110189882289685, parameters k is 1.1389512557434656 and b is 16.358650772930428\n",
      "Iteration 240, the loss is 6.110187070261137, parameters k is 1.1385977379569043 and b is 16.358255516013433\n",
      "Iteration 241, the loss is 6.110190608065919, parameters k is 1.1397161569292364 and b is 16.358255516013433\n",
      "Iteration 242, the loss is 6.110188212042569, parameters k is 1.1393626391426752 and b is 16.357860259096437\n",
      "Iteration 243, the loss is 6.110185400014017, parameters k is 1.139009121356114 and b is 16.357465002179442\n",
      "Iteration 244, the loss is 6.110186007075937, parameters k is 1.140127540328446 and b is 16.357465002179442\n",
      "Iteration 245, the loss is 6.110186541795446, parameters k is 1.1397740225418849 and b is 16.357069745262447\n",
      "Iteration 246, the loss is 6.1101837297668915, parameters k is 1.1394205047553236 and b is 16.35667448834545\n",
      "Iteration 247, the loss is 6.110181406085946, parameters k is 1.1405389237276558 and b is 16.35667448834545\n",
      "Iteration 248, the loss is 6.110184871548329, parameters k is 1.1401854059410945 and b is 16.356279231428456\n",
      "Iteration 249, the loss is 6.110182059519778, parameters k is 1.1398318881545333 and b is 16.35588397451146\n",
      "Iteration 250, the loss is 6.110179247491212, parameters k is 1.139478370367972 and b is 16.355488717594465\n",
      "Iteration 251, the loss is 6.110180758905959, parameters k is 1.1405967893403042 and b is 16.355488717594465\n",
      "Iteration 252, the loss is 6.110180389272647, parameters k is 1.140243271553743 and b is 16.35509346067747\n",
      "Iteration 253, the loss is 6.110177577244098, parameters k is 1.1398897537671817 and b is 16.354698203760474\n",
      "Iteration 254, the loss is 6.110176157915969, parameters k is 1.1410081727395138 and b is 16.354698203760474\n",
      "Iteration 255, the loss is 6.110178719025525, parameters k is 1.1406546549529526 and b is 16.35430294684348\n",
      "Iteration 256, the loss is 6.110175906996969, parameters k is 1.1403011371663914 and b is 16.353907689926483\n",
      "Iteration 257, the loss is 6.110173094968415, parameters k is 1.1399476193798301 and b is 16.353512433009488\n",
      "Iteration 258, the loss is 6.110175510735977, parameters k is 1.1410660383521622 and b is 16.353512433009488\n",
      "Iteration 259, the loss is 6.110174236749851, parameters k is 1.140712520565601 and b is 16.353117176092493\n",
      "Iteration 260, the loss is 6.110171424721289, parameters k is 1.1403590027790398 and b is 16.352721919175497\n",
      "Iteration 261, the loss is 6.110170909745999, parameters k is 1.141477421751372 and b is 16.352721919175497\n",
      "Iteration 262, the loss is 6.110172566502726, parameters k is 1.1411239039648107 and b is 16.352326662258502\n",
      "Iteration 263, the loss is 6.11016975447417, parameters k is 1.1407703861782494 and b is 16.351931405341507\n",
      "Iteration 264, the loss is 6.110166942445608, parameters k is 1.1404168683916882 and b is 16.35153614842451\n",
      "Iteration 265, the loss is 6.110170262566004, parameters k is 1.1415352873640203 and b is 16.35153614842451\n",
      "Iteration 266, the loss is 6.110168084227047, parameters k is 1.141181769577459 and b is 16.351140891507516\n",
      "Iteration 267, the loss is 6.11016527219849, parameters k is 1.1408282517908979 and b is 16.35074563459052\n",
      "Iteration 268, the loss is 6.110165661576013, parameters k is 1.14194667076323 and b is 16.35074563459052\n",
      "Iteration 269, the loss is 6.110166413979929, parameters k is 1.1415931529766687 and b is 16.350350377673525\n",
      "Iteration 270, the loss is 6.11016360195137, parameters k is 1.1412396351901075 and b is 16.34995512075653\n",
      "Iteration 271, the loss is 6.110161060586027, parameters k is 1.1423580541624396 and b is 16.34995512075653\n",
      "Iteration 272, the loss is 6.110164743732803, parameters k is 1.1420045363758784 and b is 16.349559863839534\n",
      "Iteration 273, the loss is 6.110161931704248, parameters k is 1.1416510185893172 and b is 16.34916460692254\n",
      "Iteration 274, the loss is 6.110159119675686, parameters k is 1.141297500802756 and b is 16.348769350005544\n",
      "Iteration 275, the loss is 6.110160413406038, parameters k is 1.142415919775088 and b is 16.348769350005544\n",
      "Iteration 276, the loss is 6.110160261457124, parameters k is 1.1420624019885268 and b is 16.348374093088548\n",
      "Iteration 277, the loss is 6.110157449428566, parameters k is 1.1417088842019656 and b is 16.347978836171553\n",
      "Iteration 278, the loss is 6.110155812416061, parameters k is 1.1428273031742977 and b is 16.347978836171553\n",
      "Iteration 279, the loss is 6.110163055832777, parameters k is 1.1395501885497918 and b is 16.347188322337562\n",
      "Iteration 280, the loss is 6.110179955677785, parameters k is 1.140668607522124 and b is 16.347188322337562\n",
      "Iteration 281, the loss is 6.1101674470678065, parameters k is 1.141787026494456 and b is 16.347188322337562\n",
      "Iteration 282, the loss is 6.110154938457836, parameters k is 1.1429054454667882 and b is 16.347188322337562\n",
      "Iteration 283, the loss is 6.110159367524057, parameters k is 1.1396283308422823 and b is 16.34639780850357\n",
      "Iteration 284, the loss is 6.110179081719561, parameters k is 1.1407467498146144 and b is 16.34639780850357\n",
      "Iteration 285, the loss is 6.110166573109579, parameters k is 1.1418651687869465 and b is 16.34639780850357\n",
      "Iteration 286, the loss is 6.110154064499607, parameters k is 1.1429835877592787 and b is 16.34639780850357\n",
      "Iteration 287, the loss is 6.110155679215329, parameters k is 1.1397064731347728 and b is 16.34560729466958\n",
      "Iteration 288, the loss is 6.110178207761334, parameters k is 1.140824892107105 and b is 16.34560729466958\n",
      "Iteration 289, the loss is 6.110165699151367, parameters k is 1.141943311079437 and b is 16.34560729466958\n",
      "Iteration 290, the loss is 6.110153190541389, parameters k is 1.1430617300517691 and b is 16.34560729466958\n",
      "Iteration 291, the loss is 6.110151990906604, parameters k is 1.1397846154272633 and b is 16.34481678083559\n",
      "Iteration 292, the loss is 6.1101773338031, parameters k is 1.1409030343995954 and b is 16.34481678083559\n",
      "Iteration 293, the loss is 6.110164825193135, parameters k is 1.1420214533719275 and b is 16.34481678083559\n",
      "Iteration 294, the loss is 6.110152316583155, parameters k is 1.1431398723442596 and b is 16.34481678083559\n",
      "Iteration 295, the loss is 6.110148302597893, parameters k is 1.1398627577197538 and b is 16.3440262670016\n",
      "Iteration 296, the loss is 6.110176459844885, parameters k is 1.1409811766920859 and b is 16.3440262670016\n",
      "Iteration 297, the loss is 6.1101639512349095, parameters k is 1.142099595664418 and b is 16.3440262670016\n",
      "Iteration 298, the loss is 6.1101514426249315, parameters k is 1.14321801463675 and b is 16.3440262670016\n",
      "Iteration 299, the loss is 6.1101446142891644, parameters k is 1.1399409000122442 and b is 16.34323575316761\n"
     ]
    }
   ],
   "source": [
    "k = random.random()*100 - 50\n",
    "b = random.random()*100 - 50\n",
    "learning_rate = 1e-1\n",
    "iteration_num =300\n",
    "losses = []\n",
    "for i in range(iteration_num):\n",
    "    price_current_use_params = [price(r, k, b) for r in x_dis]\n",
    "    current_loss = loss(y,price_current_use_params)\n",
    "    losses.append(current_loss)\n",
    "    k_gradient = partial_derivative_k(x_dis,y,price_current_use_params)\n",
    "    b_gradient = partial_derivative_b(x_dis,y,price_current_use_params)\n",
    "    k = k+(-1*k_gradient)*learning_rate\n",
    "    b = b+(-1*b_gradient)*learning_rate\n",
    "    print(\"Iteration {}, the loss is {}, parameters k is {} and b is {}\".format(i,current_loss,k,b))\n",
    "best_k = k\n",
    "best_b = b"
   ]
  },
  {
   "cell_type": "code",
   "execution_count": 614,
   "metadata": {
    "scrolled": true
   },
   "outputs": [
    {
     "data": {
      "text/plain": [
       "[<matplotlib.lines.Line2D at 0x1baaf541400>]"
      ]
     },
     "execution_count": 614,
     "metadata": {},
     "output_type": "execute_result"
    },
    {
     "data": {
      "image/png": "[encoded data removed]",
      "text/plain": [
       "<Figure size 432x288 with 1 Axes>"
      ]
     },
     "metadata": {
      "needs_background": "light"
     },
     "output_type": "display_data"
    }
   ],
   "source": [
    "plt.plot(list(range(iteration_num)),losses)"
   ]
  },
  {
   "cell_type": "code",
   "execution_count": 615,
   "metadata": {},
   "outputs": [
    {
     "name": "stdout",
     "output_type": "stream",
     "text": [
      "the loss is 9.750021646452122,   k is  1.1399409000122442 and b is  16.34323575316761\n"
     ]
    },
    {
     "data": {
      "text/plain": [
       "<matplotlib.collections.PathCollection at 0x1baaf5b2f98>"
      ]
     },
     "execution_count": 615,
     "metadata": {},
     "output_type": "execute_result"
    },
    {
     "data": {
      "image/png": "[encoded data removed]",
      "text/plain": [
       "<Figure size 432x288 with 1 Axes>"
      ]
     },
     "metadata": {
      "needs_background": "light"
     },
     "output_type": "display_data"
    }
   ],
   "source": [
    "price_use_best_parameters = [price(r, best_k, best_b) for r in x_dis]\n",
    "print(\"the loss is {},   k is  {} and b is  {}\".format(best_loss,best_k,best_b))\n",
    "plt.scatter(x_dis,y)\n",
    "plt.scatter(x_dis,price_current_use_params)"
   ]
  },
  {
   "cell_type": "code",
   "execution_count": null,
   "metadata": {},
   "outputs": [],
   "source": []
  }
 ],
 "metadata": {
  "kernelspec": {
   "display_name": "Python 3",
   "language": "python",
   "name": "python3"
  },
  "language_info": {
   "codemirror_mode": {
    "name": "ipython",
    "version": 3
   },
   "file_extension": ".py",
   "mimetype": "text/x-python",
   "name": "python",
   "nbconvert_exporter": "python",
   "pygments_lexer": "ipython3",
   "version": "3.7.3"
  },
  "pycharm": {
   "stem_cell": {
    "cell_type": "raw",
    "metadata": {
     "collapsed": false
    },
    "source": []
   }
  }
 },
 "nbformat": 4,
 "nbformat_minor": 1
}
