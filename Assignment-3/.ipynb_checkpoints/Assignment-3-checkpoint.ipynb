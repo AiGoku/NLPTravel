{
 "cells": [
  {
   "cell_type": "markdown",
   "metadata": {},
   "source": [
    "## Assignment-03 First Step of Machine Learning: Model and Evaluation¶\n"
   ]
  },
  {
   "cell_type": "markdown",
   "metadata": {},
   "source": [
    "### Part-1 Programming Review 编程回顾¶\n"
   ]
  },
  {
   "cell_type": "markdown",
   "metadata": {},
   "source": [
    "#### 1. Re-code the Linear-Regression Model using scikit-learning(10 points)¶\n"
   ]
  },
  {
   "cell_type": "code",
   "execution_count": 1,
   "metadata": {},
   "outputs": [],
   "source": [
    "import random\n",
    "import numpy as np\n",
    "from sklearn.linear_model import LinearRegression\n",
    "%matplotlib inline\n",
    "import matplotlib.pyplot as plt"
   ]
  },
  {
   "cell_type": "code",
   "execution_count": 2,
   "metadata": {},
   "outputs": [],
   "source": [
    "X = np.random.random((20,1))"
   ]
  },
  {
   "cell_type": "code",
   "execution_count": 3,
   "metadata": {},
   "outputs": [
    {
     "name": "stdout",
     "output_type": "stream",
     "text": [
      "[[0.62552024]\n",
      " [0.62014117]\n",
      " [0.37969449]\n",
      " [0.19102951]\n",
      " [0.30507393]\n",
      " [0.94832062]\n",
      " [0.71513674]\n",
      " [0.87593727]\n",
      " [0.88100852]\n",
      " [0.27944855]\n",
      " [0.81039001]\n",
      " [0.49873225]\n",
      " [0.03027267]\n",
      " [0.36806995]\n",
      " [0.60277192]\n",
      " [0.5215509 ]\n",
      " [0.39162038]\n",
      " [0.46335919]\n",
      " [0.82886517]\n",
      " [0.91145788]]\n"
     ]
    }
   ],
   "source": [
    "print(X)"
   ]
  },
  {
   "cell_type": "code",
   "execution_count": 4,
   "metadata": {},
   "outputs": [],
   "source": [
    "def line_function(x):\n",
    "    return 5.2*x+13.14+random.randint(-1,1)"
   ]
  },
  {
   "cell_type": "code",
   "execution_count": 5,
   "metadata": {},
   "outputs": [],
   "source": [
    "y = [line_function(x) for x in X]"
   ]
  },
  {
   "cell_type": "code",
   "execution_count": 6,
   "metadata": {},
   "outputs": [
    {
     "data": {
      "text/plain": [
       "<matplotlib.collections.PathCollection at 0x213690fb320>"
      ]
     },
     "execution_count": 6,
     "metadata": {},
     "output_type": "execute_result"
    },
    {
     "data": {
      "image/png": "[encoded data removed]",
      "text/plain": [
       "<Figure size 432x288 with 1 Axes>"
      ]
     },
     "metadata": {
      "needs_background": "light"
     },
     "output_type": "display_data"
    }
   ],
   "source": [
    "plt.scatter(X,y)"
   ]
  },
  {
   "cell_type": "code",
   "execution_count": 7,
   "metadata": {},
   "outputs": [],
   "source": [
    "lr = LinearRegression().fit(X,y)"
   ]
  },
  {
   "cell_type": "code",
   "execution_count": 8,
   "metadata": {},
   "outputs": [
    {
     "name": "stdout",
     "output_type": "stream",
     "text": [
      "[[5.77790082]]\n",
      "[12.76497698]\n"
     ]
    }
   ],
   "source": [
    "k = lr.coef_\n",
    "print(k)\n",
    "b = lr.intercept_\n",
    "print(b)"
   ]
  },
  {
   "cell_type": "code",
   "execution_count": 9,
   "metadata": {},
   "outputs": [],
   "source": [
    "def f(x):\n",
    "    return k*x+b"
   ]
  },
  {
   "cell_type": "code",
   "execution_count": 10,
   "metadata": {
    "scrolled": true
   },
   "outputs": [
    {
     "data": {
      "text/plain": [
       "[<matplotlib.lines.Line2D at 0x21369175898>]"
      ]
     },
     "execution_count": 10,
     "metadata": {},
     "output_type": "execute_result"
    },
    {
     "data": {
      "image/png": "[encoded data removed]",
      "text/plain": [
       "<Figure size 432x288 with 1 Axes>"
      ]
     },
     "metadata": {
      "needs_background": "light"
     },
     "output_type": "display_data"
    }
   ],
   "source": [
    "plt.scatter(X,y)\n",
    "plt.plot(X,f(X),color='yellow')"
   ]
  },
  {
   "cell_type": "markdown",
   "metadata": {},
   "source": [
    "#### 2. Complete the unfinished KNN Model using pure python to solve the previous Line-Regression problem. (8 points)"
   ]
  },
  {
   "cell_type": "code",
   "execution_count": 11,
   "metadata": {},
   "outputs": [],
   "source": [
    "from collections import Counter\n",
    "from scipy.spatial.distance import cosine\n"
   ]
  },
  {
   "cell_type": "code",
   "execution_count": 12,
   "metadata": {},
   "outputs": [],
   "source": [
    "def X_y_model(trainX,trainY):\n",
    "    return[(Xi,yi) for Xi,yi in zip(trainX,trainY)]"
   ]
  },
  {
   "cell_type": "code",
   "execution_count": 13,
   "metadata": {},
   "outputs": [],
   "source": [
    "def distance(x1,x2):\n",
    "    return abs(x1-x2)"
   ]
  },
  {
   "cell_type": "code",
   "execution_count": 14,
   "metadata": {},
   "outputs": [],
   "source": [
    "def knn_predict(testx,trainX,trainY,count):\n",
    "    result = sorted(X_y_model(trainX,trainY),key=lambda x1:distance(x1[0],testx))[:count]\n",
    "    y_list = [x_y[1][0] for x_y in result ]\n",
    "    best_result = Counter(y_list).most_common(count)\n",
    "    print(best_result)\n",
    "    return best_result[0][0]"
   ]
  },
  {
   "cell_type": "code",
   "execution_count": 15,
   "metadata": {},
   "outputs": [
    {
     "name": "stdout",
     "output_type": "stream",
     "text": [
      "[(14.726384431572901, 1), (15.59313244200272, 1), (15.053963714076575, 1), (14.114411370432416, 1), (15.176425956210704, 1), (15.13335347177255, 1), (14.54946778340074, 1), (14.733407684515972, 1), (15.852064688425536, 1), (12.297417860797802, 1)]\n"
     ]
    },
    {
     "data": {
      "text/plain": [
       "14.726384431572901"
      ]
     },
     "execution_count": 15,
     "metadata": {},
     "output_type": "execute_result"
    }
   ],
   "source": [
    "knn_predict(0.3,X,y,10)"
   ]
  },
  {
   "cell_type": "code",
   "execution_count": 16,
   "metadata": {},
   "outputs": [
    {
     "data": {
      "text/plain": [
       "array([[14.49834723]])"
      ]
     },
     "execution_count": 16,
     "metadata": {},
     "output_type": "execute_result"
    }
   ],
   "source": [
    "f(0.3)"
   ]
  },
  {
   "cell_type": "markdown",
   "metadata": {},
   "source": [
    "#### 3. Re-code the Decision Tree, which could sort the features by salience. (12 points)¶\n"
   ]
  },
  {
   "cell_type": "code",
   "execution_count": 17,
   "metadata": {},
   "outputs": [],
   "source": [
    "import pandas as pd"
   ]
  },
  {
   "cell_type": "code",
   "execution_count": 34,
   "metadata": {},
   "outputs": [],
   "source": [
    "def entropy(elements):\n",
    "    counter = Counter(elements)\n",
    "    probs = [counter[c] / len(elements) for c in set(elements)]\n",
    "    return - sum(p * np.log(p) for p in probs)"
   ]
  },
  {
   "cell_type": "code",
   "execution_count": 84,
   "metadata": {},
   "outputs": [],
   "source": [
    "data = {\n",
    "    'gender':['F','F','F','M','M','M','M','M','F','M'],\n",
    "    'fair_color':['black','red','blue','yellow','blue','red','blue','red','yellow','yellow'],\n",
    "    'fighting_capacity_over_50000':[1,1,1,0,1,0,0,1,1,0],\n",
    "    'super_saiyan':[0,0,0,1,1,0,0,1,0,0]\n",
    "}"
   ]
  },
  {
   "cell_type": "code",
   "execution_count": 85,
   "metadata": {},
   "outputs": [],
   "source": [
    "dataset = pd.DataFrame.from_dict(data)"
   ]
  },
  {
   "cell_type": "code",
   "execution_count": 86,
   "metadata": {},
   "outputs": [
    {
     "data": {
      "text/html": [
       "<div>\n",
       "<style scoped>\n",
       "    .dataframe tbody tr th:only-of-type {\n",
       "        vertical-align: middle;\n",
       "    }\n",
       "\n",
       "    .dataframe tbody tr th {\n",
       "        vertical-align: top;\n",
       "    }\n",
       "\n",
       "    .dataframe thead th {\n",
       "        text-align: right;\n",
       "    }\n",
       "</style>\n",
       "<table border=\"1\" class=\"dataframe\">\n",
       "  <thead>\n",
       "    <tr style=\"text-align: right;\">\n",
       "      <th></th>\n",
       "      <th>gender</th>\n",
       "      <th>fair_color</th>\n",
       "      <th>fighting_capacity_over_50000</th>\n",
       "      <th>super_saiyan</th>\n",
       "    </tr>\n",
       "  </thead>\n",
       "  <tbody>\n",
       "    <tr>\n",
       "      <th>0</th>\n",
       "      <td>F</td>\n",
       "      <td>black</td>\n",
       "      <td>1</td>\n",
       "      <td>0</td>\n",
       "    </tr>\n",
       "    <tr>\n",
       "      <th>1</th>\n",
       "      <td>F</td>\n",
       "      <td>red</td>\n",
       "      <td>1</td>\n",
       "      <td>0</td>\n",
       "    </tr>\n",
       "    <tr>\n",
       "      <th>2</th>\n",
       "      <td>F</td>\n",
       "      <td>blue</td>\n",
       "      <td>1</td>\n",
       "      <td>0</td>\n",
       "    </tr>\n",
       "    <tr>\n",
       "      <th>3</th>\n",
       "      <td>M</td>\n",
       "      <td>yellow</td>\n",
       "      <td>0</td>\n",
       "      <td>1</td>\n",
       "    </tr>\n",
       "    <tr>\n",
       "      <th>4</th>\n",
       "      <td>M</td>\n",
       "      <td>blue</td>\n",
       "      <td>1</td>\n",
       "      <td>1</td>\n",
       "    </tr>\n",
       "    <tr>\n",
       "      <th>5</th>\n",
       "      <td>M</td>\n",
       "      <td>red</td>\n",
       "      <td>0</td>\n",
       "      <td>0</td>\n",
       "    </tr>\n",
       "    <tr>\n",
       "      <th>6</th>\n",
       "      <td>M</td>\n",
       "      <td>blue</td>\n",
       "      <td>0</td>\n",
       "      <td>0</td>\n",
       "    </tr>\n",
       "    <tr>\n",
       "      <th>7</th>\n",
       "      <td>M</td>\n",
       "      <td>red</td>\n",
       "      <td>1</td>\n",
       "      <td>1</td>\n",
       "    </tr>\n",
       "    <tr>\n",
       "      <th>8</th>\n",
       "      <td>F</td>\n",
       "      <td>yellow</td>\n",
       "      <td>1</td>\n",
       "      <td>0</td>\n",
       "    </tr>\n",
       "    <tr>\n",
       "      <th>9</th>\n",
       "      <td>M</td>\n",
       "      <td>yellow</td>\n",
       "      <td>0</td>\n",
       "      <td>0</td>\n",
       "    </tr>\n",
       "  </tbody>\n",
       "</table>\n",
       "</div>"
      ],
      "text/plain": [
       "  gender fair_color  fighting_capacity_over_50000  super_saiyan\n",
       "0      F      black                             1             0\n",
       "1      F        red                             1             0\n",
       "2      F       blue                             1             0\n",
       "3      M     yellow                             0             1\n",
       "4      M       blue                             1             1\n",
       "5      M        red                             0             0\n",
       "6      M       blue                             0             0\n",
       "7      M        red                             1             1\n",
       "8      F     yellow                             1             0\n",
       "9      M     yellow                             0             0"
      ]
     },
     "execution_count": 86,
     "metadata": {},
     "output_type": "execute_result"
    }
   ],
   "source": [
    "dataset"
   ]
  },
  {
   "cell_type": "code",
   "execution_count": 87,
   "metadata": {},
   "outputs": [
    {
     "data": {
      "text/plain": [
       "{'black', 'blue', 'red', 'yellow'}"
      ]
     },
     "execution_count": 87,
     "metadata": {},
     "output_type": "execute_result"
    }
   ],
   "source": [
    "set(data['fair_color'])"
   ]
  },
  {
   "cell_type": "code",
   "execution_count": 88,
   "metadata": {},
   "outputs": [
    {
     "data": {
      "text/plain": [
       "[0, 0, 0, 0]"
      ]
     },
     "execution_count": 88,
     "metadata": {},
     "output_type": "execute_result"
    }
   ],
   "source": [
    "sub_split_1 = dataset[dataset['gender']=='F']['super_saiyan'].tolist()\n",
    "sub_split_1\n"
   ]
  },
  {
   "cell_type": "code",
   "execution_count": 180,
   "metadata": {},
   "outputs": [],
   "source": [
    "def find_min_feature_spilter(train_data:pd.DataFrame,target:str) ->str:\n",
    "    features = set(train_data.columns.tolist()) - {target}\n",
    "    spliter = None\n",
    "    min_entropy = float('inf')\n",
    "    for f in features:\n",
    "        values = set(train_data[f])\n",
    "        for v in values:\n",
    "            sub_spliter1 = train_data[train_data[f]==v][target].tolist()\n",
    "            entropy1 = entropy(sub_spliter1)\n",
    "            \n",
    "            sub_spliter2 = train_data[train_data[f]!=v][target].tolist()\n",
    "            entropy2 = entropy(sub_spliter2)\n",
    "            \n",
    "            entropy_v = entropy1 + entropy2\n",
    "            \n",
    "            if entropy_v<=min_entropy:\n",
    "                min_entropy = entropy_v\n",
    "                spliter = (f,v)\n",
    "    return spliter,min_entropy\n",
    "            "
   ]
  },
  {
   "cell_type": "code",
   "execution_count": 181,
   "metadata": {},
   "outputs": [
    {
     "data": {
      "text/plain": [
       "(('fair_color', 'black'), 0.6365141682948128)"
      ]
     },
     "execution_count": 181,
     "metadata": {},
     "output_type": "execute_result"
    }
   ],
   "source": [
    "find_min_feature_spilter(dataset,'super_saiyan')\n"
   ]
  },
  {
   "cell_type": "code",
   "execution_count": 182,
   "metadata": {},
   "outputs": [
    {
     "data": {
      "text/plain": [
       "[0, 0, 1, 1, 0, 0, 1, 0, 0]"
      ]
     },
     "execution_count": 182,
     "metadata": {},
     "output_type": "execute_result"
    }
   ],
   "source": [
    "dataset[dataset['fair_color']!='black']['super_saiyan'].tolist()"
   ]
  },
  {
   "cell_type": "code",
   "execution_count": 197,
   "metadata": {},
   "outputs": [
    {
     "data": {
      "text/html": [
       "<div>\n",
       "<style scoped>\n",
       "    .dataframe tbody tr th:only-of-type {\n",
       "        vertical-align: middle;\n",
       "    }\n",
       "\n",
       "    .dataframe tbody tr th {\n",
       "        vertical-align: top;\n",
       "    }\n",
       "\n",
       "    .dataframe thead th {\n",
       "        text-align: right;\n",
       "    }\n",
       "</style>\n",
       "<table border=\"1\" class=\"dataframe\">\n",
       "  <thead>\n",
       "    <tr style=\"text-align: right;\">\n",
       "      <th></th>\n",
       "      <th>gender</th>\n",
       "      <th>fair_color</th>\n",
       "      <th>fighting_capacity_over_50000</th>\n",
       "      <th>super_saiyan</th>\n",
       "    </tr>\n",
       "  </thead>\n",
       "  <tbody>\n",
       "  </tbody>\n",
       "</table>\n",
       "</div>"
      ],
      "text/plain": [
       "Empty DataFrame\n",
       "Columns: [gender, fair_color, fighting_capacity_over_50000, super_saiyan]\n",
       "Index: []"
      ]
     },
     "execution_count": 197,
     "metadata": {},
     "output_type": "execute_result"
    }
   ],
   "source": [
    "dataset[dataset['fair_color']=='green']"
   ]
  },
  {
   "cell_type": "code",
   "execution_count": 200,
   "metadata": {},
   "outputs": [
    {
     "ename": "SyntaxError",
     "evalue": "invalid syntax (<ipython-input-200-a954d1d55168>, line 2)",
     "output_type": "error",
     "traceback": [
      "\u001b[1;36m  File \u001b[1;32m\"<ipython-input-200-a954d1d55168>\"\u001b[1;36m, line \u001b[1;32m2\u001b[0m\n\u001b[1;33m    temp = train_data[train_data[train_data[train_data['gender']==gender]train_data['fighting_capacity_over_50000']==fighting_capacity_over_50000]train_data['fair_color']==fair_color]]\u001b[0m\n\u001b[1;37m                                                                                  ^\u001b[0m\n\u001b[1;31mSyntaxError\u001b[0m\u001b[1;31m:\u001b[0m invalid syntax\n"
     ]
    }
   ],
   "source": [
    "def predicate(gender,fair_color,fighting_capacity_over_50000,train_data:pd.DataFrame):\n",
    "            \n",
    "    (feature,value),min_entropy = find_min_feature_spilter(train_data,\"super_saiyan\")\n",
    "    print(feature,value,min_entropy)\n",
    "    print(train_data)\n",
    "    if(feature=='gender'):\n",
    "        if(value==gender):\n",
    "            train_data = train_data[train_data[feature]==value]      \n",
    "        else:\n",
    "            train_data = train_data[train_data[feature]!=value]\n",
    "    if(feature=='fair_color'):\n",
    "        if(value==fair_color):\n",
    "            train_data = train_data[train_data[feature]==value]\n",
    "        else:\n",
    "            train_data = train_data[train_data[feature]!=value]\n",
    "    if(feature=='fighting_capacity_over_50000'):\n",
    "        if(value==fighting_capacity_over_50000):\n",
    "            train_data = train_data[train_data[feature]==value]\n",
    "        else:\n",
    "            train_data = train_data[train_data[feature]!=value];\n",
    "       \n",
    "    if(len(set(train_data['super_saiyan']))==1):\n",
    "        return train_data[\"super_saiyan\"]\n",
    "    else:\n",
    "        (f,v),this_entropy = find_min_feature_spilter(train_data,\"super_saiyan\")\n",
    "        print(f,v,min_entropy)\n",
    "        print(train_data)\n",
    "        if this_entropy<=min_entropy:\n",
    "            \n",
    "            return predicate(gender,fair_color,fighting_capacity_over_50000,train_data)\n",
    "        else:\n",
    "            return train_data[\"super_saiyan\"]"
   ]
  },
  {
   "cell_type": "code",
   "execution_count": 199,
   "metadata": {},
   "outputs": [
    {
     "ename": "ValueError",
     "evalue": "The truth value of a Series is ambiguous. Use a.empty, a.bool(), a.item(), a.any() or a.all().",
     "output_type": "error",
     "traceback": [
      "\u001b[1;31m---------------------------------------------------------------------------\u001b[0m",
      "\u001b[1;31mValueError\u001b[0m                                Traceback (most recent call last)",
      "\u001b[1;32m<ipython-input-199-a329aab2e70c>\u001b[0m in \u001b[0;36m<module>\u001b[1;34m\u001b[0m\n\u001b[1;32m----> 1\u001b[1;33m \u001b[0mresult1\u001b[0m \u001b[1;33m=\u001b[0m \u001b[0mpredicate\u001b[0m\u001b[1;33m(\u001b[0m\u001b[1;34m'M'\u001b[0m\u001b[1;33m,\u001b[0m\u001b[1;34m'red'\u001b[0m\u001b[1;33m,\u001b[0m\u001b[1;36m1\u001b[0m\u001b[1;33m,\u001b[0m\u001b[0mdataset\u001b[0m\u001b[1;33m)\u001b[0m\u001b[1;33m\u001b[0m\u001b[1;33m\u001b[0m\u001b[0m\n\u001b[0m\u001b[0;32m      2\u001b[0m \u001b[0mprint\u001b[0m\u001b[1;33m(\u001b[0m\u001b[0mresult1\u001b[0m\u001b[1;33m)\u001b[0m\u001b[1;33m\u001b[0m\u001b[1;33m\u001b[0m\u001b[0m\n",
      "\u001b[1;32m<ipython-input-193-53c715fc2907>\u001b[0m in \u001b[0;36mpredicate\u001b[1;34m(gender, fair_color, fighting_capacity_over_50000, train_data)\u001b[0m\n\u001b[0;32m      1\u001b[0m \u001b[1;32mdef\u001b[0m \u001b[0mpredicate\u001b[0m\u001b[1;33m(\u001b[0m\u001b[0mgender\u001b[0m\u001b[1;33m,\u001b[0m\u001b[0mfair_color\u001b[0m\u001b[1;33m,\u001b[0m\u001b[0mfighting_capacity_over_50000\u001b[0m\u001b[1;33m,\u001b[0m\u001b[0mtrain_data\u001b[0m\u001b[1;33m:\u001b[0m\u001b[0mpd\u001b[0m\u001b[1;33m.\u001b[0m\u001b[0mDataFrame\u001b[0m\u001b[1;33m)\u001b[0m\u001b[1;33m:\u001b[0m\u001b[1;33m\u001b[0m\u001b[1;33m\u001b[0m\u001b[0m\n\u001b[1;32m----> 2\u001b[1;33m     \u001b[0mtemp\u001b[0m \u001b[1;33m=\u001b[0m \u001b[0mtrain_data\u001b[0m\u001b[1;33m[\u001b[0m\u001b[0mtrain_data\u001b[0m\u001b[1;33m[\u001b[0m\u001b[1;34m'gender'\u001b[0m\u001b[1;33m]\u001b[0m\u001b[1;33m==\u001b[0m\u001b[0mgender\u001b[0m \u001b[1;32mand\u001b[0m \u001b[0mtrain_data\u001b[0m\u001b[1;33m[\u001b[0m\u001b[1;34m'fighting_capacity_over_50000'\u001b[0m\u001b[1;33m]\u001b[0m\u001b[1;33m==\u001b[0m\u001b[0mfighting_capacity_over_50000\u001b[0m \u001b[1;32mand\u001b[0m \u001b[0mtrain_data\u001b[0m\u001b[1;33m[\u001b[0m\u001b[1;34m'fair_color'\u001b[0m\u001b[1;33m]\u001b[0m\u001b[1;33m==\u001b[0m\u001b[0mfair_color\u001b[0m\u001b[1;33m]\u001b[0m\u001b[1;33m\u001b[0m\u001b[1;33m\u001b[0m\u001b[0m\n\u001b[0m\u001b[0;32m      3\u001b[0m     \u001b[1;32mif\u001b[0m \u001b[0mtemp\u001b[0m\u001b[1;33m!=\u001b[0m\u001b[1;32mNone\u001b[0m\u001b[1;33m:\u001b[0m\u001b[1;33m\u001b[0m\u001b[1;33m\u001b[0m\u001b[0m\n\u001b[0;32m      4\u001b[0m         \u001b[1;32mreturn\u001b[0m \u001b[0mtemp\u001b[0m\u001b[1;33m\u001b[0m\u001b[1;33m\u001b[0m\u001b[0m\n\u001b[0;32m      5\u001b[0m \u001b[1;33m\u001b[0m\u001b[0m\n",
      "\u001b[1;32mD:\\Anaconda3\\lib\\site-packages\\pandas\\core\\generic.py\u001b[0m in \u001b[0;36m__nonzero__\u001b[1;34m(self)\u001b[0m\n\u001b[0;32m   1553\u001b[0m             \u001b[1;34m\"The truth value of a {0} is ambiguous. \"\u001b[0m\u001b[1;33m\u001b[0m\u001b[1;33m\u001b[0m\u001b[0m\n\u001b[0;32m   1554\u001b[0m             \"Use a.empty, a.bool(), a.item(), a.any() or a.all().\".format(\n\u001b[1;32m-> 1555\u001b[1;33m                 \u001b[0mself\u001b[0m\u001b[1;33m.\u001b[0m\u001b[0m__class__\u001b[0m\u001b[1;33m.\u001b[0m\u001b[0m__name__\u001b[0m\u001b[1;33m\u001b[0m\u001b[1;33m\u001b[0m\u001b[0m\n\u001b[0m\u001b[0;32m   1556\u001b[0m             )\n\u001b[0;32m   1557\u001b[0m         )\n",
      "\u001b[1;31mValueError\u001b[0m: The truth value of a Series is ambiguous. Use a.empty, a.bool(), a.item(), a.any() or a.all()."
     ]
    }
   ],
   "source": [
    "result1 = predicate('M','red',1,dataset)\n",
    "print(result1)\n"
   ]
  },
  {
   "cell_type": "markdown",
   "metadata": {},
   "source": [
    "#### 4. Finish the K-Means using 2-D matplotlib (8 points)"
   ]
  },
  {
   "cell_type": "code",
   "execution_count": 28,
   "metadata": {},
   "outputs": [
    {
     "data": {
      "text/plain": [
       "<matplotlib.collections.PathCollection at 0x2136b04a4a8>"
      ]
     },
     "execution_count": 28,
     "metadata": {},
     "output_type": "execute_result"
    },
    {
     "data": {
      "image/png": "[encoded data removed]",
      "text/plain": [
       "<Figure size 432x288 with 1 Axes>"
      ]
     },
     "metadata": {
      "needs_background": "light"
     },
     "output_type": "display_data"
    }
   ],
   "source": [
    "from sklearn.cluster import KMeans\n",
    "from collections import defaultdict\n",
    "\n",
    "X = [random.randint(0,100) for _ in range(200)]\n",
    "Y = [random.randint(0,100) for _ in range(200)]\n",
    "plt.scatter(X,Y)"
   ]
  },
  {
   "cell_type": "code",
   "execution_count": 29,
   "metadata": {},
   "outputs": [],
   "source": [
    "train_data = [[x,y] for x,y in zip(X,Y)]"
   ]
  },
  {
   "cell_type": "code",
   "execution_count": 30,
   "metadata": {},
   "outputs": [],
   "source": [
    "def kmeans_model(train_data,clusters,color,max_iter):\n",
    "    model = KMeans(n_clusters=clusters,max_iter=max_iter)\n",
    "    model.fit(train_data)\n",
    "    \n",
    "    centers = defaultdict(list)\n",
    "    for label,location in zip(model.labels_,train_data):\n",
    "        centers[label].append(location)\n",
    "    \n",
    "    for i,c in enumerate(centers):\n",
    "        for location in centers[c]:\n",
    "            plt.scatter(*location,c=color[i])\n",
    "    for center in model.cluster_centers_:\n",
    "        plt.scatter(*center,s=100)"
   ]
  },
  {
   "cell_type": "code",
   "execution_count": 31,
   "metadata": {},
   "outputs": [
    {
     "data": {
      "image/png": "[encoded data removed]",
      "text/plain": [
       "<Figure size 432x288 with 1 Axes>"
      ]
     },
     "metadata": {
      "needs_background": "light"
     },
     "output_type": "display_data"
    }
   ],
   "source": [
    "kmeans_model(train_data,5,color=['red', 'green', 'grey', 'black', 'yellow'],max_iter=50)"
   ]
  },
  {
   "cell_type": "markdown",
   "metadata": {},
   "source": [
    "### Part-2 Question and Answer 问答"
   ]
  },
  {
   "cell_type": "markdown",
   "metadata": {},
   "source": [
    "#### 1. What's the model? why all the models are wrong, but some are useful? (5 points)"
   ]
  },
  {
   "cell_type": "markdown",
   "metadata": {},
   "source": [
    "模型是指对于某个实际问题或客观事物、规律进行抽象后的一种形式化表达方式\n",
    "模型是错误的，模型只是对现实复杂问题的简化或理想化，\n",
    "有用是指，对于现实复杂问题简化很有用，方便于理解和计算"
   ]
  },
  {
   "cell_type": "markdown",
   "metadata": {},
   "source": [
    "#### 2. What's the underfitting and overfitting? List the reasons that could make model overfitting or underfitting. (10 points)"
   ]
  },
  {
   "cell_type": "markdown",
   "metadata": {},
   "source": [
    "过拟合\n",
    "模型过度拟合，在训练集上表现好，但是在测试集上效果差，也就是说在已知的数据集合中非常好，但是在添加一些新的数据进来训练效果就会差很多，造成这样的原因是考虑影响因素太多，超出自变量的维度过于多了\n",
    "欠拟合（高偏差）\n",
    "模型拟合不够，在训练集上表现效果差，没有充分的利用数据，预测的准确度低。"
   ]
  },
  {
   "cell_type": "markdown",
   "metadata": {},
   "source": [
    "#### 3. What's the precision, recall, AUC, F1, F2score. What are they mainly target on? (12')"
   ]
  },
  {
   "cell_type": "markdown",
   "metadata": {},
   "source": [
    "真阳性（TP）：诊断为有，实际上也有病。\n",
    "伪阳性（FP）：诊断为有，实际却没有病。\n",
    "真阴性（TN）：诊断为没有，实际上也没有病。\n",
    "伪阴性（FN）：诊断为没有，实际却有病。\n",
    "\n",
    "精确率(precision)的定义为$$P=\\frac {TP} {TP+FP}$$\n",
    "它表示的是预测为正的样本中有多少是真正的正样本\n",
    "\n",
    "召回率(recall)的定义为$$P=\\frac {TP} {TP+FN}$$\n",
    "它表示的是样本中的正例有多少被预测正确了\n",
    "\n",
    "P和R指标有时候会出现的矛盾的情况，这样就需要综合考虑他们\n",
    "$Fscore=\\frac{(a^2+1)*P*R} {a^2(P+R)}$\n",
    "当a=1时就是F1score\n",
    "$$F1=\\frac {2PR} {P+R}$$\n",
    "\n",
    "$F2score = 1-\\frac{\\sum((y_i-f_i)^2)} {\\sum((y_i-{\\hat{y}})^2}$\n",
    "\n",
    "AUC评价模型识别标准的一个值，曲线包裹的面积\n"
   ]
  },
  {
   "cell_type": "markdown",
   "metadata": {},
   "source": [
    "#### 4. Based on our course and yourself mind, what's the machine learning? (8')"
   ]
  },
  {
   "cell_type": "markdown",
   "metadata": {},
   "source": [
    "机器学习可以通过训练，具有识别、筛选、预测能力。"
   ]
  },
  {
   "cell_type": "markdown",
   "metadata": {},
   "source": [
    "#### 5. \"正确定义了机器学习模型的评价标准(evaluation)， 问题基本上就已经解决一半\". 这句话是否正确？你是怎么看待的？ (8‘)"
   ]
  },
  {
   "cell_type": "markdown",
   "metadata": {},
   "source": [
    "正确，正确定义了机器学习的评价标准就可以通过评价一个模型对于结果预测的准确度，进而更加接近于真实值"
   ]
  },
  {
   "cell_type": "markdown",
   "metadata": {},
   "source": [
    "### Part-03 Programming Practice 编程练习"
   ]
  },
  {
   "cell_type": "markdown",
   "metadata": {},
   "source": [
    "1"
   ]
  },
  {
   "cell_type": "code",
   "execution_count": 33,
   "metadata": {},
   "outputs": [],
   "source": [
    "def find_min_feature_spilter(train_data:pd.DataFrame,target:str) ->str:\n",
    "    features = set(train_data.columns.tolist()) - {target}\n",
    "    spliter = None\n",
    "    min_entropy = float('inf')\n",
    "    for f in features:\n",
    "        values = set(train_data[f])\n",
    "        for v in values:\n",
    "            sub_spliter1 = train_data[train_data[f]==v][target].tolist()\n",
    "            entropy1 = entropy(sub_spliter1)\n",
    "            \n",
    "            sub_spliter2 = train_data[train_data[f]!=v][target].tolist()\n",
    "            entropy2 = entropy(sub_spliter2)\n",
    "            \n",
    "            entropy_v = entropy1 + entropy2\n",
    "            \n",
    "            if entropy_v<=min_entropy:\n",
    "                min_entropy = entropy_v\n",
    "                spliter = (f,v)\n",
    "    print(spliter)\n",
    "    return spliter\n",
    "\n",
    "def distan_entropy(elements1,elements2):\n",
    "    result = abs(entropy(elements1)-entropy(el2))\n",
    "    return result"
   ]
  },
  {
   "cell_type": "code",
   "execution_count": 48,
   "metadata": {},
   "outputs": [
    {
     "name": "stdout",
     "output_type": "stream",
     "text": [
      "('fighting_capacity', 10000)\n"
     ]
    },
    {
     "data": {
      "text/plain": [
       "('fighting_capacity', 10000)"
      ]
     },
     "execution_count": 48,
     "metadata": {},
     "output_type": "execute_result"
    }
   ],
   "source": [
    "find_min_feature_spilter(dataset,'super_saiyan')"
   ]
  },
  {
   "cell_type": "code",
   "execution_count": null,
   "metadata": {},
   "outputs": [],
   "source": [
    "def predicate(gender,fair_color,fighting_capacity):\n",
    "     \n",
    "        \n",
    "      "
   ]
  },
  {
   "cell_type": "code",
   "execution_count": 47,
   "metadata": {},
   "outputs": [
    {
     "data": {
      "text/html": [
       "<div>\n",
       "<style scoped>\n",
       "    .dataframe tbody tr th:only-of-type {\n",
       "        vertical-align: middle;\n",
       "    }\n",
       "\n",
       "    .dataframe tbody tr th {\n",
       "        vertical-align: top;\n",
       "    }\n",
       "\n",
       "    .dataframe thead th {\n",
       "        text-align: right;\n",
       "    }\n",
       "</style>\n",
       "<table border=\"1\" class=\"dataframe\">\n",
       "  <thead>\n",
       "    <tr style=\"text-align: right;\">\n",
       "      <th></th>\n",
       "      <th>gender</th>\n",
       "      <th>fair_color</th>\n",
       "      <th>fighting_capacity</th>\n",
       "      <th>super_saiyan</th>\n",
       "    </tr>\n",
       "  </thead>\n",
       "  <tbody>\n",
       "    <tr>\n",
       "      <th>0</th>\n",
       "      <td>F</td>\n",
       "      <td>black</td>\n",
       "      <td>50000</td>\n",
       "      <td>0</td>\n",
       "    </tr>\n",
       "    <tr>\n",
       "      <th>1</th>\n",
       "      <td>F</td>\n",
       "      <td>red</td>\n",
       "      <td>80000</td>\n",
       "      <td>0</td>\n",
       "    </tr>\n",
       "    <tr>\n",
       "      <th>2</th>\n",
       "      <td>F</td>\n",
       "      <td>blue</td>\n",
       "      <td>1000</td>\n",
       "      <td>0</td>\n",
       "    </tr>\n",
       "    <tr>\n",
       "      <th>8</th>\n",
       "      <td>F</td>\n",
       "      <td>yellow</td>\n",
       "      <td>100000</td>\n",
       "      <td>0</td>\n",
       "    </tr>\n",
       "  </tbody>\n",
       "</table>\n",
       "</div>"
      ],
      "text/plain": [
       "  gender fair_color  fighting_capacity  super_saiyan\n",
       "0      F      black              50000             0\n",
       "1      F        red              80000             0\n",
       "2      F       blue               1000             0\n",
       "8      F     yellow             100000             0"
      ]
     },
     "execution_count": 47,
     "metadata": {},
     "output_type": "execute_result"
    }
   ],
   "source": [
    "dataset[dataset['gender']=='F']"
   ]
  },
  {
   "cell_type": "markdown",
   "metadata": {},
   "source": [
    "2"
   ]
  },
  {
   "cell_type": "markdown",
   "metadata": {},
   "source": [
    "### $$ \\frac{\\partial{loss}}{\\partial{k}} = \n",
    "\\begin{cases}\n",
    "-\\frac{1}{n}\\sum(x_i)     &y_i > {\\hat{y_i } }\\\\\n",
    "\\frac{1}{n}\\sum(x_i)      &y_i < {\\hat{y_i } }\\\\\n",
    "\\end{cases}$$"
   ]
  },
  {
   "cell_type": "markdown",
   "metadata": {},
   "source": [
    "### $$ \\frac{\\partial{loss}}{\\partial{b}} = \n",
    "\\begin{cases}\n",
    "-\\frac{1}{n}\\sum(1)     &y_i > {\\hat{y_i } }\\\\\n",
    "-\\frac{1}{n}\\sum(-1)      &y_i < {\\hat{y_i } }\\\\\n",
    "\\end{cases}$$"
   ]
  },
  {
   "cell_type": "code",
   "execution_count": 255,
   "metadata": {},
   "outputs": [],
   "source": [
    "from sklearn.datasets import load_boston\n",
    "import random\n",
    "import matplotlib.pyplot as plt\n",
    "\n",
    "datasets = load_boston()\n",
    "x,y = datasets['data'],datasets['target']\n",
    "x_dis = x[:,7]\n",
    "\n",
    "def price(dis,k,b):\n",
    "    return k * dis + b\n",
    "def loss(y,y_hat):\n",
    "    return sum((abs(y_i-y_hat_i)) for y_i,y_hat_i in zip(list(y),list(y_hat)))/len(list(y))"
   ]
  },
  {
   "cell_type": "code",
   "execution_count": 256,
   "metadata": {},
   "outputs": [],
   "source": [
    "def partial_derivative_k(x, y, y_hat):\n",
    "    n = len(y)\n",
    "    gradient = 0\n",
    "    for x_i, y_i, y_hat_i in zip(list(x),list(y),list(y_hat)):\n",
    "        if(y_i>y_hat_i):\n",
    "            gradient += -x_i\n",
    "        else:\n",
    "            gradient += x_i\n",
    "    return 1/n * gradient\n",
    "\n",
    "def partial_derivative_b(x, y, y_hat):\n",
    "    n = len(y)\n",
    "    gradient = 0\n",
    "    for x_i, y_i, y_hat_i in zip(list(x),list(y),list(y_hat)):\n",
    "        if(y_i>y_hat_i):\n",
    "            gradient += -1\n",
    "        else:\n",
    "            gradient += 1\n",
    "    return 1/n * gradient"
   ]
  },
  {
   "cell_type": "code",
   "execution_count": 257,
   "metadata": {},
   "outputs": [
    {
     "name": "stdout",
     "output_type": "stream",
     "text": [
      "Iteration 0, the loss is 67.99472865528013, parameters k is 30.349183052368257 and b is -27.555848500165943\n",
      "Iteration 1, the loss is 66.60116972924318, parameters k is 29.987455779640985 and b is -27.644781306490053\n",
      "Iteration 2, the loss is 65.22086503252487, parameters k is 29.628174119561933 and b is -27.73213308514618\n",
      "Iteration 3, the loss is 63.855265382383955, parameters k is 29.27012613537221 and b is -27.818694349968315\n",
      "Iteration 4, the loss is 62.50612742087183, parameters k is 28.916200364621222 and b is -27.902488816371477\n",
      "Iteration 5, the loss is 61.18879307268704, parameters k is 28.56502637252636 and b is -27.984702255106654\n",
      "Iteration 6, the loss is 59.89157554200784, parameters k is 28.21524657015482 and b is -28.06612518000784\n",
      "Iteration 7, the loss is 58.607175018337024, parameters k is 27.867584080036245 and b is -28.146362334158038\n",
      "Iteration 8, the loss is 57.334710149187465, parameters k is 27.520549811261542 and b is -28.22620423139124\n",
      "Iteration 9, the loss is 56.0690471073934, parameters k is 27.17556601679514 and b is -28.30486035787345\n",
      "Iteration 10, the loss is 54.81787375269253, parameters k is 26.831142103751663 and b is -28.383121227438668\n",
      "Iteration 11, the loss is 53.575101471718845, parameters k is 26.488498665016486 and b is -28.460591583169894\n",
      "Iteration 12, the loss is 52.342018862408466, parameters k is 26.147041115609372 and b is -28.537271425067125\n",
      "Iteration 13, the loss is 51.121343075355924, parameters k is 25.80697352667657 and b is -28.613160753130366\n",
      "Iteration 14, the loss is 49.911976417233426, parameters k is 25.469552024700285 and b is -28.68746905352562\n",
      "Iteration 15, the loss is 48.72184381481318, parameters k is 25.1336181511825 and b is -28.760986840086886\n",
      "Iteration 16, the loss is 47.55060643822794, parameters k is 24.805461589917677 and b is -28.83055205747819\n",
      "Iteration 17, the loss is 46.433591480901754, parameters k is 24.48162427766471 and b is -28.898140990284514\n",
      "Iteration 18, the loss is 45.346636775834504, parameters k is 24.162144672921627 and b is -28.963753638505857\n",
      "Iteration 19, the loss is 44.28740039208469, parameters k is 23.845609929838623 and b is -29.027785259059215\n",
      "Iteration 20, the loss is 43.250231621153176, parameters k is 23.533207597822813 and b is -29.089445338110597\n",
      "Iteration 21, the loss is 42.24857292557534, parameters k is 23.227088546439415 and b is -29.147943361826012\n",
      "Iteration 22, the loss is 41.28723760734257, parameters k is 22.926784435767477 and b is -29.203674587122457\n",
      "Iteration 23, the loss is 40.361950457397434, parameters k is 22.63139032509554 and b is -29.256639013999926\n",
      "Iteration 24, the loss is 39.46766855885651, parameters k is 22.33935858596511 and b is -29.30802241320941\n",
      "Iteration 25, the loss is 38.60065775806355, parameters k is 22.053823210471037 and b is -29.356639013999924\n",
      "Iteration 26, the loss is 37.76398791621262, parameters k is 21.771373210471037 and b is -29.403674587122453\n",
      "Iteration 27, the loss is 36.95161168018493, parameters k is 21.492852182803052 and b is -29.44873387566\n",
      "Iteration 28, the loss is 36.163081653022864, parameters k is 21.221835977269453 and b is -29.49063110886158\n",
      "Iteration 29, the loss is 35.41785545429864, parameters k is 20.9569847914987 and b is -29.52976154364419\n",
      "Iteration 30, the loss is 34.70588464098125, parameters k is 20.695975542486842 and b is -29.567310950758817\n",
      "Iteration 31, the loss is 34.023816122431455, parameters k is 20.44286807213111 and b is -29.601303045620476\n",
      "Iteration 32, the loss is 33.37694474595668, parameters k is 20.19445625394929 and b is -29.633318855897155\n",
      "Iteration 33, the loss is 32.76197824507849, parameters k is 19.95474973221016 and b is -29.661777353920872\n",
      "Iteration 34, the loss is 32.184884569883394, parameters k is 19.720087321142966 and b is -29.68786431044261\n",
      "Iteration 35, the loss is 31.631237140700495, parameters k is 19.487787953554033 and b is -29.71276549621336\n",
      "Iteration 36, the loss is 31.09761309660596, parameters k is 19.265681234186445 and b is -29.73371411281415\n",
      "Iteration 37, the loss is 30.60866677356176, parameters k is 19.051310206518462 and b is -29.751500674078972\n",
      "Iteration 38, the loss is 30.1526049030063, parameters k is 18.842090127467078 and b is -29.767310950758816\n",
      "Iteration 39, the loss is 29.71701726465395, parameters k is 18.63713672825759 and b is -29.781540199770674\n",
      "Iteration 40, the loss is 29.297638226377988, parameters k is 18.436309178850475 and b is -29.794188421114548\n",
      "Iteration 41, the loss is 28.898776692271852, parameters k is 18.240029811261543 and b is -29.805255614790436\n",
      "Iteration 42, the loss is 28.514798089341383, parameters k is 18.04726273616273 and b is -29.81513703771534\n",
      "Iteration 43, the loss is 28.14924428340643, parameters k is 17.860452815214114 and b is -29.82304217605526\n",
      "Iteration 44, the loss is 27.807025038177326, parameters k is 17.679014949601466 and b is -29.8289710298102\n",
      "Iteration 45, the loss is 27.486803844106376, parameters k is 17.506324910075776 and b is -29.831737828229173\n",
      "Iteration 46, the loss is 27.188703625252757, parameters k is 17.334928190708187 and b is -29.83410936973115\n",
      "Iteration 47, the loss is 26.895301649130325, parameters k is 17.164651629443366 and b is -29.83608565431613\n",
      "Iteration 48, the loss is 26.608331663936152, parameters k is 16.996878388336647 and b is -29.83727142506712\n",
      "Iteration 49, the loss is 26.331434660223408, parameters k is 16.834172024700283 and b is -29.836876168150123\n",
      "Iteration 50, the loss is 26.069098248577816, parameters k is 16.67389265711135 and b is -29.835690397399134\n",
      "Iteration 51, the loss is 25.81628896258315, parameters k is 16.5174362144236 and b is -29.833318855897158\n",
      "Iteration 52, the loss is 25.57623723968752, parameters k is 16.36449475197301 and b is -29.829761543644192\n",
      "Iteration 53, the loss is 25.34473560935238, parameters k is 16.216673249996724 and b is -29.824623203723245\n",
      "Iteration 54, the loss is 25.12748584453067, parameters k is 16.07034921837617 and b is -29.8190896068853\n",
      "Iteration 55, the loss is 24.916398631675904, parameters k is 15.929255028652848 and b is -29.811974982379372\n",
      "Iteration 56, the loss is 24.72270315996063, parameters k is 15.79490435671609 and b is -29.802884073288464\n",
      "Iteration 57, the loss is 24.542703780602313, parameters k is 15.663485779640991 and b is -29.79300265036356\n",
      "Iteration 58, the loss is 24.370592774001526, parameters k is 15.5346862144236 and b is -29.78233071360467\n",
      "Iteration 59, the loss is 24.2059773203075, parameters k is 15.410360522723995 and b is -29.770473006094786\n",
      "Iteration 60, the loss is 24.050011648010752, parameters k is 15.287388269759568 and b is -29.758220041667908\n",
      "Iteration 61, the loss is 23.897357190429553, parameters k is 15.166438941696326 and b is -29.745571820324034\n",
      "Iteration 62, the loss is 23.750667250558113, parameters k is 15.047101313237828 and b is -29.732528342063166\n",
      "Iteration 63, the loss is 23.606551231645724, parameters k is 14.92776368477933 and b is -29.719484863802297\n",
      "Iteration 64, the loss is 23.462779717268162, parameters k is 14.809822301380121 and b is -29.706046128624433\n",
      "Iteration 65, the loss is 23.327187106276014, parameters k is 14.699302696637039 and b is -29.690631108861588\n",
      "Iteration 66, the loss is 23.203804055126337, parameters k is 14.594652380431505 and b is -29.67363506143076\n",
      "Iteration 67, the loss is 23.09240364886645, parameters k is 14.492943012842572 and b is -29.655848500165938\n",
      "Iteration 68, the loss is 22.98626669650515, parameters k is 14.39329368477933 and b is -29.63766668198412\n",
      "Iteration 69, the loss is 22.885198758566183, parameters k is 14.296659218376169 and b is -29.618694349968308\n",
      "Iteration 70, the loss is 22.788646199432215, parameters k is 14.201473724305023 and b is -29.599326761035503\n",
      "Iteration 71, the loss is 22.694794452102425, parameters k is 14.107731945648897 and b is -29.5795639151857\n",
      "Iteration 72, the loss is 22.604302048907954, parameters k is 14.018952340905814 and b is -29.55861529858491\n",
      "Iteration 73, the loss is 22.522573543469118, parameters k is 13.932405305332692 and b is -29.537271425067125\n",
      "Iteration 74, the loss is 22.443114040436726, parameters k is 13.84585826975957 and b is -29.51592755154934\n",
      "Iteration 75, the loss is 22.36390414177736, parameters k is 13.760740087941388 and b is -29.494188421114558\n",
      "Iteration 76, the loss is 22.288019698439097, parameters k is 13.678662617585656 and b is -29.471658776845782\n",
      "Iteration 77, the loss is 22.216975896328766, parameters k is 13.599535107704234 and b is -29.448338618743016\n",
      "Iteration 78, the loss is 22.14892597038903, parameters k is 13.520407597822812 and b is -29.42501846064025\n",
      "Iteration 79, the loss is 22.08087604444929, parameters k is 13.44128008794139 and b is -29.401698302537483\n",
      "Iteration 80, the loss is 22.01401096034754, parameters k is 13.36447866501649 and b is -29.37798288751772\n",
      "Iteration 81, the loss is 21.95022692585221, parameters k is 13.289149178850483 and b is -29.353872215580964\n",
      "Iteration 82, the loss is 21.88766836597947, parameters k is 13.213819692684476 and b is -29.329761543644207\n",
      "Iteration 83, the loss is 21.825904716659903, parameters k is 13.139938823119259 and b is -29.30525561479045\n",
      "Iteration 84, the loss is 21.765802991327423, parameters k is 13.069149850787243 and b is -29.279959172102703\n",
      "Iteration 85, the loss is 21.709961585759633, parameters k is 13.000000404146927 and b is -29.25426747249796\n",
      "Iteration 86, the loss is 21.65729098465281, parameters k is 12.937882736162738 and b is -29.226994745225234\n",
      "Iteration 87, the loss is 21.61126692136595, parameters k is 12.875765068178548 and b is -29.199722017952507\n",
      "Iteration 88, the loss is 21.566033236265234, parameters k is 12.815452419957206 and b is -29.172054033762784\n",
      "Iteration 89, the loss is 21.52285732369834, parameters k is 12.757103052368272 and b is -29.143990792656066\n",
      "Iteration 90, the loss is 21.481760480793234, parameters k is 12.700675740115308 and b is -29.11553229463235\n",
      "Iteration 91, the loss is 21.4426479584834, parameters k is 12.647351866597521 and b is -29.08628328277464\n",
      "Iteration 92, the loss is 21.405966045994404, parameters k is 12.595559613633094 and b is -29.056639013999938\n",
      "Iteration 93, the loss is 21.370597096389414, parameters k is 12.545442933791197 and b is -29.02659948830824\n",
      "Iteration 94, the loss is 21.337045304029882, parameters k is 12.496904000984873 and b is -28.996164705699545\n",
      "Iteration 95, the loss is 21.304770302942067, parameters k is 12.450119099799103 and b is -28.965334666173852\n",
      "Iteration 96, the loss is 21.274463508532126, parameters k is 12.406596412052068 and b is -28.93371411281417\n",
      "Iteration 97, the loss is 21.245649433288694, parameters k is 12.364574317190407 and b is -28.90169830253749\n",
      "Iteration 98, the loss is 21.217851274833656, parameters k is 12.324172103751671 and b is -28.869287235343815\n",
      "Iteration 99, the loss is 21.191023113559833, parameters k is 12.283769890312936 and b is -28.83687616815014\n",
      "Iteration 100, the loss is 21.16419495228604, parameters k is 12.2433676768742 and b is -28.804465100956467\n",
      "Iteration 101, the loss is 21.1373667910122, parameters k is 12.202965463435465 and b is -28.772054033762792\n",
      "Iteration 102, the loss is 21.111331202089094, parameters k is 12.166357558297126 and b is -28.738852452735124\n",
      "Iteration 103, the loss is 21.087120020518412, parameters k is 12.131500246044162 and b is -28.70525561479046\n",
      "Iteration 104, the loss is 21.063682223144575, parameters k is 12.096642933791198 and b is -28.671658776845796\n",
      "Iteration 105, the loss is 21.040244425770744, parameters k is 12.061785621538235 and b is -28.63806193890113\n",
      "Iteration 106, the loss is 21.01719922861039, parameters k is 12.028545107704243 and b is -28.604069844039472\n",
      "Iteration 107, the loss is 20.994595285880067, parameters k is 11.995304593870252 and b is -28.570077749177813\n",
      "Iteration 108, the loss is 20.972188676530234, parameters k is 11.965243526676575 and b is -28.53529514048216\n",
      "Iteration 109, the loss is 20.95125028254443, parameters k is 11.93678411956195 and b is -28.50011727486951\n",
      "Iteration 110, the loss is 20.93077608172062, parameters k is 11.908324712447326 and b is -28.46493940925686\n",
      "Iteration 111, the loss is 20.91030188089684, parameters k is 11.879865305332702 and b is -28.42976154364421\n",
      "Iteration 112, the loss is 20.889827680073086, parameters k is 11.851405898218077 and b is -28.394583678031562\n",
      "Iteration 113, the loss is 20.86935347924933, parameters k is 11.822946491103453 and b is -28.359405812418913\n",
      "Iteration 114, the loss is 20.84887927842555, parameters k is 11.794487083988829 and b is -28.324227946806264\n",
      "Iteration 115, the loss is 20.82840507760175, parameters k is 11.766027676874204 and b is -28.289050081193615\n",
      "Iteration 116, the loss is 20.807930876777966, parameters k is 11.73756826975958 and b is -28.253872215580966\n",
      "Iteration 117, the loss is 20.787456675954207, parameters k is 11.709108862644955 and b is -28.218694349968317\n",
      "Iteration 118, the loss is 20.76698247513042, parameters k is 11.68064945553033 and b is -28.183516484355668\n",
      "Iteration 119, the loss is 20.746508274306663, parameters k is 11.652190048415706 and b is -28.14833861874302\n",
      "Iteration 120, the loss is 20.726483460630117, parameters k is 11.625865463435469 and b is -28.112765496213374\n",
      "Iteration 121, the loss is 20.7068991524212, parameters k is 11.599540878455231 and b is -28.07719237368373\n",
      "Iteration 122, the loss is 20.68756129402296, parameters k is 11.57493759782282 and b is -28.04122399423709\n",
      "Iteration 123, the loss is 20.66857083664401, parameters k is 11.55033431719041 and b is -28.00525561479045\n",
      "Iteration 124, the loss is 20.649751875092033, parameters k is 11.527406530629145 and b is -27.968891978426814\n",
      "Iteration 125, the loss is 20.631271900630164, parameters k is 11.50447874406788 and b is -27.93252834206318\n",
      "Iteration 126, the loss is 20.612791926168317, parameters k is 11.481550957506615 and b is -27.896164705699544\n",
      "Iteration 127, the loss is 20.594311951706466, parameters k is 11.45862317094535 and b is -27.85980106933591\n",
      "Iteration 128, the loss is 20.57583197724461, parameters k is 11.435695384384085 and b is -27.823437432972273\n",
      "Iteration 129, the loss is 20.557352002782757, parameters k is 11.41276759782282 and b is -27.787073796608638\n",
      "Iteration 130, the loss is 20.538872028320863, parameters k is 11.389839811261554 and b is -27.750710160245003\n",
      "Iteration 131, the loss is 20.52042089453465, parameters k is 11.368492499008589 and b is -27.713951266964372\n",
      "Iteration 132, the loss is 20.502351654778213, parameters k is 11.347145186755624 and b is -27.67719237368374\n",
      "Iteration 133, the loss is 20.48428241502182, parameters k is 11.325797874502658 and b is -27.64043348040311\n",
      "Iteration 134, the loss is 20.46627950258163, parameters k is 11.306245186755623 and b is -27.60327933020548\n",
      "Iteration 135, the loss is 20.44884291087233, parameters k is 11.288442380431512 and b is -27.565729923090856\n",
      "Iteration 136, the loss is 20.43173610652697, parameters k is 11.27314396145918 and b is -27.527785259059236\n",
      "Iteration 137, the loss is 20.414997715011726, parameters k is 11.257845542486848 and b is -27.489840595027616\n",
      "Iteration 138, the loss is 20.398259323496468, parameters k is 11.242547123514516 and b is -27.451895930995995\n",
      "Iteration 139, the loss is 20.38152093198121, parameters k is 11.227248704542184 and b is -27.413951266964375\n",
      "Iteration 140, the loss is 20.36481040704582, parameters k is 11.21372838833665 and b is -27.37561134601576\n",
      "Iteration 141, the loss is 20.348282922159395, parameters k is 11.200208072131115 and b is -27.337271425067144\n",
      "Iteration 142, the loss is 20.331755437272953, parameters k is 11.18668775592558 and b is -27.298931504118528\n",
      "Iteration 143, the loss is 20.315227952386504, parameters k is 11.173167439720046 and b is -27.260591583169912\n",
      "Iteration 144, the loss is 20.298700467500073, parameters k is 11.159647123514512 and b is -27.222251662221296\n",
      "Iteration 145, the loss is 20.28217298261366, parameters k is 11.146126807308978 and b is -27.18391174127268\n",
      "Iteration 146, the loss is 20.265645497727224, parameters k is 11.132606491103443 and b is -27.145571820324065\n",
      "Iteration 147, the loss is 20.24911801284078, parameters k is 11.119086174897909 and b is -27.10723189937545\n",
      "Iteration 148, the loss is 20.232590527954333, parameters k is 11.105565858692374 and b is -27.068891978426834\n",
      "Iteration 149, the loss is 20.216063043067884, parameters k is 11.09204554248684 and b is -27.030552057478218\n",
      "Iteration 150, the loss is 20.199535558181474, parameters k is 11.078525226281306 and b is -26.992212136529602\n",
      "Iteration 151, the loss is 20.183008073295028, parameters k is 11.065004910075771 and b is -26.953872215580986\n",
      "Iteration 152, the loss is 20.166480588408593, parameters k is 11.051484593870237 and b is -26.91553229463237\n",
      "Iteration 153, the loss is 20.14995310352215, parameters k is 11.037964277664702 and b is -26.877192373683755\n",
      "Iteration 154, the loss is 20.133425618635727, parameters k is 11.024443961459168 and b is -26.83885245273514\n",
      "Iteration 155, the loss is 20.116959749616406, parameters k is 11.0134019061232 and b is -26.800117274869528\n",
      "Iteration 156, the loss is 20.100736339713173, parameters k is 11.002359850787231 and b is -26.761382097003917\n",
      "Iteration 157, the loss is 20.084512929809943, parameters k is 10.991317795451263 and b is -26.722646919138306\n",
      "Iteration 158, the loss is 20.068289519906703, parameters k is 10.980275740115294 and b is -26.683911741272695\n",
      "Iteration 159, the loss is 20.05206611000346, parameters k is 10.969233684779326 and b is -26.645176563407084\n",
      "Iteration 160, the loss is 20.035842700100243, parameters k is 10.958191629443357 and b is -26.606441385541473\n",
      "Iteration 161, the loss is 20.019619290197, parameters k is 10.947149574107389 and b is -26.56770620767586\n",
      "Iteration 162, the loss is 20.00339588029381, parameters k is 10.93610751877142 and b is -26.52897102981025\n",
      "Iteration 163, the loss is 19.98717247039054, parameters k is 10.925065463435452 and b is -26.49023585194464\n",
      "Iteration 164, the loss is 19.97094906048734, parameters k is 10.914023408099483 and b is -26.45150067407903\n",
      "Iteration 165, the loss is 19.954725650584074, parameters k is 10.902981352763515 and b is -26.412765496213417\n",
      "Iteration 166, the loss is 19.93853729586712, parameters k is 10.893733921933475 and b is -26.373635061430807\n",
      "Iteration 167, the loss is 19.9223702368348, parameters k is 10.884486491103434 and b is -26.334504626648197\n",
      "Iteration 168, the loss is 19.90620317780246, parameters k is 10.875239060273394 and b is -26.295374191865587\n",
      "Iteration 169, the loss is 19.890036118770137, parameters k is 10.865991629443354 and b is -26.256243757082977\n",
      "Iteration 170, the loss is 19.873869059737807, parameters k is 10.856744198613313 and b is -26.217113322300367\n",
      "Iteration 171, the loss is 19.857702000705512, parameters k is 10.847496767783273 and b is -26.177982887517757\n",
      "Iteration 172, the loss is 19.841534941673203, parameters k is 10.838249336953233 and b is -26.138852452735147\n",
      "Iteration 173, the loss is 19.82536788264085, parameters k is 10.829001906123192 and b is -26.099722017952537\n",
      "Iteration 174, the loss is 19.809200823608524, parameters k is 10.819754475293152 and b is -26.060591583169927\n",
      "Iteration 175, the loss is 19.79303376457623, parameters k is 10.810507044463112 and b is -26.021461148387317\n",
      "Iteration 176, the loss is 19.776866705543895, parameters k is 10.801259613633071 and b is -25.982330713604707\n",
      "Iteration 177, the loss is 19.76069964651155, parameters k is 10.792012182803031 and b is -25.943200278822097\n",
      "Iteration 178, the loss is 19.744532587479227, parameters k is 10.78276475197299 and b is -25.904069844039487\n",
      "Iteration 179, the loss is 19.728365528446904, parameters k is 10.77351732114295 and b is -25.864939409256877\n",
      "Iteration 180, the loss is 19.71220671757431, parameters k is 10.76613593774374 and b is -25.82541371755727\n",
      "Iteration 181, the loss is 19.696049306077573, parameters k is 10.7568885069137 and b is -25.78628328277466\n",
      "Iteration 182, the loss is 19.679889902985096, parameters k is 10.74950712351449 and b is -25.746757591075056\n",
      "Iteration 183, the loss is 19.66373308370821, parameters k is 10.74025969268445 and b is -25.707627156292446\n",
      "Iteration 184, the loss is 19.64757308839587, parameters k is 10.73287830928524 and b is -25.66810146459284\n",
      "Iteration 185, the loss is 19.631416861338863, parameters k is 10.7236308784552 and b is -25.62897102981023\n",
      "Iteration 186, the loss is 19.615256273806658, parameters k is 10.71624949505599 and b is -25.589445338110625\n",
      "Iteration 187, the loss is 19.599100638969492, parameters k is 10.70700206422595 and b is -25.550314903328015\n",
      "Iteration 188, the loss is 19.58293945921743, parameters k is 10.69962068082674 and b is -25.51078921162841\n",
      "Iteration 189, the loss is 19.566784416600132, parameters k is 10.6903732499967 and b is -25.4716587768458\n",
      "Iteration 190, the loss is 19.550622644628234, parameters k is 10.68299186659749 and b is -25.432133085146194\n",
      "Iteration 191, the loss is 19.53446819423077, parameters k is 10.67374443576745 and b is -25.393002650363584\n",
      "Iteration 192, the loss is 19.518305830039026, parameters k is 10.66636305236824 and b is -25.35347695866398\n",
      "Iteration 193, the loss is 19.50215197186144, parameters k is 10.6571156215382 and b is -25.31434652388137\n",
      "Iteration 194, the loss is 19.48598901544981, parameters k is 10.64973423813899 and b is -25.274820832181764\n",
      "Iteration 195, the loss is 19.469835749492056, parameters k is 10.64048680730895 and b is -25.235690397399154\n",
      "Iteration 196, the loss is 19.453672200860623, parameters k is 10.63310542390974 and b is -25.196164705699548\n"
     ]
    },
    {
     "name": "stdout",
     "output_type": "stream",
     "text": [
      "Iteration 197, the loss is 19.437519527122717, parameters k is 10.6238579930797 and b is -25.157034270916938\n",
      "Iteration 198, the loss is 19.421355386271383, parameters k is 10.61647660968049 and b is -25.117508579217333\n",
      "Iteration 199, the loss is 19.405203304753364, parameters k is 10.60722917885045 and b is -25.078378144434723\n",
      "Iteration 200, the loss is 19.389038571682157, parameters k is 10.59984779545124 and b is -25.038852452735117\n",
      "Iteration 201, the loss is 19.372887082383993, parameters k is 10.5906003646212 and b is -24.999722017952507\n",
      "Iteration 202, the loss is 19.35672175709295, parameters k is 10.58321898122199 and b is -24.960196326252902\n",
      "Iteration 203, the loss is 19.34057086001465, parameters k is 10.57397155039195 and b is -24.921065891470292\n",
      "Iteration 204, the loss is 19.324404942503744, parameters k is 10.56659016699274 and b is -24.881540199770686\n",
      "Iteration 205, the loss is 19.308254637645284, parameters k is 10.557342736162699 and b is -24.842409764988076\n",
      "Iteration 206, the loss is 19.29208812791453, parameters k is 10.54996135276349 and b is -24.80288407328847\n",
      "Iteration 207, the loss is 19.275938415275945, parameters k is 10.540713921933449 and b is -24.76375363850586\n",
      "Iteration 208, the loss is 19.2597713562436, parameters k is 10.531466491103409 and b is -24.72462320372325\n",
      "Iteration 209, the loss is 19.243622149988276, parameters k is 10.524085107704199 and b is -24.685097512023646\n",
      "Iteration 210, the loss is 19.22745513387427, parameters k is 10.514837676874158 and b is -24.645967077241036\n",
      "Iteration 211, the loss is 19.211311789972786, parameters k is 10.509626925886016 and b is -24.606046128624435\n",
      "Iteration 212, the loss is 19.195231866630486, parameters k is 10.498584870550047 and b is -24.567310950758824\n",
      "Iteration 213, the loss is 19.17906645805359, parameters k is 10.491579495055976 and b is -24.52778525905922\n",
      "Iteration 214, the loss is 19.16296875470177, parameters k is 10.482708072131075 and b is -24.48865482427661\n",
      "Iteration 215, the loss is 19.146869823991903, parameters k is 10.473836649206174 and b is -24.449524389493998\n",
      "Iteration 216, the loss is 19.130776799151285, parameters k is 10.466831273712103 and b is -24.409998697794393\n",
      "Iteration 217, the loss is 19.11468284178156, parameters k is 10.457959850787201 and b is -24.370868263011783\n",
      "Iteration 218, the loss is 19.098583911071653, parameters k is 10.4490884278623 and b is -24.331737828229173\n",
      "Iteration 219, the loss is 19.082487140248915, parameters k is 10.442083052368229 and b is -24.292212136529567\n",
      "Iteration 220, the loss is 19.066396928861312, parameters k is 10.433211629443328 and b is -24.253081701746957\n",
      "Iteration 221, the loss is 19.050297998151432, parameters k is 10.424340206518426 and b is -24.213951266964347\n",
      "Iteration 222, the loss is 19.034199067441566, parameters k is 10.415468783593525 and b is -24.174820832181737\n",
      "Iteration 223, the loss is 19.018109429846145, parameters k is 10.408463408099454 and b is -24.135295140482132\n",
      "Iteration 224, the loss is 19.002012085231218, parameters k is 10.399591985174553 and b is -24.096164705699522\n",
      "Iteration 225, the loss is 18.98591315452134, parameters k is 10.390720562249651 and b is -24.057034270916912\n",
      "Iteration 226, the loss is 18.96981977094379, parameters k is 10.38371518675558 and b is -24.017508579217306\n",
      "Iteration 227, the loss is 18.953726172311008, parameters k is 10.374843763830679 and b is -23.978378144434696\n",
      "Iteration 228, the loss is 18.93762724160113, parameters k is 10.365972340905778 and b is -23.939247709652086\n",
      "Iteration 229, the loss is 18.92153011204145, parameters k is 10.358966965411707 and b is -23.89972201795248\n",
      "Iteration 230, the loss is 18.905440259390787, parameters k is 10.350095542486805 and b is -23.86059158316987\n",
      "Iteration 231, the loss is 18.88934132868091, parameters k is 10.341224119561904 and b is -23.82146114838726\n",
      "Iteration 232, the loss is 18.87324239797104, parameters k is 10.332352696637003 and b is -23.78233071360465\n",
      "Iteration 233, the loss is 18.857152401638665, parameters k is 10.325347321142932 and b is -23.742805021905045\n",
      "Iteration 234, the loss is 18.8410554157607, parameters k is 10.31647589821803 and b is -23.703674587122435\n",
      "Iteration 235, the loss is 18.82495648505082, parameters k is 10.307604475293129 and b is -23.664544152339825\n",
      "Iteration 236, the loss is 18.808862742736313, parameters k is 10.300599099799058 and b is -23.62501846064022\n",
      "Iteration 237, the loss is 18.7927695028405, parameters k is 10.291727676874157 and b is -23.58588802585761\n",
      "Iteration 238, the loss is 18.7766705721306, parameters k is 10.282856253949255 and b is -23.546757591075\n",
      "Iteration 239, the loss is 18.76057308383397, parameters k is 10.275850878455184 and b is -23.507231899375395\n",
      "Iteration 240, the loss is 18.744483589920286, parameters k is 10.266979455530283 and b is -23.468101464592785\n",
      "Iteration 241, the loss is 18.728384659210363, parameters k is 10.258108032605382 and b is -23.428971029810175\n",
      "Iteration 242, the loss is 18.71228572850048, parameters k is 10.24923660968048 and b is -23.389840595027565\n",
      "Iteration 243, the loss is 18.696195373431188, parameters k is 10.24223123418641 and b is -23.35031490332796\n",
      "Iteration 244, the loss is 18.680098746290184, parameters k is 10.233359811261508 and b is -23.31118446854535\n",
      "Iteration 245, the loss is 18.663999815580283, parameters k is 10.224488388336606 and b is -23.27205403376274\n",
      "Iteration 246, the loss is 18.647905714528832, parameters k is 10.217483012842536 and b is -23.232528342063134\n",
      "Iteration 247, the loss is 18.631812833369942, parameters k is 10.208611589917634 and b is -23.193397907280524\n",
      "Iteration 248, the loss is 18.615713902660065, parameters k is 10.199740166992733 and b is -23.154267472497914\n",
      "Iteration 249, the loss is 18.59961605562649, parameters k is 10.192734791498662 and b is -23.114741780798308\n",
      "Iteration 250, the loss is 18.58352692044973, parameters k is 10.18386336857376 and b is -23.075611346015698\n",
      "Iteration 251, the loss is 18.567427989739844, parameters k is 10.17499194564886 and b is -23.036480911233088\n",
      "Iteration 252, the loss is 18.55132905902995, parameters k is 10.166120522723958 and b is -22.997350476450478\n",
      "Iteration 253, the loss is 18.53523834522373, parameters k is 10.159115147229887 and b is -22.957824784750873\n",
      "Iteration 254, the loss is 18.51914207681962, parameters k is 10.150243724304985 and b is -22.918694349968263\n",
      "Iteration 255, the loss is 18.503043146109746, parameters k is 10.141372301380084 and b is -22.879563915185653\n",
      "Iteration 256, the loss is 18.486948686321377, parameters k is 10.134366925886013 and b is -22.840038223486047\n",
      "Iteration 257, the loss is 18.470856163899416, parameters k is 10.125495502961112 and b is -22.800907788703437\n",
      "Iteration 258, the loss is 18.45475723318953, parameters k is 10.11662408003621 and b is -22.761777353920827\n",
      "Iteration 259, the loss is 18.43865902741902, parameters k is 10.10961870454214 and b is -22.722251662221222\n",
      "Iteration 260, the loss is 18.422570250979206, parameters k is 10.100747281617238 and b is -22.683121227438612\n",
      "Iteration 261, the loss is 18.4064713202693, parameters k is 10.091875858692337 and b is -22.643990792656002\n",
      "Iteration 262, the loss is 18.39037238955944, parameters k is 10.083004435767435 and b is -22.60486035787339\n",
      "Iteration 263, the loss is 18.374281317016226, parameters k is 10.075999060273364 and b is -22.565334666173786\n",
      "Iteration 264, the loss is 18.3581854073491, parameters k is 10.067127637348463 and b is -22.526204231391176\n",
      "Iteration 265, the loss is 18.342086476639214, parameters k is 10.058256214423562 and b is -22.487073796608566\n",
      "Iteration 266, the loss is 18.325991658113892, parameters k is 10.05125083892949 and b is -22.44754810490896\n",
      "Iteration 267, the loss is 18.309899494428887, parameters k is 10.04237941600459 and b is -22.40841767012635\n",
      "Iteration 268, the loss is 18.293800563719024, parameters k is 10.033507993079688 and b is -22.36928723534374\n",
      "Iteration 269, the loss is 18.277701999211537, parameters k is 10.026502617585617 and b is -22.329761543644135\n",
      "Iteration 270, the loss is 18.261613581508673, parameters k is 10.017631194660716 and b is -22.290631108861525\n",
      "Iteration 271, the loss is 18.24551465079879, parameters k is 10.008759771735814 and b is -22.251500674078915\n",
      "Iteration 272, the loss is 18.229415720088905, parameters k is 9.999888348810913 and b is -22.212370239296305\n",
      "Iteration 273, the loss is 18.213324288808742, parameters k is 9.992882973316842 and b is -22.1728445475967\n",
      "Iteration 274, the loss is 18.197228737878575, parameters k is 9.98401155039194 and b is -22.13371411281409\n",
      "Iteration 275, the loss is 18.181129807168684, parameters k is 9.97514012746704 and b is -22.09458367803148\n",
      "Iteration 276, the loss is 18.165034629906422, parameters k is 9.968134751972968 and b is -22.055057986331875\n",
      "Iteration 277, the loss is 18.148956760266287, parameters k is 9.957682854739767 and b is -22.016322808466263\n",
      "Iteration 278, the loss is 18.132880381602313, parameters k is 9.949097004937396 and b is -21.977192373683653\n",
      "Iteration 279, the loss is 18.11683130417127, parameters k is 9.940511155135026 and b is -21.938061938901043\n",
      "Iteration 280, the loss is 18.100782226740215, parameters k is 9.931925305332655 and b is -21.898931504118433\n",
      "Iteration 281, the loss is 18.084733149309166, parameters k is 9.923339455530284 and b is -21.859801069335823\n",
      "Iteration 282, the loss is 18.068684071878103, parameters k is 9.914753605727913 and b is -21.820670634553213\n",
      "Iteration 283, the loss is 18.052634994447093, parameters k is 9.906167755925543 and b is -21.781540199770603\n",
      "Iteration 284, the loss is 18.03658591701602, parameters k is 9.897581906123172 and b is -21.742409764987993\n",
      "Iteration 285, the loss is 18.020536839584977, parameters k is 9.888996056320801 and b is -21.703279330205383\n",
      "Iteration 286, the loss is 18.00448776215395, parameters k is 9.88041020651843 and b is -21.664148895422773\n",
      "Iteration 287, the loss is 17.988438684722897, parameters k is 9.87182435671606 and b is -21.625018460640163\n",
      "Iteration 288, the loss is 17.972389607291838, parameters k is 9.863238506913689 and b is -21.585888025857553\n",
      "Iteration 289, the loss is 17.956340529860796, parameters k is 9.854652657111318 and b is -21.546757591074943\n",
      "Iteration 290, the loss is 17.940291452429733, parameters k is 9.846066807308947 and b is -21.507627156292333\n",
      "Iteration 291, the loss is 17.924242374998695, parameters k is 9.837480957506576 and b is -21.468496721509723\n",
      "Iteration 292, the loss is 17.90819329756766, parameters k is 9.828895107704206 and b is -21.429366286727113\n",
      "Iteration 293, the loss is 17.8921442201366, parameters k is 9.820309257901835 and b is -21.390235851944503\n",
      "Iteration 294, the loss is 17.876095142705513, parameters k is 9.811723408099464 and b is -21.351105417161893\n",
      "Iteration 295, the loss is 17.86004606527451, parameters k is 9.803137558297093 and b is -21.311974982379283\n",
      "Iteration 296, the loss is 17.843996987843465, parameters k is 9.794551708494723 and b is -21.272844547596673\n",
      "Iteration 297, the loss is 17.827947910412387, parameters k is 9.785965858692352 and b is -21.233714112814063\n",
      "Iteration 298, the loss is 17.811898832981356, parameters k is 9.777380008889981 and b is -21.194583678031453\n",
      "Iteration 299, the loss is 17.795849755550297, parameters k is 9.76879415908761 and b is -21.155453243248843\n"
     ]
    }
   ],
   "source": [
    "k = random.random()*100 - 50\n",
    "b = random.random()*100 - 50\n",
    "learning_rate = 1e-1\n",
    "iteration_num =300\n",
    "losses = []\n",
    "for i in range(iteration_num):\n",
    "    price_current_use_params = [price(r, k, b) for r in x_dis]\n",
    "    current_loss = loss(y,price_current_use_params)\n",
    "    losses.append(current_loss)\n",
    "    k_gradient = partial_derivative_k(x_dis,y,price_current_use_params)\n",
    "    b_gradient = partial_derivative_b(x_dis,y,price_current_use_params)\n",
    "    k = k+(-1*k_gradient)*learning_rate\n",
    "    b = b+(-1*b_gradient)*learning_rate\n",
    "    print(\"Iteration {}, the loss is {}, parameters k is {} and b is {}\".format(i,current_loss,k,b))\n",
    "best_k = k\n",
    "best_b = b"
   ]
  },
  {
   "cell_type": "code",
   "execution_count": 258,
   "metadata": {},
   "outputs": [
    {
     "data": {
      "text/plain": [
       "[<matplotlib.lines.Line2D at 0x1a3089be10>]"
      ]
     },
     "execution_count": 258,
     "metadata": {},
     "output_type": "execute_result"
    },
    {
     "data": {
      "image/png": "[encoded data removed]",
      "text/plain": [
       "<Figure size 432x288 with 1 Axes>"
      ]
     },
     "metadata": {
      "needs_background": "light"
     },
     "output_type": "display_data"
    }
   ],
   "source": [
    "plt.plot(list(range(iteration_num)),losses)"
   ]
  },
  {
   "cell_type": "code",
   "execution_count": 259,
   "metadata": {},
   "outputs": [
    {
     "data": {
      "text/plain": [
       "<matplotlib.collections.PathCollection at 0x1a308bb630>"
      ]
     },
     "execution_count": 259,
     "metadata": {},
     "output_type": "execute_result"
    },
    {
     "data": {
      "image/png": "[encoded data removed]",
      "text/plain": [
       "<Figure size 432x288 with 1 Axes>"
      ]
     },
     "metadata": {
      "needs_background": "light"
     },
     "output_type": "display_data"
    }
   ],
   "source": [
    "price_use_best_parameters = [price(r, best_k, best_b) for r in x_dis]\n",
    "plt.scatter(x_dis,y)\n",
    "plt.scatter(x_dis,price_current_use_params)"
   ]
  },
  {
   "cell_type": "code",
   "execution_count": null,
   "metadata": {},
   "outputs": [],
   "source": []
  }
 ],
 "metadata": {
  "kernelspec": {
   "display_name": "Python 3",
   "language": "python",
   "name": "python3"
  },
  "language_info": {
   "codemirror_mode": {
    "name": "ipython",
    "version": 3
   },
   "file_extension": ".py",
   "mimetype": "text/x-python",
   "name": "python",
   "nbconvert_exporter": "python",
   "pygments_lexer": "ipython3",
   "version": "3.7.3"
  }
 },
 "nbformat": 4,
 "nbformat_minor": 2
}
