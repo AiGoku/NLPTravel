{
 "cells": [
  {
   "cell_type": "markdown",
   "metadata": {},
   "source": [
    "## Assignment-03 First Step of Machine Learning: Model and Evaluation¶\n"
   ]
  },
  {
   "cell_type": "markdown",
   "metadata": {},
   "source": [
    "### Part-1 Programming Review 编程回顾¶\n"
   ]
  },
  {
   "cell_type": "markdown",
   "metadata": {},
   "source": [
    "#### 1. Re-code the Linear-Regression Model using scikit-learning(10 points)¶\n"
   ]
  },
  {
   "cell_type": "code",
   "execution_count": 1,
   "metadata": {
    "pycharm": {
     "name": "#%%\n"
    }
   },
   "outputs": [],
   "source": [
    "import random\n",
    "import numpy as np\n",
    "from sklearn.linear_model import LinearRegression\n",
    "%matplotlib inline\n",
    "import matplotlib.pyplot as plt"
   ]
  },
  {
   "cell_type": "code",
   "execution_count": 2,
   "metadata": {
    "pycharm": {
     "name": "#%%\n"
    }
   },
   "outputs": [],
   "source": [
    "X = np.random.random((20,1))"
   ]
  },
  {
   "cell_type": "code",
   "execution_count": 3,
   "metadata": {
    "pycharm": {
     "name": "#%%\n"
    }
   },
   "outputs": [
    {
     "name": "stdout",
     "output_type": "stream",
     "text": [
      "[[0.74358765]\n",
      " [0.0476253 ]\n",
      " [0.36229609]\n",
      " [0.42875979]\n",
      " [0.945568  ]\n",
      " [0.31182765]\n",
      " [0.78702513]\n",
      " [0.18811916]\n",
      " [0.67796478]\n",
      " [0.64497637]\n",
      " [0.9876444 ]\n",
      " [0.8077829 ]\n",
      " [0.23454138]\n",
      " [0.38442139]\n",
      " [0.22851956]\n",
      " [0.98453175]\n",
      " [0.94068341]\n",
      " [0.88164914]\n",
      " [0.59518095]\n",
      " [0.02123735]]\n"
     ]
    }
   ],
   "source": [
    "print(X)"
   ]
  },
  {
   "cell_type": "code",
   "execution_count": 4,
   "metadata": {
    "pycharm": {
     "name": "#%%\n"
    }
   },
   "outputs": [],
   "source": [
    "def line_function(x):\n",
    "    return 5.2*x+13.14+random.randint(-1,1)"
   ]
  },
  {
   "cell_type": "code",
   "execution_count": 5,
   "metadata": {
    "pycharm": {
     "name": "#%%\n"
    }
   },
   "outputs": [],
   "source": [
    "y = [line_function(x) for x in X]"
   ]
  },
  {
   "cell_type": "code",
   "execution_count": 6,
   "metadata": {
    "pycharm": {
     "name": "#%%\n"
    }
   },
   "outputs": [
    {
     "data": {
      "text/plain": [
       "<matplotlib.collections.PathCollection at 0x1e3ea4c6828>"
      ]
     },
     "execution_count": 6,
     "metadata": {},
     "output_type": "execute_result"
    },
    {
     "data": {
      "image/png": "[encoded data removed]",
      "text/plain": [
       "<Figure size 432x288 with 1 Axes>"
      ]
     },
     "metadata": {
      "needs_background": "light"
     },
     "output_type": "display_data"
    }
   ],
   "source": [
    "plt.scatter(X,y)"
   ]
  },
  {
   "cell_type": "code",
   "execution_count": 7,
   "metadata": {
    "pycharm": {
     "name": "#%%\n"
    }
   },
   "outputs": [],
   "source": [
    "lr = LinearRegression().fit(X,y)"
   ]
  },
  {
   "cell_type": "code",
   "execution_count": 8,
   "metadata": {
    "pycharm": {
     "name": "#%%\n"
    }
   },
   "outputs": [
    {
     "name": "stdout",
     "output_type": "stream",
     "text": [
      "[[4.85681648]]\n",
      "[13.33225042]\n"
     ]
    }
   ],
   "source": [
    "k = lr.coef_\n",
    "print(k)\n",
    "b = lr.intercept_\n",
    "print(b)"
   ]
  },
  {
   "cell_type": "code",
   "execution_count": 9,
   "metadata": {
    "pycharm": {
     "name": "#%%\n"
    }
   },
   "outputs": [],
   "source": [
    "def f(x):\n",
    "    return k*x+b"
   ]
  },
  {
   "cell_type": "code",
   "execution_count": 10,
   "metadata": {
    "pycharm": {
     "name": "#%%\n"
    }
   },
   "outputs": [
    {
     "data": {
      "text/plain": [
       "[<matplotlib.lines.Line2D at 0x1e3ea4c64e0>]"
      ]
     },
     "execution_count": 10,
     "metadata": {},
     "output_type": "execute_result"
    },
    {
     "data": {
      "image/png": "[encoded data removed]",
      "text/plain": [
       "<Figure size 432x288 with 1 Axes>"
      ]
     },
     "metadata": {
      "needs_background": "light"
     },
     "output_type": "display_data"
    }
   ],
   "source": [
    "plt.scatter(X,y)\n",
    "plt.plot(X,f(X),color='yellow')"
   ]
  },
  {
   "cell_type": "markdown",
   "metadata": {},
   "source": [
    "#### 2. Complete the unfinished KNN Model using pure python to solve the previous Line-Regression problem. (8 points)"
   ]
  },
  {
   "cell_type": "code",
   "execution_count": 11,
   "metadata": {
    "pycharm": {
     "name": "#%%\n"
    }
   },
   "outputs": [],
   "source": [
    "from collections import Counter\n",
    "from scipy.spatial.distance import cosine\n"
   ]
  },
  {
   "cell_type": "code",
   "execution_count": 12,
   "metadata": {
    "pycharm": {
     "name": "#%%\n"
    }
   },
   "outputs": [],
   "source": [
    "def X_y_model(trainX,trainY):\n",
    "    return[(Xi,yi) for Xi,yi in zip(trainX,trainY)]"
   ]
  },
  {
   "cell_type": "code",
   "execution_count": 13,
   "metadata": {
    "pycharm": {
     "name": "#%%\n"
    }
   },
   "outputs": [],
   "source": [
    "def distance(x1,x2):\n",
    "    return abs(x1-x2)"
   ]
  },
  {
   "cell_type": "code",
   "execution_count": 14,
   "metadata": {
    "pycharm": {
     "name": "#%%\n"
    }
   },
   "outputs": [],
   "source": [
    "def knn_predict(testx,trainX,trainY,count):\n",
    "    result = sorted(X_y_model(trainX,trainY),key=lambda x1:distance(x1[0],testx))[:count]\n",
    "    y_list = [x_y[1][0] for x_y in result ]\n",
    "    best_result = Counter(y_list).most_common(count)\n",
    "    print(best_result)\n",
    "    return best_result[0][0]"
   ]
  },
  {
   "cell_type": "code",
   "execution_count": 15,
   "metadata": {
    "pycharm": {
     "name": "#%%\n"
    }
   },
   "outputs": [
    {
     "name": "stdout",
     "output_type": "stream",
     "text": [
      "[(13.76150378431129, 1), (14.023939677522737, 1), (15.359615164089366, 1), (13.328301696119123, 1), (16.138991220722176, 1), (13.118219657364873, 1), (14.369550887136347, 1), (14.387651577740675, 1), (14.250434208583092, 1), (17.234940959188624, 1)]\n"
     ]
    },
    {
     "data": {
      "text/plain": [
       "13.76150378431129"
      ]
     },
     "execution_count": 15,
     "metadata": {},
     "output_type": "execute_result"
    }
   ],
   "source": [
    "knn_predict(0.3,X,y,10)"
   ]
  },
  {
   "cell_type": "code",
   "execution_count": 16,
   "metadata": {
    "pycharm": {
     "name": "#%%\n"
    }
   },
   "outputs": [
    {
     "data": {
      "text/plain": [
       "array([[14.78929536]])"
      ]
     },
     "execution_count": 16,
     "metadata": {},
     "output_type": "execute_result"
    }
   ],
   "source": [
    "f(0.3)"
   ]
  },
  {
   "cell_type": "markdown",
   "metadata": {},
   "source": [
    "#### 3. Re-code the Decision Tree, which could sort the features by salience. (12 points)¶\n"
   ]
  },
  {
   "cell_type": "code",
   "execution_count": 17,
   "metadata": {
    "pycharm": {
     "name": "#%%\n"
    }
   },
   "outputs": [],
   "source": [
    "import pandas as pd"
   ]
  },
  {
   "cell_type": "code",
   "execution_count": 18,
   "metadata": {
    "pycharm": {
     "name": "#%%\n"
    }
   },
   "outputs": [],
   "source": [
    "def entropy(elements):\n",
    "    counter = Counter(elements)\n",
    "    probs = [counter[c] / len(elements) for c in set(elements)]\n",
    "    return - sum(p * np.log(p) for p in probs)"
   ]
  },
  {
   "cell_type": "code",
   "execution_count": 19,
   "metadata": {
    "pycharm": {
     "name": "#%%\n"
    }
   },
   "outputs": [],
   "source": [
    "data = {\n",
    "    'gender':['F','F','F','M','M','M','M','M','F','M'],\n",
    "    'fair_color':['black','red','blue','yellow','blue','red','blue','red','yellow','yellow'],\n",
    "    'fighting_capacity_over_50000':[1,1,1,0,1,0,0,1,1,0],\n",
    "    'super_saiyan':[0,0,0,1,1,0,0,1,0,0]\n",
    "}"
   ]
  },
  {
   "cell_type": "code",
   "execution_count": 20,
   "metadata": {
    "pycharm": {
     "name": "#%%\n"
    }
   },
   "outputs": [],
   "source": [
    "dataset = pd.DataFrame.from_dict(data)"
   ]
  },
  {
   "cell_type": "code",
   "execution_count": 21,
   "metadata": {
    "pycharm": {
     "name": "#%%\n"
    }
   },
   "outputs": [
    {
     "data": {
      "text/html": [
       "<div>\n",
       "<style scoped>\n",
       "    .dataframe tbody tr th:only-of-type {\n",
       "        vertical-align: middle;\n",
       "    }\n",
       "\n",
       "    .dataframe tbody tr th {\n",
       "        vertical-align: top;\n",
       "    }\n",
       "\n",
       "    .dataframe thead th {\n",
       "        text-align: right;\n",
       "    }\n",
       "</style>\n",
       "<table border=\"1\" class=\"dataframe\">\n",
       "  <thead>\n",
       "    <tr style=\"text-align: right;\">\n",
       "      <th></th>\n",
       "      <th>gender</th>\n",
       "      <th>fair_color</th>\n",
       "      <th>fighting_capacity_over_50000</th>\n",
       "      <th>super_saiyan</th>\n",
       "    </tr>\n",
       "  </thead>\n",
       "  <tbody>\n",
       "    <tr>\n",
       "      <th>0</th>\n",
       "      <td>F</td>\n",
       "      <td>black</td>\n",
       "      <td>1</td>\n",
       "      <td>0</td>\n",
       "    </tr>\n",
       "    <tr>\n",
       "      <th>1</th>\n",
       "      <td>F</td>\n",
       "      <td>red</td>\n",
       "      <td>1</td>\n",
       "      <td>0</td>\n",
       "    </tr>\n",
       "    <tr>\n",
       "      <th>2</th>\n",
       "      <td>F</td>\n",
       "      <td>blue</td>\n",
       "      <td>1</td>\n",
       "      <td>0</td>\n",
       "    </tr>\n",
       "    <tr>\n",
       "      <th>3</th>\n",
       "      <td>M</td>\n",
       "      <td>yellow</td>\n",
       "      <td>0</td>\n",
       "      <td>1</td>\n",
       "    </tr>\n",
       "    <tr>\n",
       "      <th>4</th>\n",
       "      <td>M</td>\n",
       "      <td>blue</td>\n",
       "      <td>1</td>\n",
       "      <td>1</td>\n",
       "    </tr>\n",
       "    <tr>\n",
       "      <th>5</th>\n",
       "      <td>M</td>\n",
       "      <td>red</td>\n",
       "      <td>0</td>\n",
       "      <td>0</td>\n",
       "    </tr>\n",
       "    <tr>\n",
       "      <th>6</th>\n",
       "      <td>M</td>\n",
       "      <td>blue</td>\n",
       "      <td>0</td>\n",
       "      <td>0</td>\n",
       "    </tr>\n",
       "    <tr>\n",
       "      <th>7</th>\n",
       "      <td>M</td>\n",
       "      <td>red</td>\n",
       "      <td>1</td>\n",
       "      <td>1</td>\n",
       "    </tr>\n",
       "    <tr>\n",
       "      <th>8</th>\n",
       "      <td>F</td>\n",
       "      <td>yellow</td>\n",
       "      <td>1</td>\n",
       "      <td>0</td>\n",
       "    </tr>\n",
       "    <tr>\n",
       "      <th>9</th>\n",
       "      <td>M</td>\n",
       "      <td>yellow</td>\n",
       "      <td>0</td>\n",
       "      <td>0</td>\n",
       "    </tr>\n",
       "  </tbody>\n",
       "</table>\n",
       "</div>"
      ],
      "text/plain": [
       "  gender fair_color  fighting_capacity_over_50000  super_saiyan\n",
       "0      F      black                             1             0\n",
       "1      F        red                             1             0\n",
       "2      F       blue                             1             0\n",
       "3      M     yellow                             0             1\n",
       "4      M       blue                             1             1\n",
       "5      M        red                             0             0\n",
       "6      M       blue                             0             0\n",
       "7      M        red                             1             1\n",
       "8      F     yellow                             1             0\n",
       "9      M     yellow                             0             0"
      ]
     },
     "execution_count": 21,
     "metadata": {},
     "output_type": "execute_result"
    }
   ],
   "source": [
    "dataset"
   ]
  },
  {
   "cell_type": "code",
   "execution_count": 22,
   "metadata": {
    "pycharm": {
     "name": "#%%\n"
    }
   },
   "outputs": [
    {
     "data": {
      "text/plain": [
       "{'black', 'blue', 'red', 'yellow'}"
      ]
     },
     "execution_count": 22,
     "metadata": {},
     "output_type": "execute_result"
    }
   ],
   "source": [
    "set(data['fair_color'])"
   ]
  },
  {
   "cell_type": "code",
   "execution_count": 23,
   "metadata": {
    "pycharm": {
     "name": "#%%\n"
    }
   },
   "outputs": [
    {
     "data": {
      "text/plain": [
       "[0, 0, 0, 0]"
      ]
     },
     "execution_count": 23,
     "metadata": {},
     "output_type": "execute_result"
    }
   ],
   "source": [
    "sub_split_1 = dataset[dataset['gender']=='F']['super_saiyan'].tolist()\n",
    "sub_split_1\n"
   ]
  },
  {
   "cell_type": "code",
   "execution_count": 24,
   "metadata": {
    "pycharm": {
     "name": "#%%\n"
    }
   },
   "outputs": [],
   "source": [
    "def find_min_feature_spilter(train_data:pd.DataFrame,target:str) ->str:\n",
    "    features = set(train_data.columns.tolist()) - {target}\n",
    "    spliter = None\n",
    "    min_entropy = float('inf')\n",
    "    for f in features:\n",
    "        values = set(train_data[f])\n",
    "        for v in values:\n",
    "            sub_spliter1 = train_data[train_data[f]==v][target].tolist()\n",
    "            entropy1 = entropy(sub_spliter1)\n",
    "            \n",
    "            sub_spliter2 = train_data[train_data[f]!=v][target].tolist()\n",
    "            entropy2 = entropy(sub_spliter2)\n",
    "            \n",
    "            entropy_v = entropy1 + entropy2\n",
    "            \n",
    "            if entropy_v<=min_entropy:\n",
    "                min_entropy = entropy_v\n",
    "                spliter = (f,v)\n",
    "    return spliter,min_entropy\n",
    "            "
   ]
  },
  {
   "cell_type": "code",
   "execution_count": 25,
   "metadata": {
    "pycharm": {
     "name": "#%%\n"
    }
   },
   "outputs": [
    {
     "data": {
      "text/plain": [
       "(('fair_color', 'black'), 0.6365141682948128)"
      ]
     },
     "execution_count": 25,
     "metadata": {},
     "output_type": "execute_result"
    }
   ],
   "source": [
    "find_min_feature_spilter(dataset,'super_saiyan')\n"
   ]
  },
  {
   "cell_type": "code",
   "execution_count": 26,
   "metadata": {
    "pycharm": {
     "name": "#%%\n"
    }
   },
   "outputs": [
    {
     "data": {
      "text/plain": [
       "[0, 0, 1, 1, 0, 0, 1, 0, 0]"
      ]
     },
     "execution_count": 26,
     "metadata": {},
     "output_type": "execute_result"
    }
   ],
   "source": [
    "dataset[dataset['fair_color']!='black']['super_saiyan'].tolist()"
   ]
  },
  {
   "cell_type": "code",
   "execution_count": 27,
   "metadata": {
    "pycharm": {
     "name": "#%%\n"
    }
   },
   "outputs": [
    {
     "data": {
      "text/html": [
       "<div>\n",
       "<style scoped>\n",
       "    .dataframe tbody tr th:only-of-type {\n",
       "        vertical-align: middle;\n",
       "    }\n",
       "\n",
       "    .dataframe tbody tr th {\n",
       "        vertical-align: top;\n",
       "    }\n",
       "\n",
       "    .dataframe thead th {\n",
       "        text-align: right;\n",
       "    }\n",
       "</style>\n",
       "<table border=\"1\" class=\"dataframe\">\n",
       "  <thead>\n",
       "    <tr style=\"text-align: right;\">\n",
       "      <th></th>\n",
       "      <th>gender</th>\n",
       "      <th>fair_color</th>\n",
       "      <th>fighting_capacity_over_50000</th>\n",
       "      <th>super_saiyan</th>\n",
       "    </tr>\n",
       "  </thead>\n",
       "  <tbody>\n",
       "  </tbody>\n",
       "</table>\n",
       "</div>"
      ],
      "text/plain": [
       "Empty DataFrame\n",
       "Columns: [gender, fair_color, fighting_capacity_over_50000, super_saiyan]\n",
       "Index: []"
      ]
     },
     "execution_count": 27,
     "metadata": {},
     "output_type": "execute_result"
    }
   ],
   "source": [
    "dataset[dataset['fair_color']=='green']"
   ]
  },
  {
   "cell_type": "code",
   "execution_count": 28,
   "metadata": {
    "pycharm": {
     "name": "#%%\n"
    }
   },
   "outputs": [],
   "source": [
    "def predicate(gender,fair_color,fighting_capacity_over_50000,train_data:pd.DataFrame):\n",
    "            \n",
    "    (feature,value),min_entropy = find_min_feature_spilter(train_data,\"super_saiyan\")\n",
    "    print(feature,value,min_entropy)\n",
    "    print(train_data)\n",
    "    if(feature=='gender'):\n",
    "        if(value==gender):\n",
    "            train_data = train_data[train_data[feature]==value]      \n",
    "        else:\n",
    "            train_data = train_data[train_data[feature]!=value]\n",
    "    if(feature=='fair_color'):\n",
    "        if(value==fair_color):\n",
    "            train_data = train_data[train_data[feature]==value]\n",
    "        else:\n",
    "            train_data = train_data[train_data[feature]!=value]\n",
    "    if(feature=='fighting_capacity_over_50000'):\n",
    "        if(value==fighting_capacity_over_50000):\n",
    "            train_data = train_data[train_data[feature]==value]\n",
    "        else:\n",
    "            train_data = train_data[train_data[feature]!=value];\n",
    "       \n",
    "    if(len(set(train_data['super_saiyan']))==1):\n",
    "        return train_data[\"super_saiyan\"]\n",
    "    else:\n",
    "        (f,v),this_entropy = find_min_feature_spilter(train_data,\"super_saiyan\")\n",
    "        print(f,v,min_entropy)\n",
    "        print(train_data)\n",
    "        if this_entropy<=min_entropy:\n",
    "            \n",
    "            return predicate(gender,fair_color,fighting_capacity_over_50000,train_data)\n",
    "        else:\n",
    "            return train_data[\"super_saiyan\"]"
   ]
  },
  {
   "cell_type": "code",
   "execution_count": 29,
   "metadata": {
    "pycharm": {
     "name": "#%%\n"
    }
   },
   "outputs": [
    {
     "name": "stdout",
     "output_type": "stream",
     "text": [
      "fair_color black 0.6365141682948128\n",
      "  gender fair_color  fighting_capacity_over_50000  super_saiyan\n",
      "0      F      black                             1             0\n",
      "1      F        red                             1             0\n",
      "2      F       blue                             1             0\n",
      "3      M     yellow                             0             1\n",
      "4      M       blue                             1             1\n",
      "5      M        red                             0             0\n",
      "6      M       blue                             0             0\n",
      "7      M        red                             1             1\n",
      "8      F     yellow                             1             0\n",
      "9      M     yellow                             0             0\n",
      "gender F 0.6365141682948128\n",
      "  gender fair_color  fighting_capacity_over_50000  super_saiyan\n",
      "1      F        red                             1             0\n",
      "2      F       blue                             1             0\n",
      "3      M     yellow                             0             1\n",
      "4      M       blue                             1             1\n",
      "5      M        red                             0             0\n",
      "6      M       blue                             0             0\n",
      "7      M        red                             1             1\n",
      "8      F     yellow                             1             0\n",
      "9      M     yellow                             0             0\n",
      "1    0\n",
      "2    0\n",
      "3    1\n",
      "4    1\n",
      "5    0\n",
      "6    0\n",
      "7    1\n",
      "8    0\n",
      "9    0\n",
      "Name: super_saiyan, dtype: int64\n"
     ]
    }
   ],
   "source": [
    "result1 = predicate('M','red',1,dataset)\n",
    "print(result1)\n"
   ]
  },
  {
   "cell_type": "markdown",
   "metadata": {},
   "source": [
    "#### 4. Finish the K-Means using 2-D matplotlib (8 points)"
   ]
  },
  {
   "cell_type": "code",
   "execution_count": 30,
   "metadata": {
    "pycharm": {
     "name": "#%%\n"
    }
   },
   "outputs": [
    {
     "data": {
      "text/plain": [
       "<matplotlib.collections.PathCollection at 0x1e3ec40eda0>"
      ]
     },
     "execution_count": 30,
     "metadata": {},
     "output_type": "execute_result"
    },
    {
     "data": {
      "image/png": "[encoded data removed]",
      "text/plain": [
       "<Figure size 432x288 with 1 Axes>"
      ]
     },
     "metadata": {
      "needs_background": "light"
     },
     "output_type": "display_data"
    }
   ],
   "source": [
    "from sklearn.cluster import KMeans\n",
    "from collections import defaultdict\n",
    "\n",
    "X = [random.randint(0,100) for _ in range(200)]\n",
    "Y = [random.randint(0,100) for _ in range(200)]\n",
    "plt.scatter(X,Y)"
   ]
  },
  {
   "cell_type": "code",
   "execution_count": 31,
   "metadata": {
    "pycharm": {
     "name": "#%%\n"
    }
   },
   "outputs": [],
   "source": [
    "train_data = [[x,y] for x,y in zip(X,Y)]"
   ]
  },
  {
   "cell_type": "code",
   "execution_count": 32,
   "metadata": {
    "pycharm": {
     "name": "#%%\n"
    }
   },
   "outputs": [],
   "source": [
    "def kmeans_model(train_data,clusters,color,max_iter):\n",
    "    model = KMeans(n_clusters=clusters,max_iter=max_iter)\n",
    "    model.fit(train_data)\n",
    "    \n",
    "    centers = defaultdict(list)\n",
    "    for label,location in zip(model.labels_,train_data):\n",
    "        centers[label].append(location)\n",
    "    \n",
    "    for i,c in enumerate(centers):\n",
    "        for location in centers[c]:\n",
    "            plt.scatter(*location,c=color[i])\n",
    "    for center in model.cluster_centers_:\n",
    "        plt.scatter(*center,s=100)"
   ]
  },
  {
   "cell_type": "code",
   "execution_count": 33,
   "metadata": {
    "pycharm": {
     "name": "#%%\n"
    }
   },
   "outputs": [
    {
     "data": {
      "image/png": "[encoded data removed]",
      "text/plain": [
       "<Figure size 432x288 with 1 Axes>"
      ]
     },
     "metadata": {
      "needs_background": "light"
     },
     "output_type": "display_data"
    }
   ],
   "source": [
    "kmeans_model(train_data,5,color=['red', 'green', 'grey', 'black', 'yellow'],max_iter=50)"
   ]
  },
  {
   "cell_type": "markdown",
   "metadata": {},
   "source": [
    "### Part-2 Question and Answer 问答"
   ]
  },
  {
   "cell_type": "markdown",
   "metadata": {},
   "source": [
    "#### 1. What's the model? why all the models are wrong, but some are useful? (5 points)"
   ]
  },
  {
   "cell_type": "markdown",
   "metadata": {},
   "source": [
    "模型是指对于某个实际问题或客观事物、规律进行抽象后的一种形式化表达方式\n",
    "模型是错误的，模型只是对现实复杂问题的简化或理想化，\n",
    "有用是指，对于现实复杂问题简化很有用，方便于理解和计算"
   ]
  },
  {
   "cell_type": "markdown",
   "metadata": {},
   "source": [
    "#### 2. What's the underfitting and overfitting? List the reasons that could make model overfitting or underfitting. (10 points)"
   ]
  },
  {
   "cell_type": "markdown",
   "metadata": {},
   "source": [
    "过拟合\n",
    "模型过度拟合，在训练集上表现好，但是在测试集上效果差，也就是说在已知的数据集合中非常好，但是在添加一些新的数据进来训练效果就会差很多，造成这样的原因是考虑影响因素太多，超出自变量的维度过于多了\n",
    "欠拟合（高偏差）\n",
    "模型拟合不够，在训练集上表现效果差，没有充分的利用数据，预测的准确度低。"
   ]
  },
  {
   "cell_type": "markdown",
   "metadata": {},
   "source": [
    "#### 3. What's the precision, recall, AUC, F1, F2score. What are they mainly target on? (12')"
   ]
  },
  {
   "cell_type": "markdown",
   "metadata": {},
   "source": [
    "真阳性（TP）：诊断为有，实际上也有病。\n",
    "伪阳性（FP）：诊断为有，实际却没有病。\n",
    "真阴性（TN）：诊断为没有，实际上也没有病。\n",
    "伪阴性（FN）：诊断为没有，实际却有病。\n",
    "\n",
    "精确率(precision)的定义为$$P=\\frac {TP} {TP+FP}$$\n",
    "它表示的是预测为正的样本中有多少是真正的正样本\n",
    "\n",
    "召回率(recall)的定义为$$P=\\frac {TP} {TP+FN}$$\n",
    "它表示的是样本中的正例有多少被预测正确了\n",
    "\n",
    "P和R指标有时候会出现的矛盾的情况，这样就需要综合考虑他们\n",
    "$Fscore=\\frac{(a^2+1)*P*R} {a^2(P+R)}$\n",
    "当a=1时就是F1score\n",
    "$$F1=\\frac {2PR} {P+R}$$\n",
    "\n",
    "$F2score = 1-\\frac{\\sum((y_i-f_i)^2)} {\\sum((y_i-{\\hat{y}})^2}$\n",
    "\n",
    "AUC评价模型识别标准的一个值，曲线包裹的面积\n"
   ]
  },
  {
   "cell_type": "markdown",
   "metadata": {},
   "source": [
    "#### 4. Based on our course and yourself mind, what's the machine learning? (8')"
   ]
  },
  {
   "cell_type": "markdown",
   "metadata": {},
   "source": [
    "机器学习可以通过训练，具有识别、筛选、预测能力。"
   ]
  },
  {
   "cell_type": "markdown",
   "metadata": {},
   "source": [
    "#### 5. \"正确定义了机器学习模型的评价标准(evaluation)， 问题基本上就已经解决一半\". 这句话是否正确？你是怎么看待的？ (8‘)"
   ]
  },
  {
   "cell_type": "markdown",
   "metadata": {},
   "source": [
    "正确，正确定义了机器学习的评价标准就可以通过评价一个模型对于结果预测的准确度，进而更加接近于真实值"
   ]
  },
  {
   "cell_type": "markdown",
   "metadata": {},
   "source": [
    "### Part-03 Programming Practice 编程练习"
   ]
  },
  {
   "cell_type": "markdown",
   "metadata": {},
   "source": [
    "1"
   ]
  },
  {
   "cell_type": "code",
   "execution_count": 34,
   "metadata": {
    "pycharm": {
     "name": "#%%\n"
    }
   },
   "outputs": [],
   "source": [
    "def find_min_feature_spilter(train_data:pd.DataFrame,target:str) ->str:\n",
    "    features = set(train_data.columns.tolist()) - {target}\n",
    "    spliter = None\n",
    "    min_entropy = float('inf')\n",
    "    for f in features:\n",
    "        values = set(train_data[f])\n",
    "        for v in values:\n",
    "            sub_spliter1 = train_data[train_data[f]==v][target].tolist()\n",
    "            entropy1 = entropy(sub_spliter1)\n",
    "            \n",
    "            sub_spliter2 = train_data[train_data[f]!=v][target].tolist()\n",
    "            entropy2 = entropy(sub_spliter2)\n",
    "            \n",
    "            entropy_v = entropy1 + entropy2\n",
    "            \n",
    "            if entropy_v<=min_entropy:\n",
    "                min_entropy = entropy_v\n",
    "                spliter = (f,v)\n",
    "    print(spliter)\n",
    "    return spliter\n",
    "\n",
    "def distan_entropy(elements1,elements2):\n",
    "    result = abs(entropy(elements1)-entropy(el2))\n",
    "    return result"
   ]
  },
  {
   "cell_type": "code",
   "execution_count": 35,
   "metadata": {
    "pycharm": {
     "name": "#%%\n"
    }
   },
   "outputs": [
    {
     "name": "stdout",
     "output_type": "stream",
     "text": [
      "('fair_color', 'black')\n"
     ]
    },
    {
     "data": {
      "text/plain": [
       "('fair_color', 'black')"
      ]
     },
     "execution_count": 35,
     "metadata": {},
     "output_type": "execute_result"
    }
   ],
   "source": [
    "find_min_feature_spilter(dataset,'super_saiyan')"
   ]
  },
  {
   "cell_type": "code",
   "execution_count": 36,
   "metadata": {
    "pycharm": {
     "name": "#%%\n"
    }
   },
   "outputs": [
    {
     "ename": "SyntaxError",
     "evalue": "unexpected EOF while parsing (<ipython-input-36-c4522f52496d>, line 4)",
     "output_type": "error",
     "traceback": [
      "\u001b[1;36m  File \u001b[1;32m\"<ipython-input-36-c4522f52496d>\"\u001b[1;36m, line \u001b[1;32m4\u001b[0m\n\u001b[1;33m    \u001b[0m\n\u001b[1;37m    ^\u001b[0m\n\u001b[1;31mSyntaxError\u001b[0m\u001b[1;31m:\u001b[0m unexpected EOF while parsing\n"
     ]
    }
   ],
   "source": [
    "def predicate(gender,fair_color,fighting_capacity):\n",
    "     \n",
    "        \n",
    "      "
   ]
  },
  {
   "cell_type": "code",
   "execution_count": 37,
   "metadata": {
    "pycharm": {
     "name": "#%%\n"
    }
   },
   "outputs": [
    {
     "data": {
      "text/html": [
       "<div>\n",
       "<style scoped>\n",
       "    .dataframe tbody tr th:only-of-type {\n",
       "        vertical-align: middle;\n",
       "    }\n",
       "\n",
       "    .dataframe tbody tr th {\n",
       "        vertical-align: top;\n",
       "    }\n",
       "\n",
       "    .dataframe thead th {\n",
       "        text-align: right;\n",
       "    }\n",
       "</style>\n",
       "<table border=\"1\" class=\"dataframe\">\n",
       "  <thead>\n",
       "    <tr style=\"text-align: right;\">\n",
       "      <th></th>\n",
       "      <th>gender</th>\n",
       "      <th>fair_color</th>\n",
       "      <th>fighting_capacity_over_50000</th>\n",
       "      <th>super_saiyan</th>\n",
       "    </tr>\n",
       "  </thead>\n",
       "  <tbody>\n",
       "    <tr>\n",
       "      <th>0</th>\n",
       "      <td>F</td>\n",
       "      <td>black</td>\n",
       "      <td>1</td>\n",
       "      <td>0</td>\n",
       "    </tr>\n",
       "    <tr>\n",
       "      <th>1</th>\n",
       "      <td>F</td>\n",
       "      <td>red</td>\n",
       "      <td>1</td>\n",
       "      <td>0</td>\n",
       "    </tr>\n",
       "    <tr>\n",
       "      <th>2</th>\n",
       "      <td>F</td>\n",
       "      <td>blue</td>\n",
       "      <td>1</td>\n",
       "      <td>0</td>\n",
       "    </tr>\n",
       "    <tr>\n",
       "      <th>8</th>\n",
       "      <td>F</td>\n",
       "      <td>yellow</td>\n",
       "      <td>1</td>\n",
       "      <td>0</td>\n",
       "    </tr>\n",
       "  </tbody>\n",
       "</table>\n",
       "</div>"
      ],
      "text/plain": [
       "  gender fair_color  fighting_capacity_over_50000  super_saiyan\n",
       "0      F      black                             1             0\n",
       "1      F        red                             1             0\n",
       "2      F       blue                             1             0\n",
       "8      F     yellow                             1             0"
      ]
     },
     "execution_count": 37,
     "metadata": {},
     "output_type": "execute_result"
    }
   ],
   "source": [
    "dataset[dataset['gender']=='F']"
   ]
  },
  {
   "cell_type": "markdown",
   "metadata": {},
   "source": [
    "2"
   ]
  },
  {
   "cell_type": "markdown",
   "metadata": {},
   "source": [
    "### $$ \\frac{\\partial{loss}}{\\partial{k}} = \n",
    "\\begin{cases}\n",
    "-\\frac{1}{n}\\sum(x_i)     &y_i > {\\hat{y_i } }\\\\\n",
    "\\frac{1}{n}\\sum(x_i)      &y_i < {\\hat{y_i } }\\\\\n",
    "\\end{cases}$$"
   ]
  },
  {
   "cell_type": "markdown",
   "metadata": {},
   "source": [
    "### $$ \\frac{\\partial{loss}}{\\partial{b}} = \n",
    "\\begin{cases}\n",
    "-\\frac{1}{n}\\sum(1)     &y_i > {\\hat{y_i } }\\\\\n",
    "-\\frac{1}{n}\\sum(-1)      &y_i < {\\hat{y_i } }\\\\\n",
    "\\end{cases}$$"
   ]
  },
  {
   "cell_type": "code",
   "execution_count": 38,
   "metadata": {
    "pycharm": {
     "name": "#%%\n"
    }
   },
   "outputs": [],
   "source": [
    "from sklearn.datasets import load_boston\n",
    "import random\n",
    "import matplotlib.pyplot as plt\n",
    "\n",
    "datasets = load_boston()\n",
    "x,y = datasets['data'],datasets['target']\n",
    "x_dis = x[:,7]\n",
    "\n",
    "def price(dis,k,b):\n",
    "    return k * dis + b\n",
    "def loss(y,y_hat):\n",
    "    return sum((abs(y_i-y_hat_i)) for y_i,y_hat_i in zip(list(y),list(y_hat)))/len(list(y))"
   ]
  },
  {
   "cell_type": "code",
   "execution_count": 39,
   "metadata": {
    "pycharm": {
     "name": "#%%\n"
    }
   },
   "outputs": [],
   "source": [
    "def partial_derivative_k(x, y, y_hat):\n",
    "    n = len(y)\n",
    "    gradient = 0\n",
    "    for x_i, y_i, y_hat_i in zip(list(x),list(y),list(y_hat)):\n",
    "        if(y_i>y_hat_i):\n",
    "            gradient += -x_i\n",
    "        else:\n",
    "            gradient += x_i\n",
    "    return 1/n * gradient\n",
    "\n",
    "def partial_derivative_b(x, y, y_hat):\n",
    "    n = len(y)\n",
    "    gradient = 0\n",
    "    for x_i, y_i, y_hat_i in zip(list(x),list(y),list(y_hat)):\n",
    "        if(y_i>y_hat_i):\n",
    "            gradient += -1\n",
    "        else:\n",
    "            gradient += 1\n",
    "    return 1/n * gradient"
   ]
  },
  {
   "cell_type": "code",
   "execution_count": 40,
   "metadata": {
    "pycharm": {
     "name": "#%%\n"
    }
   },
   "outputs": [
    {
     "name": "stdout",
     "output_type": "stream",
     "text": [
      "Iteration 0, the loss is 137.25197576135898, parameters k is 29.780813586580315 and b is 45.2250883483782\n",
      "Iteration 1, the loss is 135.7117408611767, parameters k is 29.401309317805612 and b is 45.1250883483782\n",
      "Iteration 2, the loss is 134.17150596099458, parameters k is 29.02180504903091 and b is 45.0250883483782\n",
      "Iteration 3, the loss is 132.63127106081242, parameters k is 28.642300780256207 and b is 44.925088348378196\n",
      "Iteration 4, the loss is 131.09103616063007, parameters k is 28.262796511481504 and b is 44.825088348378195\n",
      "Iteration 5, the loss is 129.55080126044786, parameters k is 27.8832922427068 and b is 44.72508834837819\n",
      "Iteration 6, the loss is 128.0105663602656, parameters k is 27.5037879739321 and b is 44.62508834837819\n",
      "Iteration 7, the loss is 126.47033146008346, parameters k is 27.124283705157396 and b is 44.52508834837819\n",
      "Iteration 8, the loss is 124.93009655990126, parameters k is 26.744779436382693 and b is 44.42508834837819\n",
      "Iteration 9, the loss is 123.38986165971892, parameters k is 26.36527516760799 and b is 44.32508834837819\n",
      "Iteration 10, the loss is 121.8496267595367, parameters k is 25.985770898833287 and b is 44.225088348378186\n",
      "Iteration 11, the loss is 120.30939185935452, parameters k is 25.606266630058585 and b is 44.125088348378185\n",
      "Iteration 12, the loss is 118.7691569591723, parameters k is 25.226762361283882 and b is 44.02508834837818\n",
      "Iteration 13, the loss is 117.2289220589901, parameters k is 24.84725809250918 and b is 43.92508834837818\n",
      "Iteration 14, the loss is 115.68868715880781, parameters k is 24.467753823734476 and b is 43.82508834837818\n",
      "Iteration 15, the loss is 114.14845225862567, parameters k is 24.088249554959773 and b is 43.72508834837818\n",
      "Iteration 16, the loss is 112.60821735844335, parameters k is 23.70874528618507 and b is 43.62508834837818\n",
      "Iteration 17, the loss is 111.06798245826124, parameters k is 23.329241017410368 and b is 43.525088348378176\n",
      "Iteration 18, the loss is 109.52774755807894, parameters k is 22.949736748635665 and b is 43.425088348378175\n",
      "Iteration 19, the loss is 107.9875126578966, parameters k is 22.570232479860962 and b is 43.32508834837817\n",
      "Iteration 20, the loss is 106.44727775771436, parameters k is 22.19072821108626 and b is 43.22508834837817\n",
      "Iteration 21, the loss is 104.9070428575323, parameters k is 21.811223942311557 and b is 43.12508834837817\n",
      "Iteration 22, the loss is 103.36680795735009, parameters k is 21.431719673536854 and b is 43.02508834837817\n",
      "Iteration 23, the loss is 101.82657305716793, parameters k is 21.05221540476215 and b is 42.92508834837817\n",
      "Iteration 24, the loss is 100.28633815698556, parameters k is 20.67271113598745 and b is 42.825088348378166\n",
      "Iteration 25, the loss is 98.74610325680335, parameters k is 20.293206867212746 and b is 42.725088348378165\n",
      "Iteration 26, the loss is 97.20586835662111, parameters k is 19.913702598438043 and b is 42.62508834837816\n",
      "Iteration 27, the loss is 95.66563345643898, parameters k is 19.53419832966334 and b is 42.52508834837816\n",
      "Iteration 28, the loss is 94.12539855625656, parameters k is 19.154694060888637 and b is 42.42508834837816\n",
      "Iteration 29, the loss is 92.58516365607454, parameters k is 18.775189792113935 and b is 42.32508834837816\n",
      "Iteration 30, the loss is 91.04492875589231, parameters k is 18.395685523339232 and b is 42.22508834837816\n",
      "Iteration 31, the loss is 89.50469385571012, parameters k is 18.01618125456453 and b is 42.125088348378156\n",
      "Iteration 32, the loss is 87.96445895552787, parameters k is 17.636676985789826 and b is 42.025088348378155\n",
      "Iteration 33, the loss is 86.42422405534562, parameters k is 17.257172717015123 and b is 41.925088348378154\n",
      "Iteration 34, the loss is 84.88398915516329, parameters k is 16.87766844824042 and b is 41.82508834837815\n",
      "Iteration 35, the loss is 83.34375425498112, parameters k is 16.498164179465718 and b is 41.72508834837815\n",
      "Iteration 36, the loss is 81.80351935479898, parameters k is 16.118659910691015 and b is 41.62508834837815\n",
      "Iteration 37, the loss is 80.26328445461661, parameters k is 15.739155641916312 and b is 41.52508834837815\n",
      "Iteration 38, the loss is 78.72304955443448, parameters k is 15.35965137314161 and b is 41.42508834837815\n",
      "Iteration 39, the loss is 77.18281465425224, parameters k is 14.980147104366907 and b is 41.325088348378145\n",
      "Iteration 40, the loss is 75.64257975407004, parameters k is 14.600642835592204 and b is 41.225088348378144\n",
      "Iteration 41, the loss is 74.10234485388781, parameters k is 14.221138566817501 and b is 41.12508834837814\n",
      "Iteration 42, the loss is 72.56210995370564, parameters k is 13.841634298042798 and b is 41.02508834837814\n",
      "Iteration 43, the loss is 71.02187505352342, parameters k is 13.462130029268096 and b is 40.92508834837814\n",
      "Iteration 44, the loss is 69.4816401533412, parameters k is 13.082625760493393 and b is 40.82508834837814\n",
      "Iteration 45, the loss is 67.94140525315882, parameters k is 12.70312149171869 and b is 40.72508834837814\n",
      "Iteration 46, the loss is 66.4011703529767, parameters k is 12.323617222943987 and b is 40.625088348378135\n",
      "Iteration 47, the loss is 64.86093545279448, parameters k is 11.944112954169285 and b is 40.525088348378134\n",
      "Iteration 48, the loss is 63.320700552612344, parameters k is 11.564608685394582 and b is 40.42508834837813\n",
      "Iteration 49, the loss is 61.780465652430046, parameters k is 11.185104416619879 and b is 40.32508834837813\n",
      "Iteration 50, the loss is 60.240230752247804, parameters k is 10.805600147845176 and b is 40.22508834837813\n",
      "Iteration 51, the loss is 58.69999585206558, parameters k is 10.426095879070473 and b is 40.12508834837813\n",
      "Iteration 52, the loss is 57.15976095188332, parameters k is 10.04659161029577 and b is 40.02508834837813\n",
      "Iteration 53, the loss is 55.619526051701136, parameters k is 9.667087341521068 and b is 39.925088348378125\n",
      "Iteration 54, the loss is 54.079291151518895, parameters k is 9.287583072746365 and b is 39.825088348378124\n",
      "Iteration 55, the loss is 52.539056251336675, parameters k is 8.908078803971662 and b is 39.72508834837812\n",
      "Iteration 56, the loss is 50.999660662753854, parameters k is 8.529021017410397 and b is 39.625483605295116\n",
      "Iteration 57, the loss is 49.465666615881574, parameters k is 8.150900582627788 and b is 39.5266693760461\n",
      "Iteration 58, the loss is 47.938273464858895, parameters k is 7.77278014784518 and b is 39.427855146797086\n",
      "Iteration 59, the loss is 46.41183576574468, parameters k is 7.395722637963757 and b is 39.32983143138207\n",
      "Iteration 60, the loss is 44.894025620327206, parameters k is 7.018665128082334 and b is 39.23180771596705\n",
      "Iteration 61, the loss is 43.37621547490974, parameters k is 6.6416076182009105 and b is 39.13378400055203\n",
      "Iteration 62, the loss is 41.85840532949236, parameters k is 6.264550108319487 and b is 39.035760285137016\n",
      "Iteration 63, the loss is 40.3405951840749, parameters k is 5.887492598438064 and b is 38.937736569722\n",
      "Iteration 64, the loss is 38.824598830200905, parameters k is 5.511146946264152 and b is 38.84010811122398\n",
      "Iteration 65, the loss is 37.31410292842443, parameters k is 5.135580305947946 and b is 38.74287490964295\n",
      "Iteration 66, the loss is 35.81570197287833, parameters k is 4.762483468003282 and b is 38.64682747881291\n",
      "Iteration 67, the loss is 34.331438378344735, parameters k is 4.389386630058618 and b is 38.55078004798287\n",
      "Iteration 68, the loss is 32.851222174869605, parameters k is 4.018151491718697 and b is 38.45552313098682\n",
      "Iteration 69, the loss is 31.382328093131125, parameters k is 3.6469163533787765 and b is 38.36026621399077\n",
      "Iteration 70, the loss is 29.91771898804389, parameters k is 3.276825246659409 and b is 38.265404553911715\n",
      "Iteration 71, the loss is 28.463003520446744, parameters k is 2.9079986458688953 and b is 38.17093815074966\n",
      "Iteration 72, the loss is 27.01343389267609, parameters k is 2.5391720450783817 and b is 38.07647174758761\n",
      "Iteration 73, the loss is 25.567833808557882, parameters k is 2.1731229146435993 and b is 37.98279585825955\n",
      "Iteration 74, the loss is 24.147631336200224, parameters k is 1.8110865114815442 and b is 37.890305739682475\n",
      "Iteration 75, the loss is 22.771501931834834, parameters k is 1.4575088830230465 and b is 37.79979190569038\n",
      "Iteration 76, the loss is 21.448364980072053, parameters k is 1.1092284087147464 and b is 37.71046384244927\n",
      "Iteration 77, the loss is 20.155577063403832, parameters k is 0.7609479344064464 and b is 37.62113577920817\n",
      "Iteration 78, the loss is 18.87389021240972, parameters k is 0.41777240080960876 and b is 37.53299348671805\n",
      "Iteration 79, the loss is 17.633104342257294, parameters k is 0.08059556286494501 and b is 37.44564170806192\n",
      "Iteration 80, the loss is 16.424698898759956, parameters k is -0.2541323422733946 and b is 37.35908044323978\n",
      "Iteration 81, the loss is 15.250951567662291, parameters k is -0.5734927375303115 and b is 37.27528597683662\n",
      "Iteration 82, the loss is 14.19888515951528, parameters k is -0.8626774410876237 and b is 37.1970251072714\n",
      "Iteration 83, the loss is 13.343486347885644, parameters k is -1.1254583106528409 and b is 37.12271680687614\n",
      "Iteration 84, the loss is 12.617898933951276, parameters k is -1.373299733577742 and b is 37.05078004798286\n",
      "Iteration 85, the loss is 11.983779189672035, parameters k is -1.597547717767465 and b is 36.98279585825954\n",
      "Iteration 86, the loss is 11.46585653282557, parameters k is -1.7887258205342635 and b is 36.91995000845717\n",
      "Iteration 87, the loss is 11.115772235919087, parameters k is -1.9293347928662794 and b is 36.86421878316073\n",
      "Iteration 88, the loss is 10.900841942722609, parameters k is -2.0515158600599555 and b is 36.81125435628326\n",
      "Iteration 89, the loss is 10.732624767269815, parameters k is -2.150536966779323 and b is 36.76184724165875\n",
      "Iteration 90, the loss is 10.614711256838495, parameters k is -2.2406259786370306 and b is 36.71402115470223\n",
      "Iteration 91, the loss is 10.515236178343086, parameters k is -2.3188716308109436 and b is 36.668566609247684\n",
      "Iteration 92, the loss is 10.439006720094355, parameters k is -2.384593528044145 and b is 36.62508834837812\n",
      "Iteration 93, the loss is 10.384374112527642, parameters k is -2.4347487059097577 and b is 36.58516739976152\n",
      "Iteration 94, the loss is 10.34813212098966, parameters k is -2.4686312355540263 and b is 36.54761799264689\n",
      "Iteration 95, the loss is 10.324318949643287, parameters k is -2.4931572434591645 and b is 36.51164961320025\n",
      "Iteration 96, the loss is 10.307150244215096, parameters k is -2.5100439628267535 and b is 36.4768670045046\n",
      "Iteration 97, the loss is 10.29266389031123, parameters k is -2.5247900102575835 and b is 36.44247965272594\n",
      "Iteration 98, the loss is 10.279032728202152, parameters k is -2.537401393656793 and b is 36.408487557864284\n",
      "Iteration 99, the loss is 10.266004879066564, parameters k is -2.548262184170627 and b is 36.37489071991962\n",
      "Iteration 100, the loss is 10.253656912383393, parameters k is -2.556624950969046 and b is 36.34168913889195\n",
      "Iteration 101, the loss is 10.242315796966253, parameters k is -2.559997203933473 and b is 36.30927807169827\n",
      "Iteration 102, the loss is 10.232109666714418, parameters k is -2.554082342273394 and b is 36.27884328908958\n",
      "Iteration 103, the loss is 10.222497050905456, parameters k is -2.5481674806133148 and b is 36.248408506480885\n",
      "Iteration 104, the loss is 10.21292399496267, parameters k is -2.5463691011666745 and b is 36.217578466955196\n",
      "Iteration 105, the loss is 10.203521963779668, parameters k is -2.5394530932615362 and b is 36.1875389412635\n",
      "Iteration 106, the loss is 10.19401992108841, parameters k is -2.532537085356398 and b is 36.1574994155718\n",
      "Iteration 107, the loss is 10.184615592487223, parameters k is -2.5307387059097577 and b is 36.12666937604611\n",
      "Iteration 108, the loss is 10.175132304688379, parameters k is -2.5238226980046194 and b is 36.09662985035441\n",
      "Iteration 109, the loss is 10.16569276372053, parameters k is -2.522024318557979 and b is 36.06579981082872\n",
      "Iteration 110, the loss is 10.156297754921631, parameters k is -2.5142652671745798 and b is 36.03615554205402\n",
      "Iteration 111, the loss is 10.146981457176429, parameters k is -2.5116238442496788 and b is 36.005720759445325\n",
      "Iteration 112, the loss is 10.137681254481215, parameters k is -2.506478033972999 and b is 35.975681233753626\n",
      "Iteration 113, the loss is 10.128392729809349, parameters k is -2.5013322236963194 and b is 35.94564170806193\n",
      "Iteration 114, the loss is 10.119104205137505, parameters k is -2.4961864134196396 and b is 35.91560218237023\n",
      "Iteration 115, the loss is 10.10981568046564, parameters k is -2.49104060314296 and b is 35.88556265667853\n",
      "Iteration 116, the loss is 10.100535378288264, parameters k is -2.488399180218059 and b is 35.85512787406984\n",
      "Iteration 117, the loss is 10.091248768840499, parameters k is -2.4832533699413792 and b is 35.82508834837814\n",
      "Iteration 118, the loss is 10.081960244168648, parameters k is -2.4781075596646995 and b is 35.79504882268644\n",
      "Iteration 119, the loss is 10.072671719496794, parameters k is -2.47296174938802 and b is 35.76500929699474\n",
      "Iteration 120, the loss is 10.063383194824928, parameters k is -2.46781593911134 and b is 35.73496977130304\n",
      "Iteration 121, the loss is 10.054094670153075, parameters k is -2.4626701288346604 and b is 35.704930245611344\n",
      "Iteration 122, the loss is 10.044810912446842, parameters k is -2.4600287059097594 and b is 35.67449546300265\n",
      "Iteration 123, the loss is 10.035527758527952, parameters k is -2.4548828956330797 and b is 35.64445593731095\n",
      "Iteration 124, the loss is 10.026239233856097, parameters k is -2.4497370853564 and b is 35.61441641161925\n",
      "Iteration 125, the loss is 10.016950709184231, parameters k is -2.4445912750797203 and b is 35.584376885927554\n",
      "Iteration 126, the loss is 10.007662184512375, parameters k is -2.4394454648030406 and b is 35.554337360235856\n",
      "Iteration 127, the loss is 9.99839242780195, parameters k is -2.4324105636172697 and b is 35.52469309146115\n",
      "Iteration 128, the loss is 9.989159886613997, parameters k is -2.4278800497832775 and b is 35.494653565769454\n",
      "Iteration 129, the loss is 9.979930900020173, parameters k is -2.4233495359492854 and b is 35.464614040077755\n",
      "Iteration 130, the loss is 9.970701913426357, parameters k is -2.418819022115293 and b is 35.43457451438606\n",
      "Iteration 131, the loss is 9.961472926832533, parameters k is -2.414288508281301 and b is 35.40453498869436\n",
      "Iteration 132, the loss is 9.952243940238716, parameters k is -2.409757994447309 and b is 35.37449546300266\n",
      "Iteration 133, the loss is 9.943056351552492, parameters k is -2.403934160455214 and b is 35.34485119422796\n",
      "Iteration 134, the loss is 9.933929354416968, parameters k is -2.398110326463119 and b is 35.31520692545325\n",
      "Iteration 135, the loss is 9.924802357281418, parameters k is -2.3922864924710243 and b is 35.28556265667855\n",
      "Iteration 136, the loss is 9.915675360145867, parameters k is -2.3864626584789295 and b is 35.25591838790385\n",
      "Iteration 137, the loss is 9.906580520369006, parameters k is -2.38326360709553 and b is 35.22587886221215\n",
      "Iteration 138, the loss is 9.897457057833744, parameters k is -2.3774397731034353 and b is 35.196234593437445\n",
      "Iteration 139, the loss is 9.88836314485706, parameters k is -2.374240721720036 and b is 35.16619506774575\n",
      "Iteration 140, the loss is 9.87923875552163, parameters k is -2.3684168877279412 and b is 35.136550798971044\n",
      "Iteration 141, the loss is 9.870145769345132, parameters k is -2.365217836344542 and b is 35.106511273279345\n",
      "Iteration 142, the loss is 9.861020453209502, parameters k is -2.359394002352447 and b is 35.07686700450464\n",
      "Iteration 143, the loss is 9.851928393833171, parameters k is -2.356194950969048 and b is 35.04682747881294\n",
      "Iteration 144, the loss is 9.842802323497805, parameters k is -2.3529958995856486 and b is 35.016787953121245\n",
      "Iteration 145, the loss is 9.833710845720782, parameters k is -2.3471720655935537 and b is 34.98714368434654\n",
      "Iteration 146, the loss is 9.824584947985876, parameters k is -2.3439730142101545 and b is 34.95710415865484\n",
      "Iteration 147, the loss is 9.815492543408663, parameters k is -2.3381491802180596 and b is 34.92745988988014\n",
      "Iteration 148, the loss is 9.806367572473919, parameters k is -2.3349501288346604 and b is 34.89742036418844\n",
      "Iteration 149, the loss is 9.797274241096524, parameters k is -2.3291262948425655 and b is 34.86777609541374\n",
      "Iteration 150, the loss is 9.788150196961977, parameters k is -2.3259272434591662 and b is 34.83773656972204\n",
      "Iteration 151, the loss is 9.7790559387844, parameters k is -2.3201034094670714 and b is 34.80809230094734\n",
      "Iteration 152, the loss is 9.76993282145004, parameters k is -2.316904358083672 and b is 34.77805277525564\n",
      "Iteration 153, the loss is 9.76084587729439, parameters k is -2.3085761367397986 and b is 34.74880376339793\n",
      "Iteration 154, the loss is 9.751754062603, parameters k is -2.3053770853563993 and b is 34.71876423770623\n",
      "Iteration 155, the loss is 9.742693832061393, parameters k is -2.301383290889996 and b is 34.68911996893153\n",
      "Iteration 156, the loss is 9.733746501407143, parameters k is -2.297389496423593 and b is 34.659475700156825\n",
      "Iteration 157, the loss is 9.724799170752865, parameters k is -2.2933957019571896 and b is 34.62983143138212\n",
      "Iteration 158, the loss is 9.715857188224245, parameters k is -2.2868975201390076 and b is 34.600582419524414\n",
      "Iteration 159, the loss is 9.706921660383692, parameters k is -2.2829037256726044 and b is 34.57093815074971\n",
      "Iteration 160, the loss is 9.697974329729416, parameters k is -2.278909931206201 and b is 34.54129388197501\n",
      "Iteration 161, the loss is 9.68907711341155, parameters k is -2.2711359391113395 and b is 34.512440127034296\n",
      "Iteration 162, the loss is 9.680195573697766, parameters k is -2.265502618953237 and b is 34.48319111517659\n",
      "Iteration 163, the loss is 9.671323183791207, parameters k is -2.259869298795134 and b is 34.45394210331888\n",
      "Iteration 164, the loss is 9.662450793884645, parameters k is -2.2542359786370314 and b is 34.42469309146117\n",
      "Iteration 165, the loss is 9.653578403978079, parameters k is -2.2486026584789287 and b is 34.395444079603465\n",
      "Iteration 166, the loss is 9.644706014071518, parameters k is -2.242969338320826 and b is 34.36619506774576\n",
      "Iteration 167, the loss is 9.635833624164958, parameters k is -2.2373360181627233 and b is 34.33694605588805\n",
      "Iteration 168, the loss is 9.6269612342584, parameters k is -2.2317026980046206 and b is 34.30769704403034\n",
      "Iteration 169, the loss is 9.618088844351849, parameters k is -2.226069377846518 and b is 34.27844803217263\n",
      "Iteration 170, the loss is 9.609216454445287, parameters k is -2.2204360576884152 and b is 34.249199020314926\n",
      "Iteration 171, the loss is 9.600344064538735, parameters k is -2.2148027375303125 and b is 34.21995000845722\n",
      "Iteration 172, the loss is 9.591471674632164, parameters k is -2.20916941737221 and b is 34.19070099659951\n",
      "Iteration 173, the loss is 9.582599284725607, parameters k is -2.203536097214107 and b is 34.1614519847418\n",
      "Iteration 174, the loss is 9.573726894819053, parameters k is -2.1979027770560045 and b is 34.132202972884095\n",
      "Iteration 175, the loss is 9.564854504912473, parameters k is -2.1922694568979018 and b is 34.10295396102639\n",
      "Iteration 176, the loss is 9.555982115005921, parameters k is -2.186636136739799 and b is 34.07370494916868\n",
      "Iteration 177, the loss is 9.547109725099364, parameters k is -2.1810028165816964 and b is 34.04445593731097\n",
      "Iteration 178, the loss is 9.538237335192806, parameters k is -2.1753694964235937 and b is 34.01520692545326\n",
      "Iteration 179, the loss is 9.529364945286243, parameters k is -2.169736176265491 and b is 33.985957913595556\n",
      "Iteration 180, the loss is 9.520492555379677, parameters k is -2.1641028561073883 and b is 33.95670890173785\n",
      "Iteration 181, the loss is 9.511620165473119, parameters k is -2.1584695359492856 and b is 33.92745988988014\n",
      "Iteration 182, the loss is 9.502747775566558, parameters k is -2.152836215791183 and b is 33.89821087802243\n",
      "Iteration 183, the loss is 9.493875385659997, parameters k is -2.14720289563308 and b is 33.868961866164724\n",
      "Iteration 184, the loss is 9.485002995753444, parameters k is -2.1415695754749775 and b is 33.83971285430702\n",
      "Iteration 185, the loss is 9.476150341567454, parameters k is -2.13843427903229 and b is 33.81006858553231\n",
      "Iteration 186, the loss is 9.467283328871309, parameters k is -2.132800958874187 and b is 33.780819573674606\n",
      "Iteration 187, the loss is 9.458416937042191, parameters k is -2.1296656624314996 and b is 33.7511753048999\n",
      "Iteration 188, the loss is 9.449563661989187, parameters k is -2.124032342273397 and b is 33.721926293042195\n",
      "Iteration 189, the loss is 9.440691272082624, parameters k is -2.118399022115294 and b is 33.69267728118449\n",
      "Iteration 190, the loss is 9.431836255541354, parameters k is -2.1152637256726066 and b is 33.663033012409784\n",
      "Iteration 191, the loss is 9.422971605200505, parameters k is -2.109630405514504 and b is 33.633784000552076\n",
      "Iteration 192, the loss is 9.414102851016075, parameters k is -2.1064951090718163 and b is 33.60413973177737\n",
      "Iteration 193, the loss is 9.405269436853732, parameters k is -2.0987211169769546 and b is 33.57528597683666\n",
      "Iteration 194, the loss is 9.396419501102546, parameters k is -2.095585820534267 and b is 33.54564170806196\n",
      "Iteration 195, the loss is 9.387548557495013, parameters k is -2.0903098521548205 and b is 33.51639269620425\n",
      "Iteration 196, the loss is 9.378715152125096, parameters k is -2.085033883775374 and b is 33.48714368434654\n",
      "Iteration 197, the loss is 9.36988174675516, parameters k is -2.0797579153959274 and b is 33.457894672488834\n",
      "Iteration 198, the loss is 9.361048341385233, parameters k is -2.074481947016481 and b is 33.428645660631126\n",
      "Iteration 199, the loss is 9.35223673747945, parameters k is -2.067484674289208 and b is 33.399791905690414\n",
      "Iteration 200, the loss is 9.343431615458568, parameters k is -2.062628073498694 and b is 33.370542893832706\n",
      "Iteration 201, the loss is 9.334642459674868, parameters k is -2.055630800771421 and b is 33.341689138891994\n",
      "Iteration 202, the loss is 9.325861434993064, parameters k is -2.050774199980907 and b is 33.312440127034286\n",
      "Iteration 203, the loss is 9.31707052233416, parameters k is -2.045917599190393 and b is 33.28319111517658\n",
      "Iteration 204, the loss is 9.30827960967524, parameters k is -2.041060998399879 and b is 33.25394210331887\n",
      "Iteration 205, the loss is 9.299489646257113, parameters k is -2.034063725672606 and b is 33.22508834837816\n",
      "Iteration 206, the loss is 9.29070942920975, parameters k is -2.029207124882092 and b is 33.19583933652045\n",
      "Iteration 207, the loss is 9.281918516550832, parameters k is -2.0243505240915782 and b is 33.16659032466274\n",
      "Iteration 208, the loss is 9.27312760389194, parameters k is -2.0194939233010643 and b is 33.137341312805034\n",
      "Iteration 209, the loss is 9.26433683283936, parameters k is -2.0124966505737913 and b is 33.10848755786432\n",
      "Iteration 210, the loss is 9.255557423426447, parameters k is -2.0076400497832774 and b is 33.079238546006614\n",
      "Iteration 211, the loss is 9.246766510767536, parameters k is -2.0027834489927634 and b is 33.04998953414891\n",
      "Iteration 212, the loss is 9.238028334592675, parameters k is -1.9968289035382178 and b is 33.021135779208194\n",
      "Iteration 213, the loss is 9.229348376735192, parameters k is -1.9908743580836723 and b is 32.99228202426748\n",
      "Iteration 214, the loss is 9.220668418877688, parameters k is -1.9849198126291268 and b is 32.96342826932677\n",
      "Iteration 215, the loss is 9.211988461020216, parameters k is -1.9789652671745812 and b is 32.93457451438606\n",
      "Iteration 216, the loss is 9.203308503162718, parameters k is -1.9730107217200357 and b is 32.905720759445344\n",
      "Iteration 217, the loss is 9.194628545305228, parameters k is -1.9670561762654901 and b is 32.87686700450463\n",
      "Iteration 218, the loss is 9.18596220670743, parameters k is -1.963467362036241 and b is 32.847617992646924\n",
      "Iteration 219, the loss is 9.177295451669167, parameters k is -1.9575128165816955 and b is 32.81876423770621\n",
      "Iteration 220, the loss is 9.168625228106627, parameters k is -1.9539240023524465 and b is 32.789515225848504\n",
      "Iteration 221, the loss is 9.159962358033132, parameters k is -1.947969456897901 and b is 32.76066147090779\n",
      "Iteration 222, the loss is 9.15128824950582, parameters k is -1.9443806426686518 and b is 32.731412459050084\n",
      "Iteration 223, the loss is 9.142659915939404, parameters k is -1.9363649904947389 and b is 32.70295396102637\n",
      "Iteration 224, the loss is 9.134040113355145, parameters k is -1.935632065593553 and b is 32.673309692251664\n",
      "Iteration 225, the loss is 9.12546253711986, parameters k is -1.9254757414828811 and b is 32.64524645114494\n",
      "Iteration 226, the loss is 9.116913626689728, parameters k is -1.927910247411735 and b is 32.61520692545324\n",
      "Iteration 227, the loss is 9.10837276470176, parameters k is -1.917753923301063 and b is 32.58714368434652\n",
      "Iteration 228, the loss is 9.099699898002559, parameters k is -1.918127322510549 and b is 32.55749941557182\n",
      "Iteration 229, the loss is 9.091225214402499, parameters k is -1.9064115517595608 and b is 32.52983143138209\n",
      "Iteration 230, the loss is 9.082752452018616, parameters k is -1.9067849509690469 and b is 32.50018716260739\n",
      "Iteration 231, the loss is 9.074208703134751, parameters k is -1.9010925003761614 and b is 32.47172866458367\n",
      "Iteration 232, the loss is 9.065785802099578, parameters k is -1.895400049783276 and b is 32.443270166559955\n",
      "Iteration 233, the loss is 9.057362901064387, parameters k is -1.8897075991903904 and b is 32.41481166853624\n",
      "Iteration 234, the loss is 9.048957173053317, parameters k is -1.8863808798228014 and b is 32.385957913595526\n",
      "Iteration 235, the loss is 9.040581922862234, parameters k is -1.8790128561073864 and b is 32.357894672488804\n",
      "Iteration 236, the loss is 9.032208803650267, parameters k is -1.874010563617268 and b is 32.32943617446509\n",
      "Iteration 237, the loss is 9.02385971325105, parameters k is -1.8690082711271494 and b is 32.30097767644137\n",
      "Iteration 238, the loss is 9.015510622851822, parameters k is -1.8640059786370309 and b is 32.27251917841765\n",
      "Iteration 239, the loss is 9.007161532452585, parameters k is -1.8590036861469124 and b is 32.244060680393936\n",
      "Iteration 240, the loss is 8.998812442053367, parameters k is -1.8540013936567938 and b is 32.21560218237022\n",
      "Iteration 241, the loss is 8.990472465272276, parameters k is -1.8472044766607463 and b is 32.1875389412635\n",
      "Iteration 242, the loss is 8.982136973069933, parameters k is -1.8422021841706278 and b is 32.15908044323978\n",
      "Iteration 243, the loss is 8.973808650867431, parameters k is -1.8354052671745802 and b is 32.13101720213306\n",
      "Iteration 244, the loss is 8.96547121504678, parameters k is -1.8286083501785326 and b is 32.10295396102634\n",
      "Iteration 245, the loss is 8.957135125502315, parameters k is -1.823606057688414 and b is 32.07449546300262\n",
      "Iteration 246, the loss is 8.948807400641932, parameters k is -1.8168091406923665 and b is 32.0464322218959\n",
      "Iteration 247, the loss is 8.94049674583638, parameters k is -1.812152895633078 and b is 32.01797372387218\n",
      "Iteration 248, the loss is 8.932190875611154, parameters k is -1.8106408798228013 and b is 31.98911996893147\n",
      "Iteration 249, the loss is 8.923967037516777, parameters k is -1.8038439628267537 and b is 31.96105672782475\n",
      "Iteration 250, the loss is 8.915698499463907, parameters k is -1.8033587059097578 and b is 31.93220297288404\n",
      "Iteration 251, the loss is 8.907499320368904, parameters k is -1.7965617889137102 and b is 31.90413973177732\n",
      "Iteration 252, the loss is 8.899240471652156, parameters k is -1.7960765319967142 and b is 31.875285976836608\n",
      "Iteration 253, the loss is 8.891031603221037, parameters k is -1.7892796150006667 and b is 31.84722273572989\n",
      "Iteration 254, the loss is 8.88278244384039, parameters k is -1.7887943580836707 and b is 31.818368980789177\n",
      "Iteration 255, the loss is 8.874586719390312, parameters k is -1.7786957019571885 and b is 31.79109625351645\n",
      "Iteration 256, the loss is 8.866536487035555, parameters k is -1.7782104450401925 and b is 31.762242498575738\n",
      "Iteration 257, the loss is 8.858325808276097, parameters k is -1.7744234489927617 and b is 31.73417925746902\n",
      "Iteration 258, the loss is 8.850306939871324, parameters k is -1.770636452945331 and b is 31.7061160163623\n",
      "Iteration 259, the loss is 8.842288071466553, parameters k is -1.7668494568979 and b is 31.678052775255583\n",
      "Iteration 260, the loss is 8.834273616962998, parameters k is -1.7618814727081766 and b is 31.65038479106586\n",
      "Iteration 261, the loss is 8.826371634802681, parameters k is -1.7569134885184532 and b is 31.622716806876138\n",
      "Iteration 262, the loss is 8.818469652642369, parameters k is -1.7519455043287298 and b is 31.595048822686415\n",
      "Iteration 263, the loss is 8.810567670482042, parameters k is -1.7469775201390063 and b is 31.567380838496693\n",
      "Iteration 264, the loss is 8.80266568832172, parameters k is -1.7420095359492829 and b is 31.53971285430697\n",
      "Iteration 265, the loss is 8.794763706161405, parameters k is -1.7370415517595594 and b is 31.512044870117247\n",
      "Iteration 266, the loss is 8.786861724001074, parameters k is -1.732073567569836 and b is 31.484376885927524\n",
      "Iteration 267, the loss is 8.778959741840755, parameters k is -1.7271055833801126 and b is 31.4567089017378\n",
      "Iteration 268, the loss is 8.77105775968044, parameters k is -1.7221375991903891 and b is 31.42904091754808\n",
      "Iteration 269, the loss is 8.76315577752011, parameters k is -1.7171696150006657 and b is 31.401372933358356\n",
      "Iteration 270, the loss is 8.755265792213736, parameters k is -1.7110727375303099 and b is 31.37410020608563\n",
      "Iteration 271, the loss is 8.747512097481227, parameters k is -1.7059889825895984 and b is 31.3468274788129\n",
      "Iteration 272, the loss is 8.739815635309315, parameters k is -1.700905227648887 and b is 31.319554751540174\n",
      "Iteration 273, the loss is 8.732119173137422, parameters k is -1.6958214727081755 and b is 31.292282024267447\n",
      "Iteration 274, the loss is 8.724422710965527, parameters k is -1.690737717767464 and b is 31.26500929699472\n",
      "Iteration 275, the loss is 8.71672624879363, parameters k is -1.6856539628267526 and b is 31.237736569721992\n",
      "Iteration 276, the loss is 8.70902978662174, parameters k is -1.6805702078860412 and b is 31.210463842449265\n",
      "Iteration 277, the loss is 8.701369664733582, parameters k is -1.6783796150006656 and b is 31.182795858259542\n",
      "Iteration 278, the loss is 8.693676146205872, parameters k is -1.6732958600599541 and b is 31.155523130986815\n",
      "Iteration 279, the loss is 8.68600932602648, parameters k is -1.6711052671745785 and b is 31.127855146797092\n",
      "Iteration 280, the loss is 8.678327992539424, parameters k is -1.6645008402971082 and b is 31.10097767644136\n",
      "Iteration 281, the loss is 8.670739945725014, parameters k is -1.659340603142958 and b is 31.074100206085628\n",
      "Iteration 282, the loss is 8.663249681122908, parameters k is -1.654180365988808 and b is 31.047222735729896\n",
      "Iteration 283, the loss is 8.655759416520805, parameters k is -1.6490201288346578 and b is 31.020345265374164\n",
      "Iteration 284, the loss is 8.648269151918708, parameters k is -1.6438598916805076 and b is 30.993467795018432\n",
      "Iteration 285, the loss is 8.640778887316602, parameters k is -1.6386996545263575 and b is 30.9665903246627\n",
      "Iteration 286, the loss is 8.633316782080051, parameters k is -1.6362793383208238 and b is 30.939317597389973\n",
      "Iteration 287, the loss is 8.625833509470475, parameters k is -1.6311191011666737 and b is 30.91244012703424\n",
      "Iteration 288, the loss is 8.618365073001762, parameters k is -1.62869878496114 and b is 30.885167399761514\n",
      "Iteration 289, the loss is 8.610888131624373, parameters k is -1.62353854780699 and b is 30.85828992940578\n",
      "Iteration 290, the loss is 8.60341336392349, parameters k is -1.6211182316014563 and b is 30.831017202133054\n",
      "Iteration 291, the loss is 8.595942753778246, parameters k is -1.6159579944473061 and b is 30.804139731777322\n",
      "Iteration 292, the loss is 8.588461654845196, parameters k is -1.6135376782417725 and b is 30.776867004504595\n",
      "Iteration 293, the loss is 8.580997375932139, parameters k is -1.6083774410876224 and b is 30.749989534148863\n",
      "Iteration 294, the loss is 8.57350994576691, parameters k is -1.6059571248820887 and b is 30.722716806876136\n",
      "Iteration 295, the loss is 8.566051998086015, parameters k is -1.6007968877279386 and b is 30.695839336520404\n",
      "Iteration 296, the loss is 8.558561733483918, parameters k is -1.5956366505737885 and b is 30.668961866164672\n",
      "Iteration 297, the loss is 8.551103123444605, parameters k is -1.5932163343682548 and b is 30.641689138891945\n",
      "Iteration 298, the loss is 8.54361635563779, parameters k is -1.5880560972141047 and b is 30.614811668536213\n",
      "Iteration 299, the loss is 8.536176703268694, parameters k is -1.584087362036239 and b is 30.58793419818048\n"
     ]
    }
   ],
   "source": [
    "k = random.random()*100 - 50\n",
    "b = random.random()*100 - 50\n",
    "learning_rate = 1e-1\n",
    "iteration_num =300\n",
    "losses = []\n",
    "for i in range(iteration_num):\n",
    "    price_current_use_params = [price(r, k, b) for r in x_dis]\n",
    "    current_loss = loss(y,price_current_use_params)\n",
    "    losses.append(current_loss)\n",
    "    k_gradient = partial_derivative_k(x_dis,y,price_current_use_params)\n",
    "    b_gradient = partial_derivative_b(x_dis,y,price_current_use_params)\n",
    "    k = k+(-1*k_gradient)*learning_rate\n",
    "    b = b+(-1*b_gradient)*learning_rate\n",
    "    print(\"Iteration {}, the loss is {}, parameters k is {} and b is {}\".format(i,current_loss,k,b))\n",
    "best_k = k\n",
    "best_b = b"
   ]
  },
  {
   "cell_type": "code",
   "execution_count": 41,
   "metadata": {
    "pycharm": {
     "name": "#%%\n"
    }
   },
   "outputs": [
    {
     "data": {
      "text/plain": [
       "[<matplotlib.lines.Line2D at 0x1e3ec779f98>]"
      ]
     },
     "execution_count": 41,
     "metadata": {},
     "output_type": "execute_result"
    },
    {
     "data": {
      "image/png": "[encoded data removed]",
      "text/plain": [
       "<Figure size 432x288 with 1 Axes>"
      ]
     },
     "metadata": {
      "needs_background": "light"
     },
     "output_type": "display_data"
    }
   ],
   "source": [
    "plt.plot(list(range(iteration_num)),losses)"
   ]
  },
  {
   "cell_type": "code",
   "execution_count": 42,
   "metadata": {
    "pycharm": {
     "name": "#%%\n"
    }
   },
   "outputs": [
    {
     "data": {
      "text/plain": [
       "<matplotlib.collections.PathCollection at 0x1e3ec773400>"
      ]
     },
     "execution_count": 42,
     "metadata": {},
     "output_type": "execute_result"
    },
    {
     "data": {
      "image/png": "[encoded data removed]",
      "text/plain": [
       "<Figure size 432x288 with 1 Axes>"
      ]
     },
     "metadata": {
      "needs_background": "light"
     },
     "output_type": "display_data"
    }
   ],
   "source": [
    "price_use_best_parameters = [price(r, best_k, best_b) for r in x_dis]\n",
    "plt.scatter(x_dis,y)\n",
    "plt.scatter(x_dis,price_current_use_params)"
   ]
  },
  {
   "cell_type": "code",
   "execution_count": null,
   "metadata": {
    "pycharm": {
     "name": "#%%\n"
    }
   },
   "outputs": [],
   "source": []
  }
 ],
 "metadata": {
  "kernelspec": {
   "display_name": "Python 3",
   "language": "python",
   "name": "python3"
  },
  "language_info": {
   "codemirror_mode": {
    "name": "ipython",
    "version": 3
   },
   "file_extension": ".py",
   "mimetype": "text/x-python",
   "name": "python",
   "nbconvert_exporter": "python",
   "pygments_lexer": "ipython3",
   "version": "3.7.3"
  },
  "pycharm": {
   "stem_cell": {
    "cell_type": "raw",
    "metadata": {
     "collapsed": false
    },
    "source": []
   }
  }
 },
 "nbformat": 4,
 "nbformat_minor": 1
}
