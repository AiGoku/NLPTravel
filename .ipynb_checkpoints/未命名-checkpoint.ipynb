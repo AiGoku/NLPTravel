{
 "cells": [
  {
   "cell_type": "markdown",
   "metadata": {},
   "source": [
    "##基本理论部分"
   ]
  },
  {
   "cell_type": "markdown",
   "metadata": {},
   "source": [
    "#0：人脸识别、自动驾驶、医学影像识别、游戏机器人..."
   ]
  },
  {
   "cell_type": "markdown",
   "metadata": {},
   "source": [
    "基础理论部分\n",
    "0. Can you come up out 3 sceneraies which use AI methods?\n",
    "Ans: 人脸识别、自动驾驶、医学影像识别、游戏机器人...\n",
    "\n",
    "1. How do we use Github; Why do we use Jupyter and Pycharm;\n",
    "Ans: 通过使用github上传同步代码，版本管理，可通过github进行上传，clone下载，或通过git进行操作\n",
    "jupyter：简单方便、随时可以调试、可随时添加修改代码随时调试、方便机器学习调参数、方便交互、能浏览上次调试时的结果\n",
    "pycharm：作为python 最大的IDLE之一，提高开发效率、代码补全、项目管理、版本控制、单元测试等等、\n",
    "\n",
    "2. What's the Probability Model?\n",
    "Ans:\n",
    "\n",
    "3. Can you came up with some sceneraies at which we could use Probability Model?\n",
    "Ans:论文查重\n",
    "\n",
    "4. Why do we use probability and what's the difficult points for programming based on parsing and pattern match?\n",
    "Ans:\n",
    "\n",
    "5. What's the Language Model;\n",
    "Ans:\n",
    "\n",
    "6. Can you came up with some sceneraies at which we could use Language Model?\n",
    "Ans:\n",
    "\n",
    "7. What's the 1-gram language model;\n",
    "Ans:\n",
    "\n",
    "8. What's the disadvantages and advantages of 1-gram language model;\n",
    "Ans:\n",
    "\n",
    "9. What't the 2-gram models;\n",
    "Ans:\n"
   ]
  },
  {
   "cell_type": "markdown",
   "metadata": {},
   "source": [
    "##基本理论部分"
   ]
  }
 ],
 "metadata": {
  "kernelspec": {
   "display_name": "Python 3",
   "language": "python",
   "name": "python3"
  },
  "language_info": {
   "codemirror_mode": {
    "name": "ipython",
    "version": 3
   },
   "file_extension": ".py",
   "mimetype": "text/x-python",
   "name": "python",
   "nbconvert_exporter": "python",
   "pygments_lexer": "ipython3",
   "version": "3.7.1"
  }
 },
 "nbformat": 4,
 "nbformat_minor": 2
}
