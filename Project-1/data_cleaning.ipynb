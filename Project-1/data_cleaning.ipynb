{
 "cells": [
  {
   "cell_type": "code",
   "execution_count": 54,
   "metadata": {},
   "outputs": [],
   "source": [
    "import re\n",
    "import codecs\n",
    "\n",
    "def data_cleaning_part1(input_file):   \n",
    "    p1 = re.compile(r'-\\{.*?(zh-hans|zh-cn):([^;]*?)(;.*?)?\\}-')\n",
    "    p2 = re.compile(r'[（\\(][，；。？！\\s]*[）\\)]')\n",
    "    p3 = re.compile(r'[「『]')\n",
    "    p4 = re.compile(r'[」』]')\n",
    "    outfile = codecs.open(input_file+'_new', 'w', 'utf-8')\n",
    "    with codecs.open(input_file, 'r', 'utf-8') as myfile:    \n",
    "        for line in myfile:\n",
    "            #过滤doc标签\n",
    "            if line.startswith(r'<doc '):continue\n",
    "            if line.startswith(r'</doc>'):continue\n",
    "            #过滤空行\n",
    "            if line =='\\n':continue\n",
    "            line = p1.sub(r'\\2', line)\n",
    "            line = p2.sub(r'', line)\n",
    "            line = p3.sub(r'“', line)\n",
    "            line = p4.sub(r'”', line)\n",
    "            outfile.write(line)\n",
    "        outfile.close()"
   ]
  },
  {
   "cell_type": "code",
   "execution_count": 55,
   "metadata": {},
   "outputs": [],
   "source": [
    "wiki_file1_path = '../Dataset/zh_wiki_00_new'\n",
    "wiki_file2_path = '../Dataset/zh_wiki_01_new'"
   ]
  },
  {
   "cell_type": "code",
   "execution_count": 56,
   "metadata": {},
   "outputs": [],
   "source": [
    "data_cleaning_part1(wiki_file2_path)"
   ]
  },
  {
   "cell_type": "code",
   "execution_count": 57,
   "metadata": {},
   "outputs": [],
   "source": [
    "data_cleaning_part1(wiki_file1_path)"
   ]
  },
  {
   "cell_type": "code",
   "execution_count": null,
   "metadata": {},
   "outputs": [],
   "source": []
  }
 ],
 "metadata": {
  "kernelspec": {
   "display_name": "Python 3",
   "language": "python",
   "name": "python3"
  },
  "language_info": {
   "codemirror_mode": {
    "name": "ipython",
    "version": 3
   },
   "file_extension": ".py",
   "mimetype": "text/x-python",
   "name": "python",
   "nbconvert_exporter": "python",
   "pygments_lexer": "ipython3",
   "version": "3.7.3"
  }
 },
 "nbformat": 4,
 "nbformat_minor": 2
}
